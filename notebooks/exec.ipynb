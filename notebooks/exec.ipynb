{
 "cells": [
  {
   "cell_type": "code",
   "execution_count": 1,
   "metadata": {},
   "outputs": [],
   "source": [
    "import geopandas as gpd\n",
    "import numpy as np\n",
    "import pandas as pd\n",
    "from glob import glob\n",
    "import matplotlib.pyplot as plt\n",
    "import matplotlib.colors as mcolors\n",
    "from itertools import product\n",
    "from modules.Table import TableUserInferface\n",
    "import os"
   ]
  },
  {
   "cell_type": "code",
   "execution_count": 2,
   "metadata": {},
   "outputs": [],
   "source": [
    "tui = TableUserInferface()"
   ]
  },
  {
   "cell_type": "code",
   "execution_count": 3,
   "metadata": {},
   "outputs": [],
   "source": [
    "plates_ids = list(tui.plates.keys())\n",
    "scenario_ids = [0, 1]"
   ]
  },
  {
   "cell_type": "code",
   "execution_count": 4,
   "metadata": {},
   "outputs": [],
   "source": [
    "# Genera todas las combinaciones posibles de estados para los slots\n",
    "combinaciones_estados = list(product(scenario_ids, repeat=len(plates_ids)))\n",
    "\n",
    "# Crea un DataFrame con las combinaciones de estados\n",
    "combinaciones_placas_estados = pd.DataFrame(combinaciones_estados, columns=plates_ids)"
   ]
  },
  {
   "cell_type": "code",
   "execution_count": 5,
   "metadata": {},
   "outputs": [],
   "source": [
    "# Ruta de la carpeta de exportación\n",
    "carpeta_exportacion = \"/app/export/\"\n",
    "\n",
    "# Crea las carpetas con los nombres de las combinaciones de estados\n",
    "for combinacion in combinaciones_estados:\n",
    "    nombre_carpeta = ''.join(map(str, combinacion))  # Convierte la combinación en una cadena\n",
    "    ruta_carpeta = os.path.join(carpeta_exportacion, nombre_carpeta)\n",
    "    os.makedirs(ruta_carpeta, exist_ok=True)"
   ]
  },
  {
   "cell_type": "code",
   "execution_count": 6,
   "metadata": {},
   "outputs": [],
   "source": [
    "def get_change_to_apply(lista1, lista2):\n",
    "    componentes_distintas = {}\n",
    "    indices = [1, 2, 4, 5, 6, 7, 8]\n",
    "\n",
    "    for indice, (valor_lista1, valor_lista2) in enumerate(zip(lista1, lista2)):\n",
    "        if valor_lista1 != valor_lista2:\n",
    "            componentes_distintas[indices[indice]] = valor_lista2\n",
    "    \n",
    "    return componentes_distintas\n",
    "\n",
    "def carpeta_vacia(ruta_carpeta):\n",
    "    # Enumera los archivos en la carpeta\n",
    "    archivos = os.listdir(ruta_carpeta)\n",
    "    \n",
    "    # Comprueba si la lista de archivos está vacía\n",
    "    if not archivos:\n",
    "        return True\n",
    "    else:\n",
    "        return False"
   ]
  },
  {
   "cell_type": "code",
   "execution_count": 7,
   "metadata": {},
   "outputs": [
    {
     "name": "stdout",
     "output_type": "stream",
     "text": [
      "index: 0\n",
      "\t0000000 archivos ya existentes\n",
      "index: 1\n",
      "\t0000001 archivos ya existentes\n",
      "index: 2\n",
      "\t0000010 archivos ya existentes\n",
      "index: 3\n",
      "\t0000011 archivos ya existentes\n",
      "index: 4\n",
      "\t0000100 archivos ya existentes\n",
      "index: 5\n",
      "\t0000101 guardando\n",
      "index: 6\n",
      "\t0000110 archivos ya existentes\n",
      "index: 7\n",
      "\t0000111 guardando\n",
      "index: 8\n",
      "\t0001000 archivos ya existentes\n",
      "index: 9\n",
      "\t0001001 guardando\n",
      "index: 10\n",
      "\t0001010 guardando\n",
      "index: 11\n",
      "\t0001011 guardando\n",
      "index: 12\n",
      "\t0001100 guardando\n",
      "index: 13\n",
      "\t0001101 guardando\n",
      "index: 14\n",
      "\t0001110 guardando\n",
      "index: 15\n",
      "\t0001111 guardando\n",
      "index: 16\n",
      "\t0010000 archivos ya existentes\n",
      "index: 17\n",
      "\t0010001 archivos ya existentes\n",
      "index: 18\n",
      "\t0010010 archivos ya existentes\n",
      "index: 19\n",
      "\t0010011 archivos ya existentes\n",
      "index: 20\n",
      "\t0010100 archivos ya existentes\n",
      "index: 21\n",
      "\t0010101 guardando\n",
      "index: 22\n",
      "\t0010110 archivos ya existentes\n",
      "index: 23\n",
      "\t0010111 guardando\n",
      "index: 24\n",
      "\t0011000 guardando\n",
      "index: 25\n"
     ]
    },
    {
     "ename": "KeyboardInterrupt",
     "evalue": "",
     "output_type": "error",
     "traceback": [
      "\u001b[0;31m---------------------------------------------------------------------------\u001b[0m",
      "\u001b[0;31mKeyboardInterrupt\u001b[0m                         Traceback (most recent call last)",
      "\u001b[1;32mc:\\Users\\CityLab Biobio - DS\\Dev\\clbb-io\\notebooks\\exec.ipynb Cell 7\u001b[0m line \u001b[0;36m9\n\u001b[1;32m      <a href='vscode-notebook-cell:/c%3A/Users/CityLab%20Biobio%20-%20DS/Dev/clbb-io/notebooks/exec.ipynb#W6sZmlsZQ%3D%3D?line=5'>6</a>\u001b[0m \u001b[39mprint\u001b[39m(\u001b[39mf\u001b[39m\u001b[39m'\u001b[39m\u001b[39mindex: \u001b[39m\u001b[39m{\u001b[39;00mindex\u001b[39m}\u001b[39;00m\u001b[39m'\u001b[39m)    \n\u001b[1;32m      <a href='vscode-notebook-cell:/c%3A/Users/CityLab%20Biobio%20-%20DS/Dev/clbb-io/notebooks/exec.ipynb#W6sZmlsZQ%3D%3D?line=7'>8</a>\u001b[0m \u001b[39mif\u001b[39;00m(carpeta_vacia(path)):\n\u001b[0;32m----> <a href='vscode-notebook-cell:/c%3A/Users/CityLab%20Biobio%20-%20DS/Dev/clbb-io/notebooks/exec.ipynb#W6sZmlsZQ%3D%3D?line=8'>9</a>\u001b[0m     tui \u001b[39m=\u001b[39m TableUserInferface()\n\u001b[1;32m     <a href='vscode-notebook-cell:/c%3A/Users/CityLab%20Biobio%20-%20DS/Dev/clbb-io/notebooks/exec.ipynb#W6sZmlsZQ%3D%3D?line=9'>10</a>\u001b[0m     componentes_distintas \u001b[39m=\u001b[39m get_change_to_apply(\u001b[39mlist\u001b[39m(tui\u001b[39m.\u001b[39mplate_states\u001b[39m.\u001b[39mvalues()), row\u001b[39m.\u001b[39mvalues)\n\u001b[1;32m     <a href='vscode-notebook-cell:/c%3A/Users/CityLab%20Biobio%20-%20DS/Dev/clbb-io/notebooks/exec.ipynb#W6sZmlsZQ%3D%3D?line=10'>11</a>\u001b[0m     \u001b[39mtry\u001b[39;00m:\n\u001b[1;32m     <a href='vscode-notebook-cell:/c%3A/Users/CityLab%20Biobio%20-%20DS/Dev/clbb-io/notebooks/exec.ipynb#W6sZmlsZQ%3D%3D?line=11'>12</a>\u001b[0m         \u001b[39m# print(list(tui.plate_states.values()))\u001b[39;00m\n\u001b[1;32m     <a href='vscode-notebook-cell:/c%3A/Users/CityLab%20Biobio%20-%20DS/Dev/clbb-io/notebooks/exec.ipynb#W6sZmlsZQ%3D%3D?line=12'>13</a>\u001b[0m         \u001b[39m# print(row.values)\u001b[39;00m\n\u001b[1;32m     <a href='vscode-notebook-cell:/c%3A/Users/CityLab%20Biobio%20-%20DS/Dev/clbb-io/notebooks/exec.ipynb#W6sZmlsZQ%3D%3D?line=13'>14</a>\u001b[0m         \u001b[39m# print(componentes_distintas)\u001b[39;00m\n",
      "File \u001b[0;32m/app/modules/Table.py:18\u001b[0m, in \u001b[0;36mTableUserInferface.__init__\u001b[0;34m(self)\u001b[0m\n\u001b[1;32m     16\u001b[0m \u001b[39mdef\u001b[39;00m \u001b[39m__init__\u001b[39m(\u001b[39mself\u001b[39m) \u001b[39m-\u001b[39m\u001b[39m>\u001b[39m \u001b[39mNone\u001b[39;00m:\n\u001b[1;32m     17\u001b[0m     \u001b[39msuper\u001b[39m()\u001b[39m.\u001b[39m\u001b[39m__init__\u001b[39m()\n\u001b[0;32m---> 18\u001b[0m     \u001b[39mself\u001b[39m\u001b[39m.\u001b[39mst \u001b[39m=\u001b[39m Streets\u001b[39m.\u001b[39;49mStreets()\n\u001b[1;32m     19\u001b[0m     \u001b[39mself\u001b[39m\u001b[39m.\u001b[39mga \u001b[39m=\u001b[39m GreenAreas\u001b[39m.\u001b[39mGreenAreas()\n\u001b[1;32m     20\u001b[0m     \u001b[39mself\u001b[39m\u001b[39m.\u001b[39mam \u001b[39m=\u001b[39m Amenities\u001b[39m.\u001b[39mAmenities()\n",
      "File \u001b[0;32m/app/modules/Streets.py:18\u001b[0m, in \u001b[0;36mStreets.__init__\u001b[0;34m(self)\u001b[0m\n\u001b[1;32m     16\u001b[0m \u001b[39mself\u001b[39m\u001b[39m.\u001b[39medges_cols \u001b[39m=\u001b[39m []\n\u001b[1;32m     17\u001b[0m \u001b[39mself\u001b[39m\u001b[39m.\u001b[39mscenarios_status \u001b[39m=\u001b[39m [\u001b[39m0\u001b[39m]\u001b[39m*\u001b[39m\u001b[39mself\u001b[39m\u001b[39m.\u001b[39mnum_plates\n\u001b[0;32m---> 18\u001b[0m \u001b[39mself\u001b[39;49m\u001b[39m.\u001b[39;49mload_data()\n\u001b[1;32m     19\u001b[0m \u001b[39mpass\u001b[39;00m\n",
      "File \u001b[0;32m/app/modules/Streets.py:28\u001b[0m, in \u001b[0;36mStreets.load_data\u001b[0;34m(self)\u001b[0m\n\u001b[1;32m     26\u001b[0m old_stdout \u001b[39m=\u001b[39m os\u001b[39m.\u001b[39mdup(\u001b[39m1\u001b[39m)\n\u001b[1;32m     27\u001b[0m os\u001b[39m.\u001b[39mdup2(fnull\u001b[39m.\u001b[39mfileno(), \u001b[39m1\u001b[39m)\n\u001b[0;32m---> 28\u001b[0m [\n\u001b[1;32m     29\u001b[0m     \u001b[39mself\u001b[39m\u001b[39m.\u001b[39mscenarios\u001b[39m.\u001b[39mappend({\n\u001b[1;32m     30\u001b[0m             \u001b[39m# 'nodes': gpd.read_file(node_file).to_crs(self.default_crs),\u001b[39;00m\n\u001b[1;32m     31\u001b[0m             \u001b[39m# 'edges': gpd.read_file(edge_file).to_crs(self.default_crs)\u001b[39;00m\n\u001b[1;32m     32\u001b[0m             \u001b[39m'\u001b[39m\u001b[39mnodes\u001b[39m\u001b[39m'\u001b[39m: gpd\u001b[39m.\u001b[39mread_parquet(node_file)\u001b[39m.\u001b[39mto_crs(\u001b[39mself\u001b[39m\u001b[39m.\u001b[39mdefault_crs),\n\u001b[1;32m     33\u001b[0m             \u001b[39m'\u001b[39m\u001b[39medges\u001b[39m\u001b[39m'\u001b[39m: gpd\u001b[39m.\u001b[39mread_parquet(edge_file)\u001b[39m.\u001b[39mto_crs(\u001b[39mself\u001b[39m\u001b[39m.\u001b[39mdefault_crs),\n\u001b[1;32m     34\u001b[0m             \u001b[39m'\u001b[39m\u001b[39mnet\u001b[39m\u001b[39m'\u001b[39m: pdna\u001b[39m.\u001b[39mNetwork\u001b[39m.\u001b[39mfrom_hdf5(net_file),\n\u001b[1;32m     35\u001b[0m     })\n\u001b[1;32m     36\u001b[0m     \u001b[39mfor\u001b[39;00m node_file, edge_file, net_file \u001b[39min\u001b[39;00m \u001b[39mzip\u001b[39m(\n\u001b[1;32m     37\u001b[0m         glob(\u001b[39m'\u001b[39m\u001b[39m/app/assets/streets/*/nodes.parquet\u001b[39m\u001b[39m'\u001b[39m),\n\u001b[1;32m     38\u001b[0m         glob(\u001b[39m'\u001b[39m\u001b[39m/app/assets/streets/*/edges.parquet\u001b[39m\u001b[39m'\u001b[39m),\n\u001b[1;32m     39\u001b[0m         glob(\u001b[39m'\u001b[39m\u001b[39m/app/assets/streets/*/net.h5\u001b[39m\u001b[39m'\u001b[39m)\n\u001b[1;32m     40\u001b[0m         )\n\u001b[1;32m     41\u001b[0m ]\n\u001b[1;32m     42\u001b[0m \u001b[39m# Restaura la salida estándar original\u001b[39;00m\n\u001b[1;32m     43\u001b[0m os\u001b[39m.\u001b[39mdup2(old_stdout, \u001b[39m1\u001b[39m)\n",
      "File \u001b[0;32m/app/modules/Streets.py:34\u001b[0m, in \u001b[0;36m<listcomp>\u001b[0;34m(.0)\u001b[0m\n\u001b[1;32m     26\u001b[0m old_stdout \u001b[39m=\u001b[39m os\u001b[39m.\u001b[39mdup(\u001b[39m1\u001b[39m)\n\u001b[1;32m     27\u001b[0m os\u001b[39m.\u001b[39mdup2(fnull\u001b[39m.\u001b[39mfileno(), \u001b[39m1\u001b[39m)\n\u001b[1;32m     28\u001b[0m [\n\u001b[1;32m     29\u001b[0m     \u001b[39mself\u001b[39m\u001b[39m.\u001b[39mscenarios\u001b[39m.\u001b[39mappend({\n\u001b[1;32m     30\u001b[0m             \u001b[39m# 'nodes': gpd.read_file(node_file).to_crs(self.default_crs),\u001b[39;00m\n\u001b[1;32m     31\u001b[0m             \u001b[39m# 'edges': gpd.read_file(edge_file).to_crs(self.default_crs)\u001b[39;00m\n\u001b[1;32m     32\u001b[0m             \u001b[39m'\u001b[39m\u001b[39mnodes\u001b[39m\u001b[39m'\u001b[39m: gpd\u001b[39m.\u001b[39mread_parquet(node_file)\u001b[39m.\u001b[39mto_crs(\u001b[39mself\u001b[39m\u001b[39m.\u001b[39mdefault_crs),\n\u001b[1;32m     33\u001b[0m             \u001b[39m'\u001b[39m\u001b[39medges\u001b[39m\u001b[39m'\u001b[39m: gpd\u001b[39m.\u001b[39mread_parquet(edge_file)\u001b[39m.\u001b[39mto_crs(\u001b[39mself\u001b[39m\u001b[39m.\u001b[39mdefault_crs),\n\u001b[0;32m---> 34\u001b[0m             \u001b[39m'\u001b[39m\u001b[39mnet\u001b[39m\u001b[39m'\u001b[39m: pdna\u001b[39m.\u001b[39;49mNetwork\u001b[39m.\u001b[39;49mfrom_hdf5(net_file),\n\u001b[1;32m     35\u001b[0m     })\n\u001b[1;32m     36\u001b[0m     \u001b[39mfor\u001b[39;00m node_file, edge_file, net_file \u001b[39min\u001b[39;00m \u001b[39mzip\u001b[39m(\n\u001b[1;32m     37\u001b[0m         glob(\u001b[39m'\u001b[39m\u001b[39m/app/assets/streets/*/nodes.parquet\u001b[39m\u001b[39m'\u001b[39m),\n\u001b[1;32m     38\u001b[0m         glob(\u001b[39m'\u001b[39m\u001b[39m/app/assets/streets/*/edges.parquet\u001b[39m\u001b[39m'\u001b[39m),\n\u001b[1;32m     39\u001b[0m         glob(\u001b[39m'\u001b[39m\u001b[39m/app/assets/streets/*/net.h5\u001b[39m\u001b[39m'\u001b[39m)\n\u001b[1;32m     40\u001b[0m         )\n\u001b[1;32m     41\u001b[0m ]\n\u001b[1;32m     42\u001b[0m \u001b[39m# Restaura la salida estándar original\u001b[39;00m\n\u001b[1;32m     43\u001b[0m os\u001b[39m.\u001b[39mdup2(old_stdout, \u001b[39m1\u001b[39m)\n",
      "File \u001b[0;32m/usr/local/lib/python3.9/site-packages/pandana/network.py:120\u001b[0m, in \u001b[0;36mNetwork.from_hdf5\u001b[0;34m(cls, filename)\u001b[0m\n\u001b[1;32m    106\u001b[0m \u001b[39m@classmethod\u001b[39m\n\u001b[1;32m    107\u001b[0m \u001b[39mdef\u001b[39;00m \u001b[39mfrom_hdf5\u001b[39m(\u001b[39mcls\u001b[39m, filename):\n\u001b[1;32m    108\u001b[0m \u001b[39m    \u001b[39m\u001b[39m\"\"\"\u001b[39;00m\n\u001b[1;32m    109\u001b[0m \u001b[39m    Load a previously saved Network from a Pandas HDF5 file.\u001b[39;00m\n\u001b[1;32m    110\u001b[0m \n\u001b[0;32m   (...)\u001b[0m\n\u001b[1;32m    118\u001b[0m \n\u001b[1;32m    119\u001b[0m \u001b[39m    \"\"\"\u001b[39;00m\n\u001b[0;32m--> 120\u001b[0m     \u001b[39mreturn\u001b[39;00m ph5\u001b[39m.\u001b[39;49mnetwork_from_pandas_hdf5(\u001b[39mcls\u001b[39;49m, filename)\n",
      "File \u001b[0;32m/usr/local/lib/python3.9/site-packages/pandana/loaders/pandash5.py:77\u001b[0m, in \u001b[0;36mnetwork_from_pandas_hdf5\u001b[0;34m(cls, filename)\u001b[0m\n\u001b[1;32m     74\u001b[0m     two_way \u001b[39m=\u001b[39m store[\u001b[39m'\u001b[39m\u001b[39mtwo_way\u001b[39m\u001b[39m'\u001b[39m][\u001b[39m0\u001b[39m]\n\u001b[1;32m     75\u001b[0m     imp_names \u001b[39m=\u001b[39m store[\u001b[39m'\u001b[39m\u001b[39mimpedance_names\u001b[39m\u001b[39m'\u001b[39m]\u001b[39m.\u001b[39mtolist()\n\u001b[0;32m---> 77\u001b[0m \u001b[39mreturn\u001b[39;00m \u001b[39mcls\u001b[39;49m(\n\u001b[1;32m     78\u001b[0m     nodes[\u001b[39m'\u001b[39;49m\u001b[39mx\u001b[39;49m\u001b[39m'\u001b[39;49m], nodes[\u001b[39m'\u001b[39;49m\u001b[39my\u001b[39;49m\u001b[39m'\u001b[39;49m], edges[\u001b[39m'\u001b[39;49m\u001b[39mfrom\u001b[39;49m\u001b[39m'\u001b[39;49m], edges[\u001b[39m'\u001b[39;49m\u001b[39mto\u001b[39;49m\u001b[39m'\u001b[39;49m], edges[imp_names],\n\u001b[1;32m     79\u001b[0m     twoway\u001b[39m=\u001b[39;49mtwo_way)\n",
      "File \u001b[0;32m/usr/local/lib/python3.9/site-packages/pandana/network.py:94\u001b[0m, in \u001b[0;36mNetwork.__init__\u001b[0;34m(self, node_x, node_y, edge_from, edge_to, edge_weights, twoway)\u001b[0m\n\u001b[1;32m     85\u001b[0m \u001b[39mself\u001b[39m\u001b[39m.\u001b[39mnode_idx \u001b[39m=\u001b[39m pd\u001b[39m.\u001b[39mSeries(\n\u001b[1;32m     86\u001b[0m     np\u001b[39m.\u001b[39marange(\u001b[39mlen\u001b[39m(nodes_df), dtype\u001b[39m=\u001b[39m\u001b[39m\"\u001b[39m\u001b[39mint\u001b[39m\u001b[39m\"\u001b[39m), index\u001b[39m=\u001b[39mnodes_df\u001b[39m.\u001b[39mindex\n\u001b[1;32m     87\u001b[0m )\n\u001b[1;32m     89\u001b[0m edges \u001b[39m=\u001b[39m pd\u001b[39m.\u001b[39mconcat(\n\u001b[1;32m     90\u001b[0m     [\u001b[39mself\u001b[39m\u001b[39m.\u001b[39m_node_indexes(edges_df[\u001b[39m\"\u001b[39m\u001b[39mfrom\u001b[39m\u001b[39m\"\u001b[39m]), \u001b[39mself\u001b[39m\u001b[39m.\u001b[39m_node_indexes(edges_df[\u001b[39m\"\u001b[39m\u001b[39mto\u001b[39m\u001b[39m\"\u001b[39m])],\n\u001b[1;32m     91\u001b[0m     axis\u001b[39m=\u001b[39m\u001b[39m1\u001b[39m,\n\u001b[1;32m     92\u001b[0m )\n\u001b[0;32m---> 94\u001b[0m \u001b[39mself\u001b[39m\u001b[39m.\u001b[39mnet \u001b[39m=\u001b[39m cyaccess(\n\u001b[1;32m     95\u001b[0m     \u001b[39mself\u001b[39;49m\u001b[39m.\u001b[39;49mnode_idx\u001b[39m.\u001b[39;49mvalues,\n\u001b[1;32m     96\u001b[0m     nodes_df\u001b[39m.\u001b[39;49mastype(\u001b[39m\"\u001b[39;49m\u001b[39mdouble\u001b[39;49m\u001b[39m\"\u001b[39;49m)\u001b[39m.\u001b[39;49mvalues,\n\u001b[1;32m     97\u001b[0m     edges\u001b[39m.\u001b[39;49mvalues,\n\u001b[1;32m     98\u001b[0m     edges_df[edge_weights\u001b[39m.\u001b[39;49mcolumns]\u001b[39m.\u001b[39;49mtranspose()\u001b[39m.\u001b[39;49mastype(\u001b[39m\"\u001b[39;49m\u001b[39mdouble\u001b[39;49m\u001b[39m\"\u001b[39;49m)\u001b[39m.\u001b[39;49mvalues,\n\u001b[1;32m     99\u001b[0m     twoway,\n\u001b[1;32m    100\u001b[0m )\n\u001b[1;32m    102\u001b[0m \u001b[39mself\u001b[39m\u001b[39m.\u001b[39m_twoway \u001b[39m=\u001b[39m twoway\n\u001b[1;32m    104\u001b[0m \u001b[39mself\u001b[39m\u001b[39m.\u001b[39mkdtree \u001b[39m=\u001b[39m KDTree(nodes_df\u001b[39m.\u001b[39mvalues)\n",
      "\u001b[0;31mKeyboardInterrupt\u001b[0m: "
     ]
    }
   ],
   "source": [
    "for index, row in combinaciones_placas_estados.iterrows():\n",
    "    folder = ''.join(row.values.astype(str))\n",
    "    path = os.path.join(carpeta_exportacion, folder)\n",
    "\n",
    "    print(f'index: {index}')    \n",
    "\n",
    "    if(carpeta_vacia(path)):\n",
    "        tui = TableUserInferface()\n",
    "        componentes_distintas = get_change_to_apply(list(tui.plate_states.values()), row.values)\n",
    "        try:\n",
    "            for plate_id, scenario in componentes_distintas.items():\n",
    "                tui.update_plate_status(\n",
    "                    plate_id=plate_id,\n",
    "                    scenario_id=row[plate_id]\n",
    "                )\n",
    "            tui.calc_heatmaps_kpis()\n",
    "            heatmaps = tui.heat_maps\n",
    "            print(f'\\t{folder} guardando')\n",
    "            # [gdf.to_file(os.path.join(path, key)) for key, gdf in heatmaps.items()];\n",
    "            [gdf.to_parquet(os.path.join(path, f'{key}.parquet')) for key, gdf in heatmaps.items()];\n",
    "        except:\n",
    "            print(f'\\t{folder} falló')\n",
    "    else:\n",
    "        print(f'\\t{folder} archivos ya existentes')"
   ]
  }
 ],
 "metadata": {
  "kernelspec": {
   "display_name": "Python 3 (ipykernel)",
   "language": "python",
   "name": "python3"
  },
  "language_info": {
   "codemirror_mode": {
    "name": "ipython",
    "version": 3
   },
   "file_extension": ".py",
   "mimetype": "text/x-python",
   "name": "python",
   "nbconvert_exporter": "python",
   "pygments_lexer": "ipython3",
   "version": "3.9.18"
  }
 },
 "nbformat": 4,
 "nbformat_minor": 2
}
