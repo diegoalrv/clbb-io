{
 "cells": [
  {
   "cell_type": "code",
   "execution_count": 21,
   "metadata": {},
   "outputs": [],
   "source": [
    "import geopandas as gpd\n",
    "from modules.Amenities import Amenities\n",
    "\n",
    "\"\"\"\n",
    "Código para aplicar algunos cambios en los datos.\n",
    "Backup antes de esto: 20231202170106.zip\n",
    "\n",
    "Eliminar categoría \"Transporte Público\"\n",
    "Hacer una categoría única \"Comercio y Servicios\", absorbe food\n",
    "\"\"\"\n",
    "\n",
    "_Amenities = Amenities()\n",
    "for scenario_id, scenario_name in {0: 'actual', 1: 'future'}.items():\n",
    "    _Amenities.go_to_scenario(scenario_id)\n",
    "    amenities_gdf = _Amenities.get_current_amenities()\n",
    "    # amenities_gdf.to_parquet(f'/app/backup/202312022100_amenities_{scenario_name}.parquet')\n",
    "    # Eliminar transporte publico\n",
    "    mask = ~(amenities_gdf['Category'] == 'Transporte publico')\n",
    "    amenities_gdf = amenities_gdf[mask]\n",
    "    # Hacer un categoría única para Comercio, Servicios y Comida\n",
    "    same_category = ['Comida para servir', 'Servicios', 'Comercio',]\n",
    "    new_category = 'Comercio y Servicios'\n",
    "\n",
    "    mask = amenities_gdf['Category'].isin(same_category)\n",
    "    amenities_gdf.loc[mask, 'Category'] = new_category\n",
    "    # amenities_gdf.to_parquet(f'/app/assets/amenities/{scenario_name}.parquet')"
   ]
  }
 ],
 "metadata": {
  "kernelspec": {
   "display_name": "Python 3 (ipykernel)",
   "language": "python",
   "name": "python3"
  },
  "language_info": {
   "codemirror_mode": {
    "name": "ipython",
    "version": 3
   },
   "file_extension": ".py",
   "mimetype": "text/x-python",
   "name": "python",
   "nbconvert_exporter": "python",
   "pygments_lexer": "ipython3",
   "version": "3.9.18"
  }
 },
 "nbformat": 4,
 "nbformat_minor": 2
}
