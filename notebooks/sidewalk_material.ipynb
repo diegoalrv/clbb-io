{
 "cells": [
  {
   "cell_type": "code",
   "execution_count": 1,
   "metadata": {},
   "outputs": [],
   "source": [
    "import geopandas as gpd\n",
    "import pandas as pd\n",
    "from modules.SidewalkMaterial import SidewalkMaterial"
   ]
  },
  {
   "cell_type": "code",
   "execution_count": 2,
   "metadata": {},
   "outputs": [],
   "source": [
    "sw = SidewalkMaterial()"
   ]
  },
  {
   "cell_type": "code",
   "execution_count": 3,
   "metadata": {},
   "outputs": [],
   "source": [
    "timeline = {\n",
    "    0: 'actual',\n",
    "    1: 'future',\n",
    "}\n",
    "\n",
    "sw_scores = {}\n",
    "for idx, name in timeline.items():\n",
    "    sw.go_to_scenario(idx)\n",
    "    sw_scores[name] = [sw.calculate_scoring()]\n",
    "\n",
    "df = pd.DataFrame(sw_scores).transpose().rename(columns={0: 'score'})"
   ]
  },
  {
   "cell_type": "code",
   "execution_count": 5,
   "metadata": {},
   "outputs": [],
   "source": [
    "df.to_excel('/app/export/others/materialidad_calles.xlsx')"
   ]
  }
 ],
 "metadata": {
  "kernelspec": {
   "display_name": "Python 3 (ipykernel)",
   "language": "python",
   "name": "python3"
  },
  "language_info": {
   "codemirror_mode": {
    "name": "ipython",
    "version": 3
   },
   "file_extension": ".py",
   "mimetype": "text/x-python",
   "name": "python",
   "nbconvert_exporter": "python",
   "pygments_lexer": "ipython3",
   "version": "3.9.18"
  }
 },
 "nbformat": 4,
 "nbformat_minor": 2
}
