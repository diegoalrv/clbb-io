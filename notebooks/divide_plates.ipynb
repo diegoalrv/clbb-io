{
 "cells": [
  {
   "cell_type": "code",
   "execution_count": 1,
   "metadata": {},
   "outputs": [],
   "source": [
    "import geopandas as gpd\n",
    "import pandas as pd"
   ]
  },
  {
   "cell_type": "code",
   "execution_count": 2,
   "metadata": {},
   "outputs": [],
   "source": [
    "plates = gpd.read_file('/app/assets/plates/all')"
   ]
  },
  {
   "cell_type": "code",
   "execution_count": 3,
   "metadata": {},
   "outputs": [],
   "source": [
    "for i, row in plates.iterrows():\n",
    "    # Crea un nuevo GeoDataFrame con un solo registro\n",
    "    single_record_gdf = plates.iloc[[i]]\n",
    "    \n",
    "    # Define el nombre del archivo de salida (puedes personalizarlo según tus necesidades)\n",
    "    output_filename = f'/app/assets/plates/{single_record_gdf.Id.values[0]}'\n",
    "    \n",
    "    # Guarda el GeoDataFrame individual como un archivo\n",
    "    single_record_gdf.to_file(output_filename)"
   ]
  }
 ],
 "metadata": {
  "kernelspec": {
   "display_name": "Python 3 (ipykernel)",
   "language": "python",
   "name": "python3"
  }
 },
 "nbformat": 4,
 "nbformat_minor": 2
}
