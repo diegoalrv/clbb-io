{
 "cells": [
  {
   "cell_type": "code",
   "execution_count": 1,
   "metadata": {},
   "outputs": [],
   "source": [
    "import shutil\n",
    "import os\n",
    "from datetime import datetime\n",
    "\n",
    "def comprimir_y_guardar_carpeta():\n",
    "    # Carpeta de origen\n",
    "    carpeta_origen = \"/app/assets\"\n",
    "\n",
    "    # Carpeta de destino\n",
    "    carpeta_destino = \"/app/backup\"\n",
    "\n",
    "    # Obtener la marca de tiempo actual\n",
    "    timestamp = datetime.now().strftime(\"%Y%m%d%H%M%S\")\n",
    "\n",
    "    # Nombre del archivo comprimido\n",
    "    nombre_archivo = f\"{timestamp}.zip\"\n",
    "\n",
    "    # Ruta completa del archivo comprimido\n",
    "    ruta_archivo = os.path.join(carpeta_destino, nombre_archivo)\n",
    "\n",
    "    try:\n",
    "        # Comprimir la carpeta de origen y guardarla en la carpeta de destino\n",
    "        shutil.make_archive(ruta_archivo[:-4], 'zip', carpeta_origen)\n",
    "        \n",
    "        # Si lo deseas, puedes eliminar la carpeta original después de comprimirla\n",
    "        # shutil.rmtree(carpeta_origen)\n",
    "\n",
    "        print(f\"Carpeta comprimida y guardada como {nombre_archivo} en {carpeta_destino}\")\n",
    "    except Exception as e:\n",
    "        print(f\"Error al comprimir y guardar la carpeta: {str(e)}\")"
   ]
  },
  {
   "cell_type": "code",
   "execution_count": 2,
   "metadata": {},
   "outputs": [
    {
     "name": "stdout",
     "output_type": "stream",
     "text": [
      "Carpeta comprimida y guardada como 20231204131257.zip en /app/backup\n"
     ]
    }
   ],
   "source": [
    "if __name__ == \"__main__\":\n",
    "    comprimir_y_guardar_carpeta()"
   ]
  }
 ],
 "metadata": {
  "kernelspec": {
   "display_name": "Python 3 (ipykernel)",
   "language": "python",
   "name": "python3"
  },
  "language_info": {
   "codemirror_mode": {
    "name": "ipython",
    "version": 3
   },
   "file_extension": ".py",
   "mimetype": "text/x-python",
   "name": "python",
   "nbconvert_exporter": "python",
   "pygments_lexer": "ipython3",
   "version": "3.9.18"
  }
 },
 "nbformat": 4,
 "nbformat_minor": 2
}
