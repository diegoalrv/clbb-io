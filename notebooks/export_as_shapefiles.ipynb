{
 "cells": [
  {
   "cell_type": "code",
   "execution_count": 5,
   "metadata": {},
   "outputs": [],
   "source": [
    "import geopandas as gpd\n",
    "from glob import glob\n",
    "import os"
   ]
  },
  {
   "cell_type": "code",
   "execution_count": 30,
   "metadata": {},
   "outputs": [
    {
     "name": "stderr",
     "output_type": "stream",
     "text": [
      "/tmp/ipykernel_29/3836129997.py:35: UserWarning: Column names longer than 10 characters will be truncated when saved to ESRI Shapefile.\n",
      "  gdf.to_file(export_name)\n",
      "/tmp/ipykernel_29/3836129997.py:35: UserWarning: Column names longer than 10 characters will be truncated when saved to ESRI Shapefile.\n",
      "  gdf.to_file(export_name)\n",
      "/tmp/ipykernel_29/3836129997.py:35: UserWarning: Column names longer than 10 characters will be truncated when saved to ESRI Shapefile.\n",
      "  gdf.to_file(export_name)\n",
      "/tmp/ipykernel_29/3836129997.py:35: UserWarning: Column names longer than 10 characters will be truncated when saved to ESRI Shapefile.\n",
      "  gdf.to_file(export_name)\n"
     ]
    }
   ],
   "source": [
    "import os\n",
    "\n",
    "def verificar_y_crear_carpeta(path):\n",
    "    \"\"\"\n",
    "    Verifica si una carpeta existe en la ruta especificada y la crea si no existe.\n",
    "    \n",
    "    Args:\n",
    "        path (str): Ruta de la carpeta a verificar/crear.\n",
    "    \n",
    "    Returns:\n",
    "        str: Mensaje indicando si la carpeta existía o si fue creada.\n",
    "    \"\"\"\n",
    "    if not os.path.exists(path):\n",
    "        os.makedirs(path)\n",
    "        return f\"La carpeta '{path}' ha sido creada.\"\n",
    "    else:\n",
    "        return f\"La carpeta '{path}' ya existe.\"\n",
    "\n",
    "\n",
    "\n",
    "\n",
    "files = glob('/app/assets/**/*.parquet')\n",
    "path = '/app/data/export_as_shape'\n",
    "\n",
    "for file in files:\n",
    "    varfolder = os.path.split(os.path.split(file)[0])[-1]\n",
    "    shapename = os.path.split(file)[-1].replace('.parquet', '')\n",
    "    export_folder = os.path.join(path, varfolder)\n",
    "    resultado = verificar_y_crear_carpeta(export_folder)\n",
    "    export_name = os.path.join(export_folder, shapename)\n",
    "    # print(export_name)\n",
    "    # print(export_name)\n",
    "    gdf = gpd.read_parquet(file)\n",
    "    # display(gdf.head(3))\n",
    "    gdf.to_file(export_name)"
   ]
  },
  {
   "cell_type": "code",
   "execution_count": 31,
   "metadata": {},
   "outputs": [],
   "source": [
    "nodes_actual = gpd.read_parquet('/app/assets/streets/actual/nodes.parquet')\n",
    "edges_actual = gpd.read_parquet('/app/assets/streets/actual/edges.parquet')\n",
    "\n",
    "nodes_future = gpd.read_parquet('/app/assets/streets/future/nodes.parquet')\n",
    "edges_future = gpd.read_parquet('/app/assets/streets/future/edges.parquet')"
   ]
  },
  {
   "cell_type": "code",
   "execution_count": 32,
   "metadata": {},
   "outputs": [
    {
     "name": "stderr",
     "output_type": "stream",
     "text": [
      "/tmp/ipykernel_29/2484144182.py:1: UserWarning: Column names longer than 10 characters will be truncated when saved to ESRI Shapefile.\n",
      "  nodes_actual.to_file('/app/data/export_as_shape/streets/actual/nodes')\n"
     ]
    }
   ],
   "source": [
    "nodes_actual.to_file('/app/data/export_as_shape/streets/actual/nodes')\n",
    "edges_actual.to_file('/app/data/export_as_shape/streets/actual/edges')\n",
    "nodes_future.to_file('/app/data/export_as_shape/streets/future/nodes')\n",
    "edges_future.to_file('/app/data/export_as_shape/streets/future/edges')"
   ]
  }
 ],
 "metadata": {
  "kernelspec": {
   "display_name": "Python 3 (ipykernel)",
   "language": "python",
   "name": "python3"
  },
  "language_info": {
   "codemirror_mode": {
    "name": "ipython",
    "version": 3
   },
   "file_extension": ".py",
   "mimetype": "text/x-python",
   "name": "python",
   "nbconvert_exporter": "python",
   "pygments_lexer": "ipython3",
   "version": "3.9.18"
  }
 },
 "nbformat": 4,
 "nbformat_minor": 2
}
