{
 "cells": [
  {
   "cell_type": "code",
   "execution_count": 2,
   "metadata": {},
   "outputs": [],
   "source": [
    "import geopandas as gpd\n",
    "import numpy as np\n",
    "import pandas as pd\n",
    "from glob import glob\n",
    "from modules.Base import BaseModule\n",
    "\n",
    "import warnings\n",
    "warnings.filterwarnings(\"ignore\")"
   ]
  },
  {
   "cell_type": "code",
   "execution_count": null,
   "metadata": {},
   "outputs": [],
   "source": [
    "class Streets(BaseModule):\n",
    "    def __init__(self) -> None:\n",
    "        super().__init__()\n",
    "        self.cols = ['ID_AV', 'ID_PLACA', 'geometry']\n",
    "        pass\n",
    "\n",
    "    def load_data(self):\n",
    "        self.scenarios = []\n",
    "        [self.scenarios.append(gpd.read_file(file)[self.cols].to_crs(self.default_crs)) for file in glob('/app/assets/green_areas/*')]\n",
    "        [gdf.fillna(0, inplace=True) for gdf in self.scenarios];\n",
    "        self.current = self.scenarios[0]\n",
    "        pass\n",
    "\n",
    "    def update_plate_area(self, plate_id, scenario_id):\n",
    "        mask = self.current['ID_PLACA'] == plate_id\n",
    "        self.current = self.current[~mask]\n",
    "\n",
    "        new_scenario = self.scenarios[scenario_id]\n",
    "        mask = new_scenario['ID_PLACA'] == plate_id\n",
    "        new_scenario = new_scenario[mask]\n",
    "        \n",
    "        self.current = pd.concat([self.current, new_scenario])\n",
    "        pass\n"
   ]
  }
 ],
 "metadata": {
  "kernelspec": {
   "display_name": "Python 3 (ipykernel)",
   "language": "python",
   "name": "python3"
  }
 },
 "nbformat": 4,
 "nbformat_minor": 2
}
