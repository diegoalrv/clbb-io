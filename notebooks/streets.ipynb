{
 "cells": [
  {
   "cell_type": "code",
   "execution_count": 1,
   "metadata": {},
   "outputs": [],
   "source": [
    "import geopandas as gpd\n",
    "import numpy as np\n",
    "import pandana as pdna\n",
    "import pandas as pd\n",
    "from glob import glob\n",
    "import matplotlib.pyplot as plt\n",
    "from modules.Base import BaseModule\n",
    "\n",
    "import warnings\n",
    "warnings.filterwarnings(\"ignore\")"
   ]
  },
  {
   "cell_type": "code",
   "execution_count": 2,
   "metadata": {},
   "outputs": [],
   "source": [
    "class Streets(BaseModule):\n",
    "    def __init__(self) -> None:\n",
    "        super().__init__()\n",
    "        self.nodes_cols = []\n",
    "        self.edges_cols = []\n",
    "        self.scenarios_status = [0]*self.num_plates\n",
    "        pass\n",
    "\n",
    "    def load_data(self):\n",
    "        self.scenarios = []\n",
    "        [\n",
    "            self.scenarios.append({\n",
    "                    # 'nodes': gpd.read_file(node_file).to_crs(self.default_crs),\n",
    "                    # 'edges': gpd.read_file(edge_file).to_crs(self.default_crs)\n",
    "                    'nodes': gpd.read_parquet(node_file),\n",
    "                    'edges': gpd.read_parquet(edge_file)\n",
    "            })\n",
    "            for node_file, edge_file in zip(\n",
    "                glob('/app/assets/streets/*/nodes.parquet'),\n",
    "                glob('/app/assets/streets/*/edges.parquet')\n",
    "                )\n",
    "        ]\n",
    "        # Assume that the baseline is in index 0\n",
    "        self.current_scenario = self.scenarios[0]\n",
    "        self._make_network()\n",
    "        pass\n",
    "\n",
    "    def update_network(self, plate_id, scenario_id):\n",
    "        self._update_plate_area(plate_id=plate_id, scenario_id=scenario_id)\n",
    "        self._make_network()\n",
    "        self.scenarios_status[plate_id] = scenario_id\n",
    "        pass\n",
    "\n",
    "    def _update_plate_area(self, plate_id, scenario_id):\n",
    "        # Change the nodes and edges within the area into plate\n",
    "\n",
    "        current_nodes = self.current_scenario['nodes']\n",
    "        current_edges = self.current_scenario['edges']\n",
    "\n",
    "        update_nodes = self.scenarios[scenario_id]['nodes']\n",
    "        update_edges = self.scenarios[scenario_id]['edges']\n",
    "\n",
    "        mask_current_nodes = current_nodes['plate_id'] != plate_id\n",
    "        mask_current_edges = current_edges['plate_id'] != plate_id\n",
    "\n",
    "        mask_update_nodes = update_nodes['plate_id'] == plate_id\n",
    "        mask_update_edges = update_edges['plate_id'] == plate_id\n",
    "        \n",
    "        edges_updated = pd.concat([\n",
    "            current_edges[mask_current_edges],\n",
    "            update_edges[mask_update_edges]\n",
    "            ]).drop_duplicates(subset=['u', 'v', 'key'])\n",
    "        \n",
    "        # Fix missing nodes\n",
    "        look_nodes = list(edges_updated['u'].values) + list(edges_updated['v'].values)\n",
    "        \n",
    "        fixed_current_nodes = current_nodes[\n",
    "            current_nodes['osmid'].isin(look_nodes)\n",
    "        ]\n",
    "\n",
    "        fixed_update_nodes = update_nodes[\n",
    "            update_nodes['osmid'].isin(look_nodes)\n",
    "        ]\n",
    "\n",
    "        # Clean duplicates\n",
    "        nodes_updated = pd.concat([\n",
    "            current_nodes[mask_current_nodes],\n",
    "            update_nodes[mask_update_nodes],\n",
    "            fixed_current_nodes,\n",
    "            fixed_update_nodes,\n",
    "        ]).drop_duplicates(subset=['osmid'])\n",
    "        \n",
    "        # Only nodes with edges connected\n",
    "        nodes_updated = nodes_updated[\n",
    "            nodes_updated['osmid'].isin(edges_updated['u']) | nodes_updated['osmid'].isin(edges_updated['v'])\n",
    "        ]\n",
    "\n",
    "        self.current_scenario = {\n",
    "            'nodes': gpd.GeoDataFrame(data=nodes_updated.drop(columns=['geometry']), geometry=nodes_updated['geometry']),\n",
    "            'edges': gpd.GeoDataFrame(data=edges_updated.drop(columns=['geometry']), geometry=edges_updated['geometry']),\n",
    "        }\n",
    "        pass\n",
    "\n",
    "    def _current_nodes_edges_to_net_format(self):\n",
    "        nodes_df = self.current_scenario['nodes']\n",
    "        edges_df = self.current_scenario['edges']\n",
    "\n",
    "        nodes = pd.DataFrame(\n",
    "            {\n",
    "                'osmid': nodes_df['osmid'].astype(int),\n",
    "                'lat' : nodes_df.geometry.y.astype(float),\n",
    "                'lon' : nodes_df.geometry.x.astype(float),\n",
    "                'y' : nodes_df.geometry.y.astype(float),\n",
    "                'x' : nodes_df.geometry.x.astype(float),\n",
    "            }\n",
    "        )\n",
    "        nodes['id'] = nodes['osmid'].values\n",
    "\n",
    "        nodes = gpd.GeoDataFrame(data=nodes, geometry=nodes_df.geometry)\n",
    "        nodes.set_index('osmid', inplace=True)\n",
    "        nodes.drop_duplicates(inplace=True)\n",
    "\n",
    "        edges = pd.DataFrame(\n",
    "            {\n",
    "                'u': edges_df['u'].astype(int),\n",
    "                'v': edges_df['v'].astype(int),\n",
    "                'from': edges_df['u'].astype(int),\n",
    "                'to': edges_df['v'].astype(int),\n",
    "                'osmid': edges_df['osmid'].astype(int),\n",
    "                'length': edges_df['length'].astype(float)\n",
    "            }\n",
    "        )\n",
    "        edges['key'] = 0\n",
    "        edges['key'] = edges['key'].astype(int)\n",
    "        edges = gpd.GeoDataFrame(data=edges, geometry=edges_df.geometry)\n",
    "        edges.set_index(['u', 'v', 'key'], inplace=True)\n",
    "        edges.drop_duplicates(inplace=True)\n",
    "        return nodes, edges\n",
    "    \n",
    "    def _make_network(self):\n",
    "        nodes, edges = self._current_nodes_edges_to_net_format()\n",
    "        self.current_scenario['net'] = pdna.Network(\n",
    "            nodes['lon'],\n",
    "            nodes['lat'],\n",
    "            edges['from'],\n",
    "            edges['to'],\n",
    "            edges[['length']]\n",
    "        )\n",
    "        pass\n",
    "\n",
    "    def get_current_nodes_and_edges(self):\n",
    "        return self.current_scenario['nodes'], self.current_scenario['edges']\n",
    "    \n",
    "    def get_current_scenario_status(self):\n",
    "        return self.scenarios_status"
   ]
  },
  {
   "cell_type": "code",
   "execution_count": 8,
   "metadata": {},
   "outputs": [
    {
     "name": "stdout",
     "output_type": "stream",
     "text": [
      "Generating contraction hierarchies with 16 threads.\n",
      "Setting CH node vector of size 35909\n",
      "Setting CH edge vector of size 79532\n",
      "Range graph removed 79532 edges of 159064\n",
      ". 10% . 20% . 30% . 40% . 50% . 60% . 70% . 80% . 90% . 100%\n"
     ]
    }
   ],
   "source": [
    "st = Streets()\n",
    "st.load_data()\n",
    "# print(st.get_current_scenario_status())\n",
    "# st.update_network(plate_id=7, scenario_id=1)\n",
    "# print(st.get_current_scenario_status())\n",
    "# st.update_network(plate_id=5, scenario_id=1)\n",
    "# print(st.get_current_scenario_status())\n",
    "# st.update_network(plate_id=5, scenario_id=0)\n",
    "# print(st.get_current_scenario_status())\n",
    "# st.update_network(plate_id=7, scenario_id=0)\n",
    "# print(st.get_current_scenario_status())"
   ]
  },
  {
   "cell_type": "code",
   "execution_count": 1,
   "metadata": {},
   "outputs": [],
   "source": [
    "import geopandas as gpd"
   ]
  },
  {
   "cell_type": "code",
   "execution_count": null,
   "metadata": {},
   "outputs": [],
   "source": [
    "# gpd.read_parquet('/app/assets/streets/future/nodes.parquet').to_parquet('/app/assets/streets/future/nodes')\n",
    "# gpd.read_parquet('/app/assets/streets/future/edges.parquet').to_parquet('/app/assets/streets/future/edges')"
   ]
  },
  {
   "cell_type": "code",
   "execution_count": 17,
   "metadata": {},
   "outputs": [],
   "source": [
    "edges = gpd.read_file('/app/data/calles_01_12v3/edges')\n",
    "nodes = gpd.read_file('/app/data/calles_01_12v3/nodes')"
   ]
  },
  {
   "cell_type": "code",
   "execution_count": 9,
   "metadata": {},
   "outputs": [],
   "source": [
    "edges.to_parquet('/app/assets/streets/future/edges.parquet')\n",
    "nodes.to_parquet('/app/assets/streets/future/nodes.parquet')"
   ]
  },
  {
   "cell_type": "code",
   "execution_count": 22,
   "metadata": {},
   "outputs": [],
   "source": [
    "edges = gpd.read_parquet('/app/assets/streets/future/edges.parquet')\n",
    "nodes = gpd.read_parquet('/app/assets/streets/future/nodes.parquet')"
   ]
  },
  {
   "cell_type": "code",
   "execution_count": 23,
   "metadata": {},
   "outputs": [
    {
     "data": {
      "text/html": [
       "<div>\n",
       "<style scoped>\n",
       "    .dataframe tbody tr th:only-of-type {\n",
       "        vertical-align: middle;\n",
       "    }\n",
       "\n",
       "    .dataframe tbody tr th {\n",
       "        vertical-align: top;\n",
       "    }\n",
       "\n",
       "    .dataframe thead th {\n",
       "        text-align: right;\n",
       "    }\n",
       "</style>\n",
       "<table border=\"1\" class=\"dataframe\">\n",
       "  <thead>\n",
       "    <tr style=\"text-align: right;\">\n",
       "      <th></th>\n",
       "      <th>osmid</th>\n",
       "      <th>x</th>\n",
       "      <th>y</th>\n",
       "      <th>geometry</th>\n",
       "    </tr>\n",
       "  </thead>\n",
       "  <tbody>\n",
       "  </tbody>\n",
       "</table>\n",
       "</div>"
      ],
      "text/plain": [
       "Empty GeoDataFrame\n",
       "Columns: [osmid, x, y, geometry]\n",
       "Index: []"
      ]
     },
     "execution_count": 23,
     "metadata": {},
     "output_type": "execute_result"
    }
   ],
   "source": [
    "nodes[~((nodes['osmid'].isin(edges['from']))|(nodes['osmid'].isin(edges['to'])))]"
   ]
  }
 ],
 "metadata": {
  "kernelspec": {
   "display_name": "Python 3 (ipykernel)",
   "language": "python",
   "name": "python3"
  },
  "language_info": {
   "codemirror_mode": {
    "name": "ipython",
    "version": 3
   },
   "file_extension": ".py",
   "mimetype": "text/x-python",
   "name": "python",
   "nbconvert_exporter": "python",
   "pygments_lexer": "ipython3",
   "version": "3.9.18"
  }
 },
 "nbformat": 4,
 "nbformat_minor": 2
}
