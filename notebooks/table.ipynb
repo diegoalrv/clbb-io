{
 "cells": [
  {
   "cell_type": "code",
   "execution_count": 1,
   "metadata": {},
   "outputs": [],
   "source": [
    "import geopandas as gpd\n",
    "import numpy as np\n",
    "import pandas as pd\n",
    "from glob import glob\n",
    "import matplotlib.pyplot as plt\n",
    "import matplotlib.colors as mcolors\n",
    "import os\n",
    "\n",
    "from modules.Table import TableUserInferface"
   ]
  },
  {
   "cell_type": "code",
   "execution_count": 2,
   "metadata": {},
   "outputs": [],
   "source": [
    "tui_actual = TableUserInferface()"
   ]
  },
  {
   "cell_type": "code",
   "execution_count": 3,
   "metadata": {},
   "outputs": [],
   "source": [
    "path = '/app/export/*'\n",
    "folders = [os.path.split(folder)[-1] for folder in glob(path)];"
   ]
  },
  {
   "cell_type": "code",
   "execution_count": 4,
   "metadata": {},
   "outputs": [],
   "source": [
    "for folder in folders:\n",
    "    tui_actual.load_heatmaps_from_folder(os.path.join('/app/export', folder))\n",
    "\n",
    "    tui_actual.calc_sidewalk_kpis() # Listo\n",
    "    tui_actual.calc_bicycle_route_kpis() # Listo\n",
    "\n",
    "    tui_actual.num_proximity_to_json() # Listo\n",
    "    tui_actual.num_land_uses_to_json() # Listo\n",
    "    tui_actual.radar_proximity_to_json() # Listo\n",
    "    tui_actual.radar_num_land_uses() # Listo\n",
    "    tui_actual.radar_densities_to_json() # Listo\n",
    "    tui_actual.bar_densities_to_json() # Listo\n",
    "\n",
    "    import json\n",
    "    json_export = {}\n",
    "    json_export.update(tui_actual.radar_kpis)\n",
    "    json_export.update(tui_actual.proximity_kpis)\n",
    "    json_export.update(tui_actual.land_uses_kpis)\n",
    "    json_export.update(tui_actual.density_kpis)\n",
    "    radar_list = json_export['radar']['valoresSet1']\n",
    "    json_export['radar']['valoresSet2'] = [75]*len(radar_list)\n",
    "\n",
    "    # Imprimir el JSON con formato y sangría\n",
    "    # Abrir un archivo para escritura\n",
    "    pattern = os.path.split(folder)[-1]\n",
    "    json_filename = f\"/app/data/jsons/{pattern}.json\"\n",
    "    with open(json_filename, \"w\") as archivo:\n",
    "        # Con json.dump() y el argumento indent\n",
    "        json.dump(json_export, archivo, indent=4)\n",
    "\n",
    "    tui_actual.reset_json_data()"
   ]
  },
  {
   "cell_type": "code",
   "execution_count": 4,
   "metadata": {},
   "outputs": [],
   "source": [
    "path = '/app/export'\n",
    "# folder = os.path.join(path, '0000000')\n",
    "folder = os.path.join(path, '1111111')\n",
    "tui_actual.load_heatmaps_from_folder(folder)\n",
    "\n",
    "tui_actual.calc_sidewalk_kpis() # Listo\n",
    "tui_actual.calc_bicycle_route_kpis() # Listo\n",
    "\n",
    "tui_actual.num_proximity_to_json() # Listo\n",
    "tui_actual.num_land_uses_to_json() # Listo\n",
    "tui_actual.radar_proximity_to_json() # Listo\n",
    "tui_actual.radar_num_land_uses() # Listo\n",
    "tui_actual.radar_densities_to_json() # Listo\n",
    "tui_actual.bar_densities_to_json() # Listo\n",
    "\n",
    "import json\n",
    "json_export = {}\n",
    "json_export.update(tui_actual.radar_kpis)\n",
    "json_export.update(tui_actual.proximity_kpis)\n",
    "json_export.update(tui_actual.land_uses_kpis)\n",
    "json_export.update(tui_actual.density_kpis)\n",
    "radar_list = json_export['radar']['valoresSet1']\n",
    "json_export['radar']['valoresSet2'] = [75]*len(radar_list)\n",
    "normalizer_multiply_radar = [1,\n",
    "  1,\n",
    "  1,\n",
    "  1,\n",
    "  1,\n",
    "  1,\n",
    "  1,\n",
    "  100,\n",
    "  0.01,\n",
    "  10.0,\n",
    "  1,\n",
    "  0.002,\n",
    "  5]\n",
    "radar_list_norm = [value*norm for value, norm in zip(radar_list, normalizer_multiply_radar)]\n",
    "json_export['radar']['valoresSet1'] = radar_list_norm\n",
    "\n",
    "\n",
    "normalizer_multiply_stackedbar = [\n",
    "    1,\n",
    "    1/10,\n",
    "    1/20,\n",
    "]\n",
    "\n",
    "l = json_export['barrasStackeadas']['barras']\n",
    "\n",
    "for index, dt in enumerate(l):\n",
    "    for k, v in dt.items():\n",
    "        if(k=='valores'):\n",
    "            json_export['barrasStackeadas']['barras'][index]['valores'] = [value*norm for value, norm in zip(v, normalizer_multiply_stackedbar)]\n",
    "\n",
    "# Imprimir el JSON con formato y sangría\n",
    "# Abrir un archivo para escritura\n",
    "pattern = os.path.split(folder)[-1]\n",
    "json_filename = f\"/app/data/jsons/{pattern}.json\"\n",
    "with open(json_filename, \"w\") as archivo:\n",
    "    # Con json.dump() y el argumento indent\n",
    "    json.dump(json_export, archivo, indent=4)\n",
    "\n",
    "tui_actual.reset_json_data()"
   ]
  },
  {
   "cell_type": "code",
   "execution_count": 5,
   "metadata": {},
   "outputs": [
    {
     "data": {
      "text/plain": [
       "[{'nombre': 'Aurora de Chile', 'valores': [10.0, 471.0, 5636.286684794872]},\n",
       " {'nombre': 'Pedro de Valdivia', 'valores': [4.0, 2094.0, 11918.126309182951]},\n",
       " {'nombre': 'Pedro Del Rio', 'valores': [16.0, 2288.0, 10777.649150760586]}]"
      ]
     },
     "execution_count": 5,
     "metadata": {},
     "output_type": "execute_result"
    }
   ],
   "source": [
    "json_export['barrasStackeadas']['barras']"
   ]
  },
  {
   "cell_type": "code",
   "execution_count": 19,
   "metadata": {},
   "outputs": [
    {
     "name": "stdout",
     "output_type": "stream",
     "text": [
      "[94.85441932093399, 68.9367555317033, 85.09599593001447, 79.61900844963557, 86.36283997940997, 90.9137235227095, 78.43124511902455, 0.6226427655878166, 8019.0, 10.0, 43.0, 33029.81345620307, 15.0]\n",
      "[94.85441932093399, 68.9367555317033, 85.09599593001447, 79.61900844963557, 86.36283997940997, 90.9137235227095, 78.43124511902455, 62.26427655878166, 80.19, 100.0, 43.0, 66.05962691240613, 75.0]\n"
     ]
    }
   ],
   "source": []
  },
  {
   "cell_type": "code",
   "execution_count": 10,
   "metadata": {},
   "outputs": [],
   "source": []
  },
  {
   "cell_type": "code",
   "execution_count": null,
   "metadata": {},
   "outputs": [],
   "source": []
  },
  {
   "cell_type": "code",
   "execution_count": null,
   "metadata": {},
   "outputs": [],
   "source": [
    "df = tui_actual.calc_numeric_densities()"
   ]
  },
  {
   "cell_type": "code",
   "execution_count": null,
   "metadata": {},
   "outputs": [],
   "source": [
    "neighborhoods = tui_actual.neighborhoods\n",
    "nh = pd.concat(neighborhoods.values())"
   ]
  },
  {
   "cell_type": "code",
   "execution_count": null,
   "metadata": {},
   "outputs": [],
   "source": [
    "df = gpd.sjoin(df, nh)"
   ]
  },
  {
   "cell_type": "code",
   "execution_count": null,
   "metadata": {},
   "outputs": [],
   "source": [
    "df.rename(columns={'Nombre': 'barrio'}, inplace=True)\n",
    "dens_cols = ['hex_id', 'Category', 'density', 'barrio', 'geometry']\n",
    "df = df[dens_cols]\n",
    "df['area'] = df['geometry'].area"
   ]
  },
  {
   "cell_type": "code",
   "execution_count": null,
   "metadata": {},
   "outputs": [],
   "source": [
    "vals_to_replace = ['salud', 'cultura', 'educacion']\n",
    "for val in vals_to_replace:\n",
    "    df['Category'] = df['Category'].str.replace(val, 'amenities')"
   ]
  },
  {
   "cell_type": "code",
   "execution_count": null,
   "metadata": {},
   "outputs": [],
   "source": [
    "group_df = df.groupby(['Category', 'barrio'])[['density', 'area']].agg('sum').reset_index()\n",
    "group_df.rename(columns={'density': 'count'}, inplace=True)\n",
    "group_df = group_df[['Category','barrio','count']]\n",
    "# Función para capitalizar palabras con más de 2 caracteres\n",
    "def capitalizar_palabras(texto):\n",
    "    palabras = texto.split()\n",
    "    palabras_capitalizadas = [palabra.capitalize() if len(palabra) > 2 else palabra.lower() for palabra in palabras]\n",
    "    return \" \".join(palabras_capitalizadas)\n",
    "\n",
    "# Aplicar la función a la columna \"barrio\"\n",
    "df[\"barrio\"] = df[\"barrio\"].apply(capitalizar_palabras)"
   ]
  },
  {
   "cell_type": "code",
   "execution_count": null,
   "metadata": {},
   "outputs": [],
   "source": [
    "# Obtener la lista de categorías únicas\n",
    "categorias = df[\"Category\"].unique()\n",
    "\n",
    "# Crear un diccionario para almacenar los datos\n",
    "resultados = {}\n",
    "\n",
    "for categoria in categorias:\n",
    "    df_categoria = group_df[group_df[\"Category\"] == categoria]\n",
    "    barras = []\n",
    "\n",
    "    for index, row in df_categoria.iterrows():\n",
    "        nombre = row[\"barrio\"]\n",
    "        valores = group_df[group_df[\"barrio\"] == nombre][\"count\"].tolist()\n",
    "        \n",
    "        barra = {\"nombre\": nombre, \"valores\": valores}\n",
    "        barras.append(barra)\n",
    "\n",
    "    resultados[categoria] = {\"barras\": barras}\n",
    "\n",
    "resultados"
   ]
  },
  {
   "cell_type": "code",
   "execution_count": null,
   "metadata": {},
   "outputs": [],
   "source": []
  },
  {
   "cell_type": "code",
   "execution_count": null,
   "metadata": {},
   "outputs": [],
   "source": []
  },
  {
   "cell_type": "code",
   "execution_count": null,
   "metadata": {},
   "outputs": [],
   "source": []
  },
  {
   "cell_type": "code",
   "execution_count": null,
   "metadata": {},
   "outputs": [],
   "source": []
  },
  {
   "cell_type": "code",
   "execution_count": null,
   "metadata": {},
   "outputs": [],
   "source": []
  },
  {
   "cell_type": "code",
   "execution_count": null,
   "metadata": {},
   "outputs": [],
   "source": []
  },
  {
   "cell_type": "code",
   "execution_count": null,
   "metadata": {},
   "outputs": [],
   "source": [
    "mask = df['Category'].isin(['salud', 'cultura', 'educacion'])\n",
    "df.loc[mask, 'Category'] = 'amenities'"
   ]
  },
  {
   "cell_type": "code",
   "execution_count": null,
   "metadata": {},
   "outputs": [],
   "source": [
    "group_df = df.groupby(['hex_id', 'Category', 'geometry'])['density'].agg('sum').reset_index()"
   ]
  },
  {
   "cell_type": "code",
   "execution_count": null,
   "metadata": {},
   "outputs": [],
   "source": [
    "group_df = group_df[group_df['density'] > 0]"
   ]
  },
  {
   "cell_type": "code",
   "execution_count": null,
   "metadata": {},
   "outputs": [],
   "source": [
    "group_df = gpd.GeoDataFrame(data=group_df.drop(columns=['geometry']), geometry=group_df['geometry'])"
   ]
  },
  {
   "cell_type": "code",
   "execution_count": null,
   "metadata": {},
   "outputs": [],
   "source": [
    "group_df['area'] = group_df['geometry'].area"
   ]
  },
  {
   "cell_type": "code",
   "execution_count": null,
   "metadata": {},
   "outputs": [],
   "source": [
    "group_df"
   ]
  },
  {
   "cell_type": "code",
   "execution_count": null,
   "metadata": {},
   "outputs": [],
   "source": [
    "df[df['Category']=='population_density']"
   ]
  },
  {
   "cell_type": "code",
   "execution_count": null,
   "metadata": {},
   "outputs": [],
   "source": [
    "df = tui_actual.heat_maps['building_density'].copy()\n",
    "df.loc[df['density']>0, 'density'].mean()\n",
    "# df.loc[df['density']>=0, 'density'].mean()"
   ]
  },
  {
   "cell_type": "code",
   "execution_count": null,
   "metadata": {},
   "outputs": [],
   "source": [
    "df"
   ]
  },
  {
   "cell_type": "code",
   "execution_count": null,
   "metadata": {},
   "outputs": [],
   "source": [
    "def mapeo_inverso_tiempo_viaje(valor):\n",
    "    limit_time = 30\n",
    "\n",
    "    if valor >= limit_time:\n",
    "        return 0\n",
    "    else:\n",
    "        return 100 - (valor / limit_time) * 100\n",
    "\n",
    "mapeo_inverso_tiempo_viaje(15)"
   ]
  },
  {
   "cell_type": "code",
   "execution_count": null,
   "metadata": {},
   "outputs": [],
   "source": [
    "df = tui_actual.calc_radar_proximity()\n",
    "\n",
    "delete_categories = ['Aprovisionamiento']\n",
    "df['Category'] = df['Category'].str.replace('Cuidados', 'Salud')\n",
    "df = df[~df['Category'].isin(delete_categories)]\n",
    "\n",
    "df"
   ]
  },
  {
   "cell_type": "code",
   "execution_count": null,
   "metadata": {},
   "outputs": [],
   "source": [
    "ppl = tui_actual.heat_maps['population_density']\n",
    "ppl = ppl[['hex_id', 'population']]\n",
    "total_population = ppl['population'].sum()"
   ]
  },
  {
   "cell_type": "code",
   "execution_count": null,
   "metadata": {},
   "outputs": [],
   "source": [
    "proximity_gdf = []\n",
    "\n",
    "proximity_cols = ['source', 'destination', 'path_lengths', 'Category', 'hex_id', 'geometry', 'travel_time']\n",
    "\n",
    "listado_de_claves = list(tui_actual.heat_maps.keys())\n",
    "\n",
    "claves_proximidad = [clave for clave in listado_de_claves if clave.endswith('_proximity') and 'parque' not in clave and 'plaza' not in clave]\n",
    "\n",
    "for key in claves_proximidad:\n",
    "    gdf = tui_actual.heat_maps[key].drop_duplicates(subset=['hex_id'])\n",
    "    gdf = gdf[proximity_cols]\n",
    "    proximity_gdf.append(gdf)\n",
    "\n",
    "claves_proximidad = [clave for clave in listado_de_claves if clave.endswith('_proximity') and (clave.startswith('plaza') or clave.startswith('parque'))]\n",
    "\n",
    "for key in claves_proximidad:\n",
    "    gdf = tui_actual.heat_maps[key].drop_duplicates(subset=['hex_id'])\n",
    "    gdf['Category'] = gdf['class'].map({'PK': 'Parque', 'SQ': 'Plaza'})\n",
    "    gdf = gdf[proximity_cols]\n",
    "    # print(key)\n",
    "    proximity_gdf.append(gdf)\n",
    "\n",
    "proximity_gdf = pd.concat(proximity_gdf)\n",
    "proximity_gdf.head()"
   ]
  },
  {
   "cell_type": "code",
   "execution_count": null,
   "metadata": {},
   "outputs": [],
   "source": [
    "# Definimos los rangos\n",
    "rangos = [0, 10, 20]\n",
    "\n",
    "# Etiquetas para los rangos, ajusta según tus necesidades\n",
    "etiquetas = ['Baja', 'Media', 'Alta']\n",
    "\n",
    "# Creamos una nueva columna en el gdf para almacenar las etiquetas de los rangos\n",
    "proximity_gdf['proximidad'] = pd.cut(proximity_gdf['travel_time'], bins=rangos + [float('inf')], labels=etiquetas, right=False)\n",
    "\n",
    "proximity_and_ppl_gdf = pd.merge(proximity_gdf, ppl, on='hex_id', how='outer')\n",
    "\n",
    "df = proximity_and_ppl_gdf.groupby(['Category', 'proximidad'])['population'].agg('sum').reset_index()\n",
    "\n",
    "df['population'] = 100*df['population']/total_population"
   ]
  },
  {
   "cell_type": "code",
   "execution_count": null,
   "metadata": {},
   "outputs": [],
   "source": [
    "# Crear un diccionario en el formato deseado\n",
    "output = {\n",
    "    \"barrasHorizontalesStackeadas\": {\n",
    "        \"barras\": []\n",
    "    }\n",
    "}\n",
    "\n",
    "# Iterar sobre las filas del DataFrame para crear la estructura deseada\n",
    "for nombre, group in df.groupby(\"Category\"):\n",
    "    valores = group[\"population\"].tolist()\n",
    "    output[\"barrasHorizontalesStackeadas\"][\"barras\"].append({\"nombre\": nombre, \"valores\": valores})\n",
    "\n",
    "# Convertir a JSON\n",
    "import json\n",
    "\n",
    "json_output = json.dumps(output, indent=2)\n",
    "print(json_output)"
   ]
  },
  {
   "cell_type": "code",
   "execution_count": null,
   "metadata": {},
   "outputs": [],
   "source": [
    "# Preparar los datos para el gráfico\n",
    "categorias = df['Category'].unique()\n",
    "proximidades = df['proximidad'].unique()\n",
    "\n",
    "# Base para las barras apiladas\n",
    "bases = {categoria: 0 for categoria in categorias}\n",
    "\n",
    "# Crear el gráfico\n",
    "fig, ax = plt.subplots()\n",
    "\n",
    "for proximidad in proximidades:\n",
    "    valores = df[df['proximidad'] == proximidad].groupby('Category')['population'].sum()\n",
    "    ax.barh(categorias, valores, left=[bases[categoria] for categoria in categorias], label=proximidad)\n",
    "    # Actualizar las bases para la siguiente proximidad\n",
    "    for categoria in categorias:\n",
    "        bases[categoria] += valores.get(categoria, 0)\n",
    "\n",
    "# Añadir detalles al gráfico\n",
    "ax.set_xlabel('Población')\n",
    "ax.set_title('Distribución de Población por Categoría y Proximidad')\n",
    "plt.legend()\n",
    "\n",
    "# Mostrar el gráfico\n",
    "plt.show()"
   ]
  },
  {
   "cell_type": "code",
   "execution_count": null,
   "metadata": {},
   "outputs": [],
   "source": [
    "land_uses_diversity = tui_actual.heat_maps['land_uses_diversity']\n",
    "land_uses_diversity.loc[land_uses_diversity['diversity']>0, 'diversity'].mean()"
   ]
  },
  {
   "cell_type": "code",
   "execution_count": null,
   "metadata": {},
   "outputs": [],
   "source": [
    "lu = tui_actual.heat_maps['land_uses_diversity']"
   ]
  },
  {
   "cell_type": "code",
   "execution_count": null,
   "metadata": {},
   "outputs": [],
   "source": [
    "gdf = tui_actual.lu.get_current_land_uses()"
   ]
  },
  {
   "cell_type": "code",
   "execution_count": null,
   "metadata": {},
   "outputs": [],
   "source": [
    "porcentaje_limit = 3\n",
    "\n",
    "# Calcular la distribución de Uso según area_predio\n",
    "uso_distribucion = gdf.groupby('Uso')['area_predio'].sum().reset_index()\n",
    "\n",
    "# Cambiar el nombre de la columna 'area_predio' a 'total_area_predio'\n",
    "uso_distribucion = uso_distribucion.rename(columns={'area_predio': 'total_area_predio'})\n",
    "\n",
    "# Calcular el porcentaje de área en relación con el total\n",
    "uso_distribucion['porcentaje_area'] = uso_distribucion['total_area_predio'] / uso_distribucion['total_area_predio'].sum() * 100\n",
    "\n",
    "uso_distribucion.loc[uso_distribucion['porcentaje_area']<porcentaje_limit,'Uso'] = 'OTROS'\n",
    "uso_distribucion = uso_distribucion.groupby(['Uso'])[['total_area_predio', 'porcentaje_area']].agg('sum').reset_index()\n",
    "# Encuentra la longitud máxima en la columna \"Uso\"\n",
    "longitud_maxima = uso_distribucion['Uso'].str.len().max()\n",
    "\n",
    "# Rellena los valores más cortos con espacios en blanco para que tengan la misma longitud\n",
    "uso_distribucion['Uso'] = uso_distribucion['Uso'].str.capitalize()\n",
    "uso_distribucion['Uso'] = uso_distribucion['Uso'].str.strip()\n",
    "uso_distribucion['Uso'] = uso_distribucion['Uso'].str.ljust(longitud_maxima)\n",
    "\n",
    "# Crear una lista de diccionarios en el formato deseado\n",
    "tipos = []\n",
    "for index, row in uso_distribucion.iterrows():\n",
    "    tipo = {\n",
    "        \"nombre\": row['Uso'],  # Elimina espacios en blanco al principio y al final\n",
    "        \"valor\": int(row['porcentaje_area'])  # Convierte el porcentaje a entero\n",
    "    }\n",
    "    tipos.append(tipo)\n",
    "\n",
    "# Crear el diccionario JSON final\n",
    "json_output = {\n",
    "    \"graficoDeTorta\": {\n",
    "        \"tipos\": tipos\n",
    "    }\n",
    "}\n",
    "\n",
    "# Convertir a JSON y mostrarlo o guardar en un archivo\n",
    "print(json.dumps(json_output, indent=2))\n"
   ]
  },
  {
   "cell_type": "code",
   "execution_count": null,
   "metadata": {},
   "outputs": [],
   "source": [
    "import matplotlib.pyplot as plt\n",
    "\n",
    "# Crear el gráfico de torta\n",
    "plt.figure(figsize=(8, 8))\n",
    "plt.pie(uso_distribucion['total_area_predio'], labels=uso_distribucion['Uso'], autopct='%1.1f%%', startangle=140)\n",
    "plt.axis('equal')  # Hace que el gráfico de torta sea un círculo\n",
    "\n",
    "# Añadir un título\n",
    "plt.title(\"Distribución de Área por Uso\")\n",
    "\n",
    "# Mostrar el gráfico\n",
    "plt.show()"
   ]
  },
  {
   "cell_type": "code",
   "execution_count": null,
   "metadata": {},
   "outputs": [],
   "source": [
    "import matplotlib.pyplot as plt\n",
    "import pandas as pd\n",
    "import geopandas as gpd\n",
    "\n",
    "# Asumiendo que ya tienes tu GeoDataFrame 'gdf' y la columna 'proximidad' definida\n",
    "\n",
    "# Contar la cantidad de registros en cada categoría\n",
    "conteo = gdf['proximidad'].value_counts()\n",
    "\n",
    "# Calcular los porcentajes\n",
    "porcentajes = conteo / conteo.sum() * 100\n",
    "\n",
    "# Preparar los datos para el gráfico de barras apiladas\n",
    "categorias = porcentajes.index\n",
    "valores = porcentajes.values\n",
    "\n",
    "# Iniciar la base para la barra apilada\n",
    "base = 0\n",
    "\n",
    "# Crear una barra apilada para cada categoría\n",
    "for i, valor in enumerate(valores):\n",
    "    plt.bar(\"Total\", valor, bottom=base, label=categorias[i])\n",
    "    base += valor\n",
    "\n",
    "# Añadir detalles al gráfico\n",
    "plt.ylabel('Porcentaje (%)')\n",
    "plt.title('Distribución de Proximidad (Normalizado)')\n",
    "plt.legend()\n",
    "\n",
    "# Mostrar el gráfico\n",
    "plt.show()\n"
   ]
  },
  {
   "cell_type": "code",
   "execution_count": null,
   "metadata": {},
   "outputs": [],
   "source": [
    "def proximity_to_numeric_categories(gdf):\n",
    "    data = []\n",
    "\n",
    "\n",
    "    return data\n",
    "\n",
    "proximity_to_numeric_categories()"
   ]
  },
  {
   "cell_type": "code",
   "execution_count": null,
   "metadata": {},
   "outputs": [],
   "source": [
    "# folder = \n",
    "# tui_actual"
   ]
  },
  {
   "cell_type": "code",
   "execution_count": null,
   "metadata": {},
   "outputs": [],
   "source": [
    "gdf = tui_actual.heat_maps['land_uses_diversity']"
   ]
  },
  {
   "cell_type": "code",
   "execution_count": null,
   "metadata": {},
   "outputs": [],
   "source": [
    "gdf.to_file('/app/data/export_as_shape/land_uses/actual')"
   ]
  },
  {
   "cell_type": "code",
   "execution_count": null,
   "metadata": {},
   "outputs": [],
   "source": [
    "def get_changes_data(tui, mode, plate_id, scenario_id):\n",
    "    output_data = {}\n",
    "    if mode=='am':\n",
    "        output_data['actual'] = tui.am.get_current_amenities()\n",
    "        tui.am._update_plate_area(plate_id, scenario_id)\n",
    "        output_data['update'] = tui.am.get_current_amenities()\n",
    "    elif mode=='bk':\n",
    "        output_data['actual'] = tui.bk.get_current_scenario()\n",
    "        tui.bk._update_plate_area(plate_id, scenario_id)\n",
    "        output_data['update'] = tui.bk.get_current_scenario()\n",
    "    elif mode=='bl':\n",
    "        output_data['actual'] = tui.bl.get_current_scenario()\n",
    "        tui.bl._update_plate_area(plate_id, scenario_id)\n",
    "        output_data['update'] = tui.bl.get_current_scenario()\n",
    "    elif mode=='ga':\n",
    "        output_data['actual'] = tui.ga.get_green_areas()\n",
    "        tui.ga._update_plate_area(plate_id, scenario_id)\n",
    "        output_data['update'] = tui.ga.get_green_areas()\n",
    "    elif mode=='lu':\n",
    "        output_data['actual'] = tui.lu.get_current_land_uses()\n",
    "        tui.lu._update_plate_area(plate_id, scenario_id)\n",
    "        output_data['update'] = tui.lu.get_current_land_uses()\n",
    "    return output_data\n",
    "\n",
    "mode = 'lu'\n",
    "sel_plate = 1\n",
    "scenario_id = 1\n",
    "\n",
    "changed_data = get_changes_data(tui_actual, mode, sel_plate, scenario_id)\n",
    "\n",
    "# tui_actual.am.get_current_amenities()\n",
    "fig, ax = plt.subplots(1,2)\n",
    "for idx, plate in tui_actual.plates.items():\n",
    "    if idx!=sel_plate:\n",
    "        plate.plot(ax=ax[0], alpha=0.5)\n",
    "    else:\n",
    "        plate.plot(ax=ax[0], alpha=0.5, color='red')\n",
    "data = changed_data['actual']\n",
    "gpd.sjoin(data, tui_actual.area_scope).plot(ax=ax[0], column='plate_id', markersize=10)\n",
    "print(data.shape)\n",
    "\n",
    "for idx, plate in tui_actual.plates.items():\n",
    "    if idx!=sel_plate:\n",
    "        plate.plot(ax=ax[1], alpha=0.5)\n",
    "    else:\n",
    "        plate.plot(ax=ax[1], alpha=0.5, color='red')\n",
    "\n",
    "data = changed_data['update']\n",
    "gpd.sjoin(data, tui_actual.area_scope).plot(ax=ax[1], column='plate_id', markersize=10)\n",
    "print(data.shape)"
   ]
  },
  {
   "cell_type": "code",
   "execution_count": null,
   "metadata": {},
   "outputs": [],
   "source": [
    "plate_id = 7\n",
    "scenario_id = 1\n",
    "tui_actual.update_plate_status(plate_id=plate_id, scenario_id=scenario_id)"
   ]
  },
  {
   "cell_type": "code",
   "execution_count": null,
   "metadata": {},
   "outputs": [],
   "source": [
    "plate_id = 5\n",
    "scenario_id = 1\n",
    "tui_actual.update_plate_status(plate_id=plate_id, scenario_id=scenario_id)"
   ]
  },
  {
   "cell_type": "code",
   "execution_count": null,
   "metadata": {},
   "outputs": [],
   "source": [
    "tui_actual.st.plate_states"
   ]
  },
  {
   "cell_type": "code",
   "execution_count": null,
   "metadata": {},
   "outputs": [],
   "source": [
    "tui_actual.update_plate_status(7, 0)"
   ]
  },
  {
   "cell_type": "code",
   "execution_count": null,
   "metadata": {},
   "outputs": [],
   "source": [
    "nodes, edges = tui_actual.st.get_current_nodes_and_edges()"
   ]
  },
  {
   "cell_type": "code",
   "execution_count": null,
   "metadata": {},
   "outputs": [],
   "source": [
    "gpd.sjoin(edges, tui_actual.area_scope).plot()"
   ]
  },
  {
   "cell_type": "code",
   "execution_count": null,
   "metadata": {},
   "outputs": [],
   "source": [
    "area = tui_actual.area_scope"
   ]
  },
  {
   "cell_type": "code",
   "execution_count": null,
   "metadata": {},
   "outputs": [],
   "source": [
    "anodes = gpd.read_file('/app/data/calles_etiquetadas/streets/streets/actual/nodes')\n",
    "aedges = gpd.read_file('/app/data/calles_etiquetadas/streets/streets/actual/edges')\n",
    "fnodes = gpd.read_file('/app/data/calles_etiquetadas/streets/streets/future/nodes')\n",
    "fedges = gpd.read_file('/app/data/calles_etiquetadas/streets/streets/future/edges')\n",
    "anodes['x'] = anodes['geometry'].x\n",
    "anodes['y'] = anodes['geometry'].y\n",
    "fnodes['x'] = fnodes['geometry'].x\n",
    "fnodes['y'] = fnodes['geometry'].y\n",
    "aedges['from'] = aedges['u']\n",
    "aedges['to'] = aedges['v']\n",
    "edges_cols = ['u', 'v', 'key', 'from', 'to', 'osmid', 'length', 'plate_id', 'geometry']\n",
    "aedges = aedges[edges_cols]\n",
    "fedges = fedges[edges_cols]\n",
    "fedges['plate_id'].fillna(0, inplace=True)"
   ]
  },
  {
   "cell_type": "code",
   "execution_count": null,
   "metadata": {},
   "outputs": [],
   "source": [
    "gpd.sjoin(fedges, area).plot(column='plate_id', markersize=5)"
   ]
  },
  {
   "cell_type": "code",
   "execution_count": null,
   "metadata": {},
   "outputs": [],
   "source": [
    "import geopandas as gpd\n",
    "import glob\n",
    "import os\n",
    "def load_plates():\n",
    "    default_crs = 32718\n",
    "    plates_path = '/app/assets/plates'\n",
    "    plates_files = glob.glob(os.path.join(plates_path, '*'))\n",
    "    plates = {}\n",
    "    num_plates = 0\n",
    "    for file in plates_files:\n",
    "        idx = os.path.split(file)[-1]\n",
    "        if not idx.isdigit():\n",
    "        # Verifica si el nombre del archivo es un plate con numero\n",
    "            continue\n",
    "        else:\n",
    "        # Convierte idx en un entero antes de agregarlo al diccionario\n",
    "            idx = int(idx)\n",
    "            plate = gpd.read_file(file).to_crs(default_crs)\n",
    "            plates[idx] = plate\n",
    "            num_plates += 1\n",
    "    return num_plates, plates"
   ]
  },
  {
   "cell_type": "code",
   "execution_count": null,
   "metadata": {},
   "outputs": [],
   "source": [
    "num_plates, plates = load_plates()"
   ]
  },
  {
   "cell_type": "code",
   "execution_count": null,
   "metadata": {},
   "outputs": [],
   "source": [
    "from modules.Base import BaseModule\n",
    "\n",
    "mod = BaseModule()"
   ]
  },
  {
   "cell_type": "code",
   "execution_count": null,
   "metadata": {},
   "outputs": [],
   "source": [
    "mod.plate_states[2]=1\n",
    "mod.plate_states[6]=1"
   ]
  },
  {
   "cell_type": "code",
   "execution_count": null,
   "metadata": {},
   "outputs": [],
   "source": [
    "plate_state = mod.plate_states\n",
    "\n",
    "def valid_plates_street_state():\n",
    "    lower_plate = 6\n",
    "    for key, value in plate_state.items():\n",
    "        if key >= lower_plate and value == 1:\n",
    "            return 1\n",
    "    return 0\n",
    "\n",
    "valid_plates_street_state()"
   ]
  },
  {
   "cell_type": "code",
   "execution_count": null,
   "metadata": {},
   "outputs": [],
   "source": [
    "import geopandas as gpd"
   ]
  },
  {
   "cell_type": "code",
   "execution_count": null,
   "metadata": {},
   "outputs": [],
   "source": [
    "gpd.read_parquet('/app/export/0000011/aprovisionamiento_proximity.parquet').plot(column='travel_time')"
   ]
  },
  {
   "cell_type": "code",
   "execution_count": null,
   "metadata": {},
   "outputs": [],
   "source": [
    "fedges.plot(column='plate_id', markersize=5)"
   ]
  },
  {
   "cell_type": "code",
   "execution_count": null,
   "metadata": {},
   "outputs": [],
   "source": [
    "keyword = 'proximity'\n",
    "filtered_keys = [clave for clave in tui_actual.heat_maps.keys() if keyword in clave]\n",
    "filtered_keys"
   ]
  },
  {
   "cell_type": "code",
   "execution_count": null,
   "metadata": {},
   "outputs": [],
   "source": [
    "heatmaps = tui_actual.heat_maps"
   ]
  },
  {
   "cell_type": "code",
   "execution_count": null,
   "metadata": {},
   "outputs": [],
   "source": [
    "################################################################\n",
    "# Hacer el join entre tiempos de viaje y personas por hexagono.\n",
    "# Sacar cantidad de personas a X minutos de distancia"
   ]
  },
  {
   "cell_type": "code",
   "execution_count": null,
   "metadata": {},
   "outputs": [],
   "source": [
    "gdf = heatmaps['parque_proximity']\n",
    "gdf.head(3)"
   ]
  },
  {
   "cell_type": "code",
   "execution_count": null,
   "metadata": {},
   "outputs": [],
   "source": [
    "green_areas = tui_actual.ga.get_green_areas()\n",
    "green_areas.head(3)"
   ]
  },
  {
   "cell_type": "code",
   "execution_count": null,
   "metadata": {},
   "outputs": [],
   "source": [
    "ppl = tui_actual.population_by_unit\n",
    "ppl.head(3)"
   ]
  },
  {
   "cell_type": "code",
   "execution_count": null,
   "metadata": {},
   "outputs": [],
   "source": [
    "merge_gdf = pd.merge(gdf[['hex_id', 'ID_AV']], ppl[['hex_id', 'population']], on='hex_id')"
   ]
  },
  {
   "cell_type": "code",
   "execution_count": null,
   "metadata": {},
   "outputs": [],
   "source": [
    "group_df = merge_gdf.groupby(['ID_AV'])['population'].agg('sum').reset_index()"
   ]
  },
  {
   "cell_type": "code",
   "execution_count": null,
   "metadata": {},
   "outputs": [],
   "source": [
    "pd.merge(green_areas, group_df, on='ID_AV').plot(column='population', cmap='YlGn')"
   ]
  },
  {
   "cell_type": "code",
   "execution_count": null,
   "metadata": {},
   "outputs": [],
   "source": [
    "import matplotlib.pyplot as plt\n",
    "fig, ax = plt.subplots()\n",
    "green_areas.plot(ax=ax, color='green')\n",
    "green_areas[green_areas['ID_AV']=='PK20'].plot(ax=ax, color='red')"
   ]
  },
  {
   "cell_type": "code",
   "execution_count": null,
   "metadata": {},
   "outputs": [],
   "source": [
    "tui_futuro = TableUserInferface()\n",
    "tui_futuro.change_scenario(1)\n",
    "tui_futuro.calc_heatmaps_kpis()"
   ]
  },
  {
   "cell_type": "code",
   "execution_count": null,
   "metadata": {},
   "outputs": [],
   "source": [
    "fig, ax = plt.subplots(1,2)\n",
    "tui_actual.heat_maps['building_density'].plot(column='density', ax=ax[0])\n",
    "tui_futuro.heat_maps['building_density'].plot(column='density', ax=ax[1])"
   ]
  },
  {
   "cell_type": "code",
   "execution_count": null,
   "metadata": {},
   "outputs": [],
   "source": [
    "fig, ax = plt.subplots(1,2)\n",
    "tui_actual.heat_maps['land_uses_diversity'].plot(column='diversity', ax=ax[0])\n",
    "tui_futuro.heat_maps['land_uses_diversity'].plot(column='diversity', ax=ax[1])"
   ]
  },
  {
   "cell_type": "code",
   "execution_count": null,
   "metadata": {},
   "outputs": [],
   "source": [
    "fig, ax = plt.subplots(1,2)\n",
    "tui_actual.heat_maps['population_density'].plot(column='density', ax=ax[0])\n",
    "tui_futuro.heat_maps['population_density'].plot(column='density', ax=ax[1])"
   ]
  },
  {
   "cell_type": "code",
   "execution_count": null,
   "metadata": {},
   "outputs": [],
   "source": [
    "lu_actual = tui_actual.heat_maps['land_uses_diversity']\n",
    "lu_futuro = tui_futuro.heat_maps['land_uses_diversity']\n",
    "print('Diversidad de Usos de Suelo promedio actual')\n",
    "print(lu_actual.loc[lu_actual['diversity'] > 0, 'diversity'].mean())\n",
    "print()\n",
    "print('Diversidad de Usos de Suelo promedio futuro')\n",
    "print(lu_futuro.loc[lu_futuro['diversity'] > 0, 'diversity'].mean())"
   ]
  },
  {
   "cell_type": "code",
   "execution_count": null,
   "metadata": {},
   "outputs": [],
   "source": [
    "bd_actual = tui_actual.heat_maps['building_density']\n",
    "bd_futuro = tui_futuro.heat_maps['building_density']\n",
    "\n",
    "print('Densidad de construcciones promedio actual')\n",
    "print(bd_actual.loc[bd_actual['density'] > 0, 'density'].mean())\n",
    "print()\n",
    "print('Densidad de construcciones promedio futuro')\n",
    "print(bd_futuro.loc[bd_futuro['density'] > 0, 'density'].mean())"
   ]
  },
  {
   "cell_type": "code",
   "execution_count": null,
   "metadata": {},
   "outputs": [],
   "source": [
    "pd_actual = tui_actual.heat_maps['population_density']\n",
    "pd_futuro = tui_futuro.heat_maps['population_density']\n",
    "\n",
    "print('Densidad de población promedio actual')\n",
    "print(pd_actual.loc[pd_actual['density'] > 0, 'density'].mean())\n",
    "print()\n",
    "print('Densidad de población promedio futuro')\n",
    "print(pd_futuro.loc[pd_futuro['density'] > 0, 'density'].mean())"
   ]
  },
  {
   "cell_type": "code",
   "execution_count": null,
   "metadata": {},
   "outputs": [],
   "source": [
    "tui_actual.save_heatmaps()\n",
    "tui_futuro.save_heatmaps()"
   ]
  }
 ],
 "metadata": {
  "kernelspec": {
   "display_name": "Python 3 (ipykernel)",
   "language": "python",
   "name": "python3"
  },
  "language_info": {
   "codemirror_mode": {
    "name": "ipython",
    "version": 3
   },
   "file_extension": ".py",
   "mimetype": "text/x-python",
   "name": "python",
   "nbconvert_exporter": "python",
   "pygments_lexer": "ipython3",
   "version": "3.9.18"
  }
 },
 "nbformat": 4,
 "nbformat_minor": 2
}
