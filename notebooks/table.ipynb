{
 "cells": [
  {
   "cell_type": "code",
   "execution_count": null,
   "metadata": {},
   "outputs": [
    {
     "ename": "",
     "evalue": "",
     "output_type": "error",
     "traceback": [
      "\u001b[1;31mRunning cells with 'c:\\Python311\\python.exe' requires the ipykernel package.\n",
      "\u001b[1;31mRun the following command to install 'ipykernel' into the Python environment. \n",
      "\u001b[1;31mCommand: 'c:/Python311/python.exe -m pip install ipykernel -U --user --force-reinstall'"
     ]
    }
   ],
   "source": [
    "import geopandas as gpd\n",
    "import numpy as np\n",
    "import pandas as pd\n",
    "from glob import glob\n",
    "import matplotlib.pyplot as plt\n",
    "import matplotlib.colors as mcolors\n",
    "import os\n",
    "\n",
    "from modules.Table import TableUserInferface"
   ]
  },
  {
   "cell_type": "code",
   "execution_count": 2,
   "metadata": {},
   "outputs": [],
   "source": [
    "tui_actual = TableUserInferface()"
   ]
  },
  {
   "cell_type": "code",
   "execution_count": 5,
   "metadata": {},
   "outputs": [],
   "source": [
    "tui_actual.calc_bicycle_route_kpis()"
   ]
  },
  {
   "cell_type": "code",
   "execution_count": 9,
   "metadata": {},
   "outputs": [],
   "source": [
    "tui_actual.calc_numeric_kpis()"
   ]
  },
  {
   "cell_type": "code",
   "execution_count": 1,
   "metadata": {},
   "outputs": [
    {
     "ename": "NameError",
     "evalue": "name 'tui_actual' is not defined",
     "output_type": "error",
     "traceback": [
      "\u001b[0;31m---------------------------------------------------------------------------\u001b[0m",
      "\u001b[0;31mNameError\u001b[0m                                 Traceback (most recent call last)",
      "Cell \u001b[0;32mIn[1], line 3\u001b[0m\n\u001b[1;32m      1\u001b[0m \u001b[38;5;28;01mimport\u001b[39;00m \u001b[38;5;21;01mjson\u001b[39;00m\n\u001b[1;32m      2\u001b[0m \u001b[38;5;28;01mfor\u001b[39;00m n_scenario \u001b[38;5;129;01min\u001b[39;00m [\u001b[38;5;241m0\u001b[39m, \u001b[38;5;241m1\u001b[39m, \u001b[38;5;241m2\u001b[39m]:\n\u001b[0;32m----> 3\u001b[0m     bw \u001b[38;5;241m=\u001b[39m \u001b[43mtui_actual\u001b[49m\u001b[38;5;241m.\u001b[39mbw\n\u001b[1;32m      4\u001b[0m     bw\u001b[38;5;241m.\u001b[39mgo_to_scenario(n_scenario)\n\u001b[1;32m      5\u001b[0m     linear_meters \u001b[38;5;241m=\u001b[39m bw\u001b[38;5;241m.\u001b[39mcalc_linear_meters()\n",
      "\u001b[0;31mNameError\u001b[0m: name 'tui_actual' is not defined"
     ]
    }
   ],
   "source": [
    "import json\n",
    "for n_scenario in [0, 1, 2]:\n",
    "    bw = tui_actual.bw\n",
    "    bw.go_to_scenario(n_scenario)\n",
    "    linear_meters = bw.calc_linear_meters()\n",
    "\n",
    "    qs = tui_actual.sm\n",
    "    if n_scenario < 2:\n",
    "        qs.go_to_scenario(n_scenario)\n",
    "        quality_streets = qs.calculate_scoring()\n",
    "\n",
    "    export = {\n",
    "        \"tablaSemaforo\": [\n",
    "            {\n",
    "                \"nombre\": \"Calles\",\n",
    "                \"indicador1\": 100*quality_streets\n",
    "            },\n",
    "            {\n",
    "                \"nombre\": \"Ciclovias\",\n",
    "                \"indicador1\": 100*linear_meters\n",
    "            }\n",
    "        ]\n",
    "    }\n",
    "    # Exportar el diccionario como JSON a un archivo\n",
    "    scenario_name = {\n",
    "        0: 'actual',\n",
    "        1: 'future',\n",
    "        2: 'utopic',\n",
    "    }[n_scenario]\n",
    "    filename = f'/app/export/numeric/{scenario_name}.json'\n",
    "    with open(filename, 'w') as json_file:\n",
    "        json.dump(export, json_file)"
   ]
  },
  {
   "cell_type": "code",
   "execution_count": 30,
   "metadata": {},
   "outputs": [],
   "source": []
  },
  {
   "cell_type": "code",
   "execution_count": 29,
   "metadata": {},
   "outputs": [
    {
     "data": {
      "text/plain": [
       "1.0"
      ]
     },
     "execution_count": 29,
     "metadata": {},
     "output_type": "execute_result"
    }
   ],
   "source": []
  },
  {
   "cell_type": "code",
   "execution_count": 14,
   "metadata": {},
   "outputs": [
    {
     "data": {
      "text/plain": [
       "{'BicycleRouteMeters': 0.6315384040938987}"
      ]
     },
     "execution_count": 14,
     "metadata": {},
     "output_type": "execute_result"
    }
   ],
   "source": [
    "tui_actual.numeric_kpis"
   ]
  },
  {
   "cell_type": "code",
   "execution_count": 10,
   "metadata": {},
   "outputs": [
    {
     "data": {
      "text/plain": [
       "{'BicycleRouteMeters': 0.6315384040938987}"
      ]
     },
     "execution_count": 10,
     "metadata": {},
     "output_type": "execute_result"
    }
   ],
   "source": [
    "tui_actual.numeric_kpis"
   ]
  },
  {
   "cell_type": "code",
   "execution_count": 7,
   "metadata": {},
   "outputs": [],
   "source": [
    "path = '/app/export/maps'\n",
    "folders = [os.path.split(folder)[-1] for folder in glob(os.path.join(path, '*'))];\n",
    "for combination in folders:\n",
    "    folder = os.path.join(path, combination)\n",
    "    tui_actual.load_heatmaps_from_folder(folder)\n",
    "    tui_actual.generate_json_data()\n",
    "    tui_actual.export_json_data(combination)"
   ]
  },
  {
   "cell_type": "code",
   "execution_count": 3,
   "metadata": {},
   "outputs": [],
   "source": [
    "path = '/app/export/maps'\n",
    "combination = '1111111'\n",
    "folder = os.path.join(path, combination)\n",
    "tui_actual.load_heatmaps_from_folder(folder)\n",
    "tui_actual.generate_json_data()\n",
    "tui_actual.export_json_data(combination)"
   ]
  },
  {
   "cell_type": "code",
   "execution_count": null,
   "metadata": {},
   "outputs": [],
   "source": [
    "def get_changes_data(tui, mode, plate_id, scenario_id):\n",
    "    output_data = {}\n",
    "    if mode=='am':\n",
    "        output_data['actual'] = tui.am.get_current_amenities()\n",
    "        tui.am._update_plate_area(plate_id, scenario_id)\n",
    "        output_data['update'] = tui.am.get_current_amenities()\n",
    "    elif mode=='bk':\n",
    "        output_data['actual'] = tui.bk.get_current_scenario()\n",
    "        tui.bk._update_plate_area(plate_id, scenario_id)\n",
    "        output_data['update'] = tui.bk.get_current_scenario()\n",
    "    elif mode=='bl':\n",
    "        output_data['actual'] = tui.bl.get_current_scenario()\n",
    "        tui.bl._update_plate_area(plate_id, scenario_id)\n",
    "        output_data['update'] = tui.bl.get_current_scenario()\n",
    "    elif mode=='ga':\n",
    "        output_data['actual'] = tui.ga.get_green_areas()\n",
    "        tui.ga._update_plate_area(plate_id, scenario_id)\n",
    "        output_data['update'] = tui.ga.get_green_areas()\n",
    "    elif mode=='lu':\n",
    "        output_data['actual'] = tui.lu.get_current_land_uses()\n",
    "        tui.lu._update_plate_area(plate_id, scenario_id)\n",
    "        output_data['update'] = tui.lu.get_current_land_uses()\n",
    "    return output_data\n",
    "\n",
    "mode = 'lu'\n",
    "sel_plate = 1\n",
    "scenario_id = 1\n",
    "\n",
    "changed_data = get_changes_data(tui_actual, mode, sel_plate, scenario_id)\n",
    "\n",
    "# tui_actual.am.get_current_amenities()\n",
    "fig, ax = plt.subplots(1,2)\n",
    "for idx, plate in tui_actual.plates.items():\n",
    "    if idx!=sel_plate:\n",
    "        plate.plot(ax=ax[0], alpha=0.5)\n",
    "    else:\n",
    "        plate.plot(ax=ax[0], alpha=0.5, color='red')\n",
    "data = changed_data['actual']\n",
    "gpd.sjoin(data, tui_actual.area_scope).plot(ax=ax[0], column='plate_id', markersize=10)\n",
    "print(data.shape)\n",
    "\n",
    "for idx, plate in tui_actual.plates.items():\n",
    "    if idx!=sel_plate:\n",
    "        plate.plot(ax=ax[1], alpha=0.5)\n",
    "    else:\n",
    "        plate.plot(ax=ax[1], alpha=0.5, color='red')\n",
    "\n",
    "data = changed_data['update']\n",
    "gpd.sjoin(data, tui_actual.area_scope).plot(ax=ax[1], column='plate_id', markersize=10)\n",
    "print(data.shape)"
   ]
  },
  {
   "cell_type": "code",
   "execution_count": null,
   "metadata": {},
   "outputs": [],
   "source": [
    "plate_id = 7\n",
    "scenario_id = 1\n",
    "tui_actual.update_plate_status(plate_id=plate_id, scenario_id=scenario_id)"
   ]
  },
  {
   "cell_type": "code",
   "execution_count": null,
   "metadata": {},
   "outputs": [],
   "source": [
    "plate_id = 5\n",
    "scenario_id = 1\n",
    "tui_actual.update_plate_status(plate_id=plate_id, scenario_id=scenario_id)"
   ]
  },
  {
   "cell_type": "code",
   "execution_count": null,
   "metadata": {},
   "outputs": [],
   "source": [
    "tui_futuro = TableUserInferface()\n",
    "tui_futuro.change_scenario(1)\n",
    "tui_futuro.calc_heatmaps_kpis()"
   ]
  },
  {
   "cell_type": "code",
   "execution_count": null,
   "metadata": {},
   "outputs": [],
   "source": [
    "fig, ax = plt.subplots(1,2)\n",
    "tui_actual.heat_maps['building_density'].plot(column='density', ax=ax[0])\n",
    "tui_futuro.heat_maps['building_density'].plot(column='density', ax=ax[1])"
   ]
  },
  {
   "cell_type": "code",
   "execution_count": null,
   "metadata": {},
   "outputs": [],
   "source": [
    "fig, ax = plt.subplots(1,2)\n",
    "tui_actual.heat_maps['land_uses_diversity'].plot(column='diversity', ax=ax[0])\n",
    "tui_futuro.heat_maps['land_uses_diversity'].plot(column='diversity', ax=ax[1])"
   ]
  },
  {
   "cell_type": "code",
   "execution_count": null,
   "metadata": {},
   "outputs": [],
   "source": [
    "fig, ax = plt.subplots(1,2)\n",
    "tui_actual.heat_maps['population_density'].plot(column='density', ax=ax[0])\n",
    "tui_futuro.heat_maps['population_density'].plot(column='density', ax=ax[1])"
   ]
  },
  {
   "cell_type": "code",
   "execution_count": null,
   "metadata": {},
   "outputs": [],
   "source": [
    "lu_actual = tui_actual.heat_maps['land_uses_diversity']\n",
    "lu_futuro = tui_futuro.heat_maps['land_uses_diversity']\n",
    "print('Diversidad de Usos de Suelo promedio actual')\n",
    "print(lu_actual.loc[lu_actual['diversity'] > 0, 'diversity'].mean())\n",
    "print()\n",
    "print('Diversidad de Usos de Suelo promedio futuro')\n",
    "print(lu_futuro.loc[lu_futuro['diversity'] > 0, 'diversity'].mean())"
   ]
  },
  {
   "cell_type": "code",
   "execution_count": null,
   "metadata": {},
   "outputs": [],
   "source": [
    "bd_actual = tui_actual.heat_maps['building_density']\n",
    "bd_futuro = tui_futuro.heat_maps['building_density']\n",
    "\n",
    "print('Densidad de construcciones promedio actual')\n",
    "print(bd_actual.loc[bd_actual['density'] > 0, 'density'].mean())\n",
    "print()\n",
    "print('Densidad de construcciones promedio futuro')\n",
    "print(bd_futuro.loc[bd_futuro['density'] > 0, 'density'].mean())"
   ]
  },
  {
   "cell_type": "code",
   "execution_count": null,
   "metadata": {},
   "outputs": [],
   "source": [
    "pd_actual = tui_actual.heat_maps['population_density']\n",
    "pd_futuro = tui_futuro.heat_maps['population_density']\n",
    "\n",
    "print('Densidad de población promedio actual')\n",
    "print(pd_actual.loc[pd_actual['density'] > 0, 'density'].mean())\n",
    "print()\n",
    "print('Densidad de población promedio futuro')\n",
    "print(pd_futuro.loc[pd_futuro['density'] > 0, 'density'].mean())"
   ]
  },
  {
   "cell_type": "code",
   "execution_count": null,
   "metadata": {},
   "outputs": [],
   "source": [
    "tui_actual.save_heatmaps()\n",
    "tui_futuro.save_heatmaps()"
   ]
  }
 ],
 "metadata": {
  "kernelspec": {
   "display_name": "Python 3 (ipykernel)",
   "language": "python",
   "name": "python3"
  },
  "language_info": {
   "codemirror_mode": {
    "name": "ipython",
    "version": 3
   },
   "file_extension": ".py",
   "mimetype": "text/x-python",
   "name": "python",
   "nbconvert_exporter": "python",
   "pygments_lexer": "ipython3",
   "version": "3.11.5"
  }
 },
 "nbformat": 4,
 "nbformat_minor": 2
}
