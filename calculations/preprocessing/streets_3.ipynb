{
 "cells": [
  {
   "cell_type": "code",
   "execution_count": 144,
   "metadata": {},
   "outputs": [],
   "source": [
    "import geopandas as gpd\n",
    "import pandas as pd\n",
    "import warnings\n",
    "from shapely.geometry import Point\n",
    "\n",
    "# Apaga todas las advertencias (warnings)\n",
    "warnings.filterwarnings(\"ignore\")"
   ]
  },
  {
   "cell_type": "code",
   "execution_count": 145,
   "metadata": {},
   "outputs": [],
   "source": [
    "# nodes = gpd.read_file('/app/data/red_ajuste_final_final_ahorasiquesi/nodes')\n",
    "# edges = gpd.read_file('/app/data/red_ajuste_final_final_ahorasiquesi2/edges')\n",
    "# quadp = gpd.read_file('/app/data/red_ajuste_final_final_ahorasiquesi2/cuadrante_prueba')\n",
    "\n",
    "# nodes.to_parquet('/app/data/red_ajuste_final_final_ahorasiquesi/nodes.parquet')\n",
    "# edges.to_parquet('/app/data/red_ajuste_final_final_ahorasiquesi2/edges.parquet')\n",
    "# quadp.to_parquet('/app/data/red_ajuste_final_final_ahorasiquesi2/cuadrante_prueba.parquet')\n",
    "\n",
    "# nodes = gpd.read_parquet('/app/data/red_ajuste_final_final_ahorasiquesi/nodes.parquet')\n",
    "nodes = gpd.read_parquet('/app/assets/streets/future/nodes.parquet')\n",
    "edges = gpd.read_parquet('/app/data/red_ajuste_final_final_ahorasiquesi2/edges.parquet')\n",
    "quadp = gpd.read_parquet('/app/data/red_ajuste_final_final_ahorasiquesi/cuadrante_prueba.parquet')"
   ]
  },
  {
   "cell_type": "code",
   "execution_count": 146,
   "metadata": {},
   "outputs": [],
   "source": [
    "# nodes_cols = ['osmid', 'geometry']\n",
    "# nodes = nodes[nodes_cols]\n",
    "# mask = (nodes['osmid']==0)\n",
    "# area_nodes = nodes[mask]\n",
    "# area_nodes['osmid'] = ('2024'+ area_nodes.index.astype(str)).astype(int)\n",
    "# nodes = pd.concat([nodes[~mask], area_nodes])"
   ]
  },
  {
   "cell_type": "code",
   "execution_count": 147,
   "metadata": {},
   "outputs": [],
   "source": [
    "edges_cols = ['u', 'v', 'key', 'osmid', 'geometry']\n",
    "edges = edges[edges_cols]"
   ]
  },
  {
   "cell_type": "code",
   "execution_count": 148,
   "metadata": {},
   "outputs": [],
   "source": [
    "area_edges = gpd.sjoin(edges, quadp, how='inner', op='intersects')"
   ]
  },
  {
   "cell_type": "code",
   "execution_count": 149,
   "metadata": {},
   "outputs": [],
   "source": [
    "area_edges[['u', 'v']] = pd.NA"
   ]
  },
  {
   "cell_type": "code",
   "execution_count": 150,
   "metadata": {},
   "outputs": [
    {
     "data": {
      "text/plain": [
       "(4512, 7)"
      ]
     },
     "execution_count": 150,
     "metadata": {},
     "output_type": "execute_result"
    }
   ],
   "source": [
    "area_edges.shape"
   ]
  },
  {
   "cell_type": "code",
   "execution_count": 151,
   "metadata": {},
   "outputs": [],
   "source": [
    "# Añade una nueva columna llamada \"begin\" que contiene el primer punto de cada línea\n",
    "area_edges['begin'] = area_edges['geometry'].apply(lambda geom: Point(geom.coords[0]))\n",
    "\n",
    "# Añade una nueva columna llamada \"end\" que contiene el último punto de cada línea\n",
    "area_edges['end'] = area_edges['geometry'].apply(lambda geom: Point(geom.coords[-1]))\n",
    "\n",
    "# Función para encontrar el punto más cercano en el GeoDataFrame \"nodes\"\n",
    "def find_nearest_node(point):\n",
    "    nearest = nodes['geometry'].apply(lambda x: point.distance(x)).idxmin()\n",
    "    return nodes.loc[nearest, 'osmid']\n",
    "\n",
    "# Aplicamos la función para encontrar el \"source\" y \"destination\" para cada línea en \"new_edges\"\n",
    "area_edges['u'] = area_edges['begin'].apply(find_nearest_node)\n",
    "area_edges['v'] = area_edges['end'].apply(find_nearest_node)"
   ]
  },
  {
   "cell_type": "code",
   "execution_count": 152,
   "metadata": {},
   "outputs": [],
   "source": [
    "outside_edges = edges.loc[~edges.index.isin(area_edges.index), edges_cols]"
   ]
  },
  {
   "cell_type": "code",
   "execution_count": 153,
   "metadata": {},
   "outputs": [],
   "source": [
    "out_edges = pd.concat([outside_edges, area_edges])[edges_cols]"
   ]
  },
  {
   "cell_type": "code",
   "execution_count": 154,
   "metadata": {},
   "outputs": [],
   "source": [
    "out_edges['length'] = out_edges.length"
   ]
  },
  {
   "cell_type": "code",
   "execution_count": 155,
   "metadata": {},
   "outputs": [
    {
     "name": "stdout",
     "output_type": "stream",
     "text": [
      "(81405, 6)\n",
      "(40721, 7)\n",
      "Index(['key', 'osmid', 'geometry', 'u', 'v'], dtype='object')\n",
      "(81442, 5)\n"
     ]
    }
   ],
   "source": [
    "import pandas as pd\n",
    "import geopandas as gpd\n",
    "from shapely.geometry import LineString\n",
    "\n",
    "# Función para invertir la geometría y mantener el formato LINESTRING\n",
    "def reverse_geometry(geometry):\n",
    "    return LineString(geometry.coords[::-1])\n",
    "\n",
    "nodes_df, edges_df = nodes.copy(), out_edges.copy()\n",
    "\n",
    "print(edges_df.shape)\n",
    "\n",
    "# Asegúrate de que la columna 'u' siempre sea menor que 'v'\n",
    "edges_df['sorted_edges'] = edges_df.apply(lambda row: tuple(sorted([row['u'], row['v']])), axis=1)\n",
    "\n",
    "edges_df.drop_duplicates(subset=['sorted_edges'], inplace=True, keep='first')\n",
    "print(edges_df.shape)\n",
    "\n",
    "# # ['u', 'v', 'key', 'from', 'to', 'osmid', 'length', 'geometry','sorted_edges']\n",
    "\n",
    "reverse_edges = edges_df[['key','osmid', 'geometry']]\n",
    "reverse_edges['geometry'] = reverse_edges['geometry'].apply(reverse_geometry)\n",
    "reverse_edges[['u', 'v']]  = edges_df[['v', 'u']]\n",
    "print(reverse_edges.columns)\n",
    "\n",
    "# cols = ['u', 'v', 'key', 'osmid', 'from', 'to', 'geometry']\n",
    "edges_df = pd.concat([edges_df[reverse_edges.columns], reverse_edges])\n",
    "# edges_df.shape\n",
    "\n",
    "edges_df.head(3)\n",
    "print(edges_df.shape)"
   ]
  },
  {
   "cell_type": "code",
   "execution_count": 156,
   "metadata": {},
   "outputs": [],
   "source": [
    "edges_df['length'] = edges_df.length"
   ]
  },
  {
   "cell_type": "code",
   "execution_count": 157,
   "metadata": {},
   "outputs": [],
   "source": [
    "edges_df.reset_index(inplace=True)"
   ]
  },
  {
   "cell_type": "code",
   "execution_count": 158,
   "metadata": {},
   "outputs": [],
   "source": [
    "def format_net_nodes(nodes_df):\n",
    "    nodes = pd.DataFrame(\n",
    "        {\n",
    "            'osmid': nodes_df['osmid'].astype(int),\n",
    "            'lat' : nodes_df.geometry.y.astype(float),\n",
    "            'lon' : nodes_df.geometry.x.astype(float),\n",
    "            'y' : nodes_df.geometry.y.astype(float),\n",
    "            'x' : nodes_df.geometry.x.astype(float),\n",
    "        }\n",
    "    )\n",
    "    nodes['id'] = nodes['osmid'].values\n",
    "\n",
    "    nodes = gpd.GeoDataFrame(data=nodes, geometry=nodes_df.geometry)\n",
    "    nodes.set_index('osmid', inplace=True)\n",
    "    return nodes\n",
    "\n",
    "net_nodes = format_net_nodes(nodes)\n",
    "\n",
    "def format_net_edges(edges_df):\n",
    "    edges = pd.DataFrame(\n",
    "        {\n",
    "            'u': edges_df['u'].astype(int),\n",
    "            'v': edges_df['v'].astype(int),\n",
    "            'from': edges_df['u'].astype(int),\n",
    "            'to': edges_df['v'].astype(int),\n",
    "            'osmid': edges_df['osmid'].astype(int),\n",
    "            'length': edges_df['length'].astype(float)\n",
    "        }\n",
    "    )\n",
    "    edges['key'] = 0\n",
    "    edges['key'] = edges['key'].astype(int)\n",
    "    edges = gpd.GeoDataFrame(data=edges, geometry=edges_df.geometry)\n",
    "    edges.set_index(['u', 'v', 'key'], inplace=True)\n",
    "    return edges\n",
    "\n",
    "net_edges = format_net_edges(edges_df)"
   ]
  },
  {
   "cell_type": "code",
   "execution_count": 159,
   "metadata": {},
   "outputs": [
    {
     "name": "stdout",
     "output_type": "stream",
     "text": [
      "Generating contraction hierarchies with 16 threads.\n",
      "Setting CH node vector of size 36894\n",
      "Setting CH edge vector of size 81442\n",
      "Range graph removed 81442 edges of 162884\n",
      ". 10% . 20% . 30% . 40% . 50% . 60% . 70% . 80% . 90% . 100%\n"
     ]
    }
   ],
   "source": [
    "import pandana as pdna\n",
    "\n",
    "nodes_df = net_nodes\n",
    "edges_df = net_edges\n",
    "\n",
    "net = pdna.Network(\n",
    "    nodes_df['lon'],\n",
    "    nodes_df['lat'],\n",
    "    edges_df['from'],\n",
    "    edges_df['to'],\n",
    "    edges_df[['length']]\n",
    ")"
   ]
  },
  {
   "cell_type": "code",
   "execution_count": 162,
   "metadata": {},
   "outputs": [
    {
     "data": {
      "text/html": [
       "<div>\n",
       "<style scoped>\n",
       "    .dataframe tbody tr th:only-of-type {\n",
       "        vertical-align: middle;\n",
       "    }\n",
       "\n",
       "    .dataframe tbody tr th {\n",
       "        vertical-align: top;\n",
       "    }\n",
       "\n",
       "    .dataframe thead th {\n",
       "        text-align: right;\n",
       "    }\n",
       "</style>\n",
       "<table border=\"1\" class=\"dataframe\">\n",
       "  <thead>\n",
       "    <tr style=\"text-align: right;\">\n",
       "      <th></th>\n",
       "      <th></th>\n",
       "      <th></th>\n",
       "      <th>from</th>\n",
       "      <th>to</th>\n",
       "      <th>osmid</th>\n",
       "      <th>length</th>\n",
       "      <th>geometry</th>\n",
       "    </tr>\n",
       "    <tr>\n",
       "      <th>u</th>\n",
       "      <th>v</th>\n",
       "      <th>key</th>\n",
       "      <th></th>\n",
       "      <th></th>\n",
       "      <th></th>\n",
       "      <th></th>\n",
       "      <th></th>\n",
       "    </tr>\n",
       "  </thead>\n",
       "  <tbody>\n",
       "    <tr>\n",
       "      <th rowspan=\"2\" valign=\"top\">267252253</th>\n",
       "      <th>267252256</th>\n",
       "      <th>0</th>\n",
       "      <td>267252253</td>\n",
       "      <td>267252256</td>\n",
       "      <td>368010828</td>\n",
       "      <td>4.812181</td>\n",
       "      <td>LINESTRING (674769.156 5922560.301, 674767.130...</td>\n",
       "    </tr>\n",
       "    <tr>\n",
       "      <th>3718767746</th>\n",
       "      <th>0</th>\n",
       "      <td>267252253</td>\n",
       "      <td>3718767746</td>\n",
       "      <td>368010828</td>\n",
       "      <td>3.901331</td>\n",
       "      <td>LINESTRING (674769.156 5922560.301, 674771.258...</td>\n",
       "    </tr>\n",
       "    <tr>\n",
       "      <th rowspan=\"3\" valign=\"top\">267252256</th>\n",
       "      <th>8355196537</th>\n",
       "      <th>0</th>\n",
       "      <td>267252256</td>\n",
       "      <td>8355196537</td>\n",
       "      <td>367537909</td>\n",
       "      <td>5.850963</td>\n",
       "      <td>LINESTRING (674767.130 5922555.936, 674761.516...</td>\n",
       "    </tr>\n",
       "    <tr>\n",
       "      <th>3718673159</th>\n",
       "      <th>0</th>\n",
       "      <td>267252256</td>\n",
       "      <td>3718673159</td>\n",
       "      <td>368010828</td>\n",
       "      <td>6.686680</td>\n",
       "      <td>LINESTRING (674767.130 5922555.936, 674766.174...</td>\n",
       "    </tr>\n",
       "    <tr>\n",
       "      <th>7248696117</th>\n",
       "      <th>0</th>\n",
       "      <td>267252256</td>\n",
       "      <td>7248696117</td>\n",
       "      <td>776869883</td>\n",
       "      <td>11.688149</td>\n",
       "      <td>LINESTRING (674767.130 5922555.936, 674778.274...</td>\n",
       "    </tr>\n",
       "    <tr>\n",
       "      <th>...</th>\n",
       "      <th>...</th>\n",
       "      <th>...</th>\n",
       "      <td>...</td>\n",
       "      <td>...</td>\n",
       "      <td>...</td>\n",
       "      <td>...</td>\n",
       "      <td>...</td>\n",
       "    </tr>\n",
       "    <tr>\n",
       "      <th>202436800</th>\n",
       "      <th>202436801</th>\n",
       "      <th>0</th>\n",
       "      <td>202436800</td>\n",
       "      <td>202436801</td>\n",
       "      <td>972999344</td>\n",
       "      <td>89.344644</td>\n",
       "      <td>LINESTRING (672786.192 5921896.768, 672865.586...</td>\n",
       "    </tr>\n",
       "    <tr>\n",
       "      <th>202436804</th>\n",
       "      <th>7248560572</th>\n",
       "      <th>0</th>\n",
       "      <td>202436804</td>\n",
       "      <td>7248560572</td>\n",
       "      <td>972999344</td>\n",
       "      <td>54.501553</td>\n",
       "      <td>LINESTRING (672920.543 5921966.109, 672968.975...</td>\n",
       "    </tr>\n",
       "    <tr>\n",
       "      <th>202436784</th>\n",
       "      <th>1142890025</th>\n",
       "      <th>0</th>\n",
       "      <td>202436784</td>\n",
       "      <td>1142890025</td>\n",
       "      <td>98795720</td>\n",
       "      <td>22.088060</td>\n",
       "      <td>LINESTRING (672947.037 5921438.387, 672927.445...</td>\n",
       "    </tr>\n",
       "    <tr>\n",
       "      <th>202436783</th>\n",
       "      <th>202436784</th>\n",
       "      <th>0</th>\n",
       "      <td>202436783</td>\n",
       "      <td>202436784</td>\n",
       "      <td>98795720</td>\n",
       "      <td>12.446319</td>\n",
       "      <td>LINESTRING (672958.077 5921444.134, 672947.037...</td>\n",
       "    </tr>\n",
       "    <tr>\n",
       "      <th>7849111007</th>\n",
       "      <th>202436845</th>\n",
       "      <th>0</th>\n",
       "      <td>7849111007</td>\n",
       "      <td>202436845</td>\n",
       "      <td>988969775</td>\n",
       "      <td>7.522870</td>\n",
       "      <td>LINESTRING (672947.789 5921452.071, 672940.959...</td>\n",
       "    </tr>\n",
       "  </tbody>\n",
       "</table>\n",
       "<p>81442 rows × 5 columns</p>\n",
       "</div>"
      ],
      "text/plain": [
       "                                 from          to      osmid     length  \\\n",
       "u          v          key                                                 \n",
       "267252253  267252256  0     267252253   267252256  368010828   4.812181   \n",
       "           3718767746 0     267252253  3718767746  368010828   3.901331   \n",
       "267252256  8355196537 0     267252256  8355196537  367537909   5.850963   \n",
       "           3718673159 0     267252256  3718673159  368010828   6.686680   \n",
       "           7248696117 0     267252256  7248696117  776869883  11.688149   \n",
       "...                               ...         ...        ...        ...   \n",
       "202436800  202436801  0     202436800   202436801  972999344  89.344644   \n",
       "202436804  7248560572 0     202436804  7248560572  972999344  54.501553   \n",
       "202436784  1142890025 0     202436784  1142890025   98795720  22.088060   \n",
       "202436783  202436784  0     202436783   202436784   98795720  12.446319   \n",
       "7849111007 202436845  0    7849111007   202436845  988969775   7.522870   \n",
       "\n",
       "                                                                    geometry  \n",
       "u          v          key                                                     \n",
       "267252253  267252256  0    LINESTRING (674769.156 5922560.301, 674767.130...  \n",
       "           3718767746 0    LINESTRING (674769.156 5922560.301, 674771.258...  \n",
       "267252256  8355196537 0    LINESTRING (674767.130 5922555.936, 674761.516...  \n",
       "           3718673159 0    LINESTRING (674767.130 5922555.936, 674766.174...  \n",
       "           7248696117 0    LINESTRING (674767.130 5922555.936, 674778.274...  \n",
       "...                                                                      ...  \n",
       "202436800  202436801  0    LINESTRING (672786.192 5921896.768, 672865.586...  \n",
       "202436804  7248560572 0    LINESTRING (672920.543 5921966.109, 672968.975...  \n",
       "202436784  1142890025 0    LINESTRING (672947.037 5921438.387, 672927.445...  \n",
       "202436783  202436784  0    LINESTRING (672958.077 5921444.134, 672947.037...  \n",
       "7849111007 202436845  0    LINESTRING (672947.789 5921452.071, 672940.959...  \n",
       "\n",
       "[81442 rows x 5 columns]"
      ]
     },
     "execution_count": 162,
     "metadata": {},
     "output_type": "execute_result"
    }
   ],
   "source": [
    "edges_df"
   ]
  },
  {
   "cell_type": "code",
   "execution_count": null,
   "metadata": {},
   "outputs": [],
   "source": [
    "nodes['x'] = nodes.geometry.x\n",
    "nodes['y'] = nodes.geometry.y"
   ]
  },
  {
   "cell_type": "code",
   "execution_count": null,
   "metadata": {},
   "outputs": [],
   "source": [
    "# nodes.to_parquet('/app/assets/streets/future/nodes.parquet')"
   ]
  },
  {
   "cell_type": "code",
   "execution_count": 163,
   "metadata": {},
   "outputs": [],
   "source": [
    "edges_df.reset_index().to_parquet('/app/assets/streets/future/edges.parquet')"
   ]
  }
 ],
 "metadata": {
  "kernelspec": {
   "display_name": "Python 3 (ipykernel)",
   "language": "python",
   "name": "python3"
  },
  "language_info": {
   "codemirror_mode": {
    "name": "ipython",
    "version": 3
   },
   "file_extension": ".py",
   "mimetype": "text/x-python",
   "name": "python",
   "nbconvert_exporter": "python",
   "pygments_lexer": "ipython3",
   "version": "3.9.18"
  }
 },
 "nbformat": 4,
 "nbformat_minor": 2
}
