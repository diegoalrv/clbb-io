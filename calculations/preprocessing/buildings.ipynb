{
 "cells": [
  {
   "cell_type": "code",
   "execution_count": 2,
   "metadata": {},
   "outputs": [],
   "source": [
    "import geopandas as gpd"
   ]
  },
  {
   "cell_type": "code",
   "execution_count": 11,
   "metadata": {},
   "outputs": [],
   "source": [
    "# for file in ['actual', 'future']:\n",
    "#     filename = f'/app/assets/buildings/{file}.parquet'\n",
    "#     gdf = gpd.read_parquet(filename)\n",
    "#     building_cols = ['Pisos', 'Metros', 'plate_id', 'geometry']\n",
    "#     gdf[building_cols].to_parquet(filename)"
   ]
  },
  {
   "cell_type": "code",
   "execution_count": 23,
   "metadata": {},
   "outputs": [],
   "source": [
    "filename = '/app/assets/buildings/actual.parquet'\n",
    "gdf_actual = gpd.read_parquet(filename)\n",
    "gdf_actual.to_file('/app/data/etiquetado/buildings_actual')\n",
    "filename = '/app/assets/buildings/future.parquet'\n",
    "gdf_future = gpd.read_parquet(filename)\n",
    "gdf_future.to_file('/app/data/etiquetado/buildings_future')"
   ]
  },
  {
   "cell_type": "code",
   "execution_count": 14,
   "metadata": {},
   "outputs": [
    {
     "data": {
      "text/plain": [
       "(5975, 4)"
      ]
     },
     "execution_count": 14,
     "metadata": {},
     "output_type": "execute_result"
    }
   ],
   "source": [
    "gdf_actual.shape"
   ]
  },
  {
   "cell_type": "code",
   "execution_count": 17,
   "metadata": {},
   "outputs": [
    {
     "data": {
      "text/plain": [
       "(5035, 4)"
      ]
     },
     "execution_count": 17,
     "metadata": {},
     "output_type": "execute_result"
    }
   ],
   "source": [
    "gdf_future.shape"
   ]
  },
  {
   "cell_type": "code",
   "execution_count": 20,
   "metadata": {},
   "outputs": [],
   "source": [
    "diff = gdf_future[gdf_future['geometry'].isin(gdf_actual['geometry'])]"
   ]
  },
  {
   "cell_type": "code",
   "execution_count": 22,
   "metadata": {},
   "outputs": [
    {
     "data": {
      "text/plain": [
       "0.0    1227\n",
       "2.0      38\n",
       "1.0      33\n",
       "Name: plate_id, dtype: int64"
      ]
     },
     "execution_count": 22,
     "metadata": {},
     "output_type": "execute_result"
    }
   ],
   "source": [
    "diff['plate_id'].value_counts()"
   ]
  },
  {
   "cell_type": "code",
   "execution_count": 3,
   "metadata": {},
   "outputs": [],
   "source": [
    "gdf_actual = gpd.read_file('/app/data/etiquetados_por_plates/etiquetados/buildings/actual')\n",
    "gdf_future = gpd.read_file('/app/data/etiquetados_por_plates/etiquetados/buildings/future')"
   ]
  },
  {
   "cell_type": "code",
   "execution_count": 11,
   "metadata": {},
   "outputs": [],
   "source": [
    "building_cols = ['Pisos', 'Metros', 'plate_id', 'geometry']\n",
    "gdf_actual = gdf_actual[building_cols]\n",
    "gdf_future = gdf_future[building_cols]\n",
    "\n",
    "gdf_actual['plate_id'].fillna(0, inplace=True)\n",
    "gdf_future['plate_id'].fillna(0, inplace=True)"
   ]
  },
  {
   "cell_type": "code",
   "execution_count": 20,
   "metadata": {},
   "outputs": [
    {
     "data": {
      "text/html": [
       "<div>\n",
       "<style scoped>\n",
       "    .dataframe tbody tr th:only-of-type {\n",
       "        vertical-align: middle;\n",
       "    }\n",
       "\n",
       "    .dataframe tbody tr th {\n",
       "        vertical-align: top;\n",
       "    }\n",
       "\n",
       "    .dataframe thead th {\n",
       "        text-align: right;\n",
       "    }\n",
       "</style>\n",
       "<table border=\"1\" class=\"dataframe\">\n",
       "  <thead>\n",
       "    <tr style=\"text-align: right;\">\n",
       "      <th></th>\n",
       "      <th>Pisos</th>\n",
       "      <th>Metros</th>\n",
       "      <th>plate_id</th>\n",
       "      <th>geometry</th>\n",
       "    </tr>\n",
       "  </thead>\n",
       "  <tbody>\n",
       "    <tr>\n",
       "      <th>0</th>\n",
       "      <td>5.0</td>\n",
       "      <td>11.5</td>\n",
       "      <td>5.0</td>\n",
       "      <td>POLYGON Z ((672815.297 5921766.440 0.000, 6728...</td>\n",
       "    </tr>\n",
       "    <tr>\n",
       "      <th>1</th>\n",
       "      <td>5.0</td>\n",
       "      <td>11.5</td>\n",
       "      <td>5.0</td>\n",
       "      <td>POLYGON Z ((672834.982 5921728.498 0.000, 6728...</td>\n",
       "    </tr>\n",
       "    <tr>\n",
       "      <th>2</th>\n",
       "      <td>5.0</td>\n",
       "      <td>11.5</td>\n",
       "      <td>5.0</td>\n",
       "      <td>POLYGON Z ((672884.882 5921619.556 0.000, 6729...</td>\n",
       "    </tr>\n",
       "    <tr>\n",
       "      <th>3</th>\n",
       "      <td>5.0</td>\n",
       "      <td>11.5</td>\n",
       "      <td>5.0</td>\n",
       "      <td>POLYGON Z ((672912.512 5921631.671 0.000, 6729...</td>\n",
       "    </tr>\n",
       "    <tr>\n",
       "      <th>4</th>\n",
       "      <td>5.0</td>\n",
       "      <td>11.5</td>\n",
       "      <td>5.0</td>\n",
       "      <td>POLYGON Z ((672942.357 5921649.451 0.000, 6729...</td>\n",
       "    </tr>\n",
       "    <tr>\n",
       "      <th>...</th>\n",
       "      <td>...</td>\n",
       "      <td>...</td>\n",
       "      <td>...</td>\n",
       "      <td>...</td>\n",
       "    </tr>\n",
       "    <tr>\n",
       "      <th>5030</th>\n",
       "      <td>1.0</td>\n",
       "      <td>2.3</td>\n",
       "      <td>1.0</td>\n",
       "      <td>POLYGON Z ((672620.268 5922838.529 0.000, 6726...</td>\n",
       "    </tr>\n",
       "    <tr>\n",
       "      <th>5031</th>\n",
       "      <td>1.0</td>\n",
       "      <td>2.3</td>\n",
       "      <td>0.0</td>\n",
       "      <td>POLYGON Z ((672603.826 5922858.433 0.000, 6726...</td>\n",
       "    </tr>\n",
       "    <tr>\n",
       "      <th>5032</th>\n",
       "      <td>5.0</td>\n",
       "      <td>11.5</td>\n",
       "      <td>0.0</td>\n",
       "      <td>POLYGON Z ((672548.796 5922976.512 0.000, 6725...</td>\n",
       "    </tr>\n",
       "    <tr>\n",
       "      <th>5033</th>\n",
       "      <td>2.0</td>\n",
       "      <td>4.6</td>\n",
       "      <td>0.0</td>\n",
       "      <td>POLYGON Z ((672594.569 5922890.097 0.000, 6725...</td>\n",
       "    </tr>\n",
       "    <tr>\n",
       "      <th>5034</th>\n",
       "      <td>5.0</td>\n",
       "      <td>11.5</td>\n",
       "      <td>0.0</td>\n",
       "      <td>POLYGON Z ((672594.415 5922956.392 0.000, 6725...</td>\n",
       "    </tr>\n",
       "  </tbody>\n",
       "</table>\n",
       "<p>5035 rows × 4 columns</p>\n",
       "</div>"
      ],
      "text/plain": [
       "      Pisos  Metros  plate_id  \\\n",
       "0       5.0    11.5       5.0   \n",
       "1       5.0    11.5       5.0   \n",
       "2       5.0    11.5       5.0   \n",
       "3       5.0    11.5       5.0   \n",
       "4       5.0    11.5       5.0   \n",
       "...     ...     ...       ...   \n",
       "5030    1.0     2.3       1.0   \n",
       "5031    1.0     2.3       0.0   \n",
       "5032    5.0    11.5       0.0   \n",
       "5033    2.0     4.6       0.0   \n",
       "5034    5.0    11.5       0.0   \n",
       "\n",
       "                                               geometry  \n",
       "0     POLYGON Z ((672815.297 5921766.440 0.000, 6728...  \n",
       "1     POLYGON Z ((672834.982 5921728.498 0.000, 6728...  \n",
       "2     POLYGON Z ((672884.882 5921619.556 0.000, 6729...  \n",
       "3     POLYGON Z ((672912.512 5921631.671 0.000, 6729...  \n",
       "4     POLYGON Z ((672942.357 5921649.451 0.000, 6729...  \n",
       "...                                                 ...  \n",
       "5030  POLYGON Z ((672620.268 5922838.529 0.000, 6726...  \n",
       "5031  POLYGON Z ((672603.826 5922858.433 0.000, 6726...  \n",
       "5032  POLYGON Z ((672548.796 5922976.512 0.000, 6725...  \n",
       "5033  POLYGON Z ((672594.569 5922890.097 0.000, 6725...  \n",
       "5034  POLYGON Z ((672594.415 5922956.392 0.000, 6725...  \n",
       "\n",
       "[5035 rows x 4 columns]"
      ]
     },
     "execution_count": 20,
     "metadata": {},
     "output_type": "execute_result"
    }
   ],
   "source": [
    "plate_id = 7\n",
    "gdf = gdf_actual.copy()\n",
    "gdf = gdf_future.copy()\n",
    "# mask = gdf['plate_id']==plate_id\n",
    "# gdf[mask]\n",
    "gdf"
   ]
  },
  {
   "cell_type": "code",
   "execution_count": 25,
   "metadata": {},
   "outputs": [],
   "source": [
    "from modules.Buildings import Buildings\n",
    "import pandas as pd\n",
    "builds = Buildings()"
   ]
  },
  {
   "cell_type": "code",
   "execution_count": 26,
   "metadata": {},
   "outputs": [],
   "source": [
    "def _update_plate_area(builds, plate_id, scenario_id):\n",
    "    \n",
    "    current_data = builds.current_scenario\n",
    "    current_data = current_data[current_data['plate_id']!=plate_id]\n",
    "\n",
    "    new_data = builds.scenarios[scenario_id]\n",
    "    new_data = new_data[new_data['plate_id']==plate_id]\n",
    "\n",
    "    update_data = pd.concat([current_data, new_data])\n",
    "    update_data = gpd.GeoDataFrame(data=update_data.drop(columns=['geometry']), geometry=update_data['geometry'])\n",
    "\n",
    "    builds.current_scenario = update_data\n",
    "\n",
    "    return builds"
   ]
  },
  {
   "cell_type": "code",
   "execution_count": 28,
   "metadata": {},
   "outputs": [
    {
     "data": {
      "text/plain": [
       "(5975, 4)"
      ]
     },
     "execution_count": 28,
     "metadata": {},
     "output_type": "execute_result"
    }
   ],
   "source": [
    "builds.current_scenario.shape"
   ]
  },
  {
   "cell_type": "code",
   "execution_count": 29,
   "metadata": {},
   "outputs": [],
   "source": [
    "builds = _update_plate_area(builds, 7, 1)"
   ]
  },
  {
   "cell_type": "code",
   "execution_count": 30,
   "metadata": {},
   "outputs": [
    {
     "data": {
      "text/plain": [
       "(5739, 4)"
      ]
     },
     "execution_count": 30,
     "metadata": {},
     "output_type": "execute_result"
    }
   ],
   "source": [
    "builds.current_scenario.shape"
   ]
  }
 ],
 "metadata": {
  "kernelspec": {
   "display_name": "Python 3 (ipykernel)",
   "language": "python",
   "name": "python3"
  },
  "language_info": {
   "codemirror_mode": {
    "name": "ipython",
    "version": 3
   },
   "file_extension": ".py",
   "mimetype": "text/x-python",
   "name": "python",
   "nbconvert_exporter": "python",
   "pygments_lexer": "ipython3",
   "version": "3.9.18"
  }
 },
 "nbformat": 4,
 "nbformat_minor": 2
}
