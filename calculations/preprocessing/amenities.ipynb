{
 "cells": [
  {
   "cell_type": "code",
   "execution_count": 1,
   "metadata": {},
   "outputs": [],
   "source": [
    "import geopandas as gpd"
   ]
  },
  {
   "cell_type": "code",
   "execution_count": 4,
   "metadata": {},
   "outputs": [],
   "source": [
    "amenities_file = '/app/data/amenities'\n",
    "\n",
    "amn = gpd.read_file(amenities_file)\n",
    "amn['name'].fillna('', inplace=True)\n",
    "\n",
    "idna = amn['id'].isna()\n",
    "amn.loc[idna, 'id'] = ('2024' + amn[idna].index.astype(str)).astype(int)\n",
    "\n",
    "futr = amn['name'].str.contains('futur', case=False)\n",
    "amn.loc[~futr, 'scenario'] = 'actual'\n",
    "amn.loc[ futr, 'scenario'] = 'future'\n",
    "\n",
    "amn_cols = ['id', 'Category', 'scenario', 'geometry']\n",
    "amn = amn[amn_cols]\n",
    "# amn\n",
    "# amn[amn['Category']=='Cultura']"
   ]
  },
  {
   "cell_type": "code",
   "execution_count": 5,
   "metadata": {},
   "outputs": [],
   "source": [
    "amn = gpd.GeoDataFrame(data=amn.drop(columns=['geometry']), geometry=amn['geometry'])"
   ]
  },
  {
   "cell_type": "code",
   "execution_count": 6,
   "metadata": {},
   "outputs": [],
   "source": [
    "amn['id'] = amn['id'].astype(str)"
   ]
  },
  {
   "cell_type": "code",
   "execution_count": 7,
   "metadata": {},
   "outputs": [],
   "source": [
    "amn.loc[amn['scenario']=='actual', ['id', 'Category', 'geometry']].to_parquet('/app/assets/amenities/actual.parquet')\n",
    "amn.loc[:, ['id', 'Category', 'geometry']].to_parquet('/app/assets/amenities/future.parquet')"
   ]
  },
  {
   "cell_type": "code",
   "execution_count": 8,
   "metadata": {},
   "outputs": [],
   "source": [
    "amn_costanera = gpd.read_file('/app/data/amenities_costanera_v2')"
   ]
  },
  {
   "cell_type": "code",
   "execution_count": 9,
   "metadata": {},
   "outputs": [],
   "source": [
    "amn_costanera['scenario'] = 'actual'"
   ]
  },
  {
   "cell_type": "code",
   "execution_count": 10,
   "metadata": {},
   "outputs": [
    {
     "data": {
      "text/plain": [
       "(4573, 4)"
      ]
     },
     "execution_count": 10,
     "metadata": {},
     "output_type": "execute_result"
    }
   ],
   "source": [
    "amn_costanera = amn_costanera[['id', 'Category', 'scenario', 'geometry']]\n",
    "amn_costanera.shape"
   ]
  },
  {
   "cell_type": "code",
   "execution_count": 11,
   "metadata": {},
   "outputs": [],
   "source": [
    "amn_costanera.drop_duplicates(subset=['Category', 'geometry'], inplace=True)"
   ]
  },
  {
   "cell_type": "code",
   "execution_count": 13,
   "metadata": {},
   "outputs": [],
   "source": [
    "amn_costanera = amn_costanera.to_crs(amn.crs)"
   ]
  },
  {
   "cell_type": "code",
   "execution_count": 15,
   "metadata": {},
   "outputs": [],
   "source": [
    "from shapely.geometry import Point\n",
    "\n",
    "# Suponiendo que 'gdf' es tu GeoDataFrame\n",
    "# Itera sobre las geometrías y crea nuevos puntos 2D\n",
    "amn['geometry'] = amn['geometry'].apply(lambda geom: Point(geom.x, geom.y))"
   ]
  },
  {
   "cell_type": "code",
   "execution_count": 16,
   "metadata": {},
   "outputs": [],
   "source": [
    "import pandas as pd\n",
    "amn_export = pd.concat([amn, amn_costanera])\n",
    "amn_export.drop_duplicates(subset=['Category', 'geometry'], inplace=True)\n",
    "amn_export.drop_duplicates(subset=['id'], inplace=True)"
   ]
  },
  {
   "cell_type": "code",
   "execution_count": 17,
   "metadata": {},
   "outputs": [],
   "source": [
    "amn_export = gpd.GeoDataFrame(\n",
    "    data=amn_export.drop(columns=['geometry']),\n",
    "    geometry=amn_export['geometry'],\n",
    ")"
   ]
  },
  {
   "cell_type": "code",
   "execution_count": 18,
   "metadata": {},
   "outputs": [],
   "source": [
    "export_cols = ['id', 'Category', 'geometry']\n",
    "amn_export.loc[amn_export['scenario']=='actual', export_cols].to_parquet('/app/assets/amenities/actual.parquet')\n",
    "amn_export[export_cols].to_parquet('/app/assets/amenities/future.parquet')"
   ]
  },
  {
   "cell_type": "code",
   "execution_count": 19,
   "metadata": {},
   "outputs": [
    {
     "data": {
      "text/html": [
       "<div>\n",
       "<style scoped>\n",
       "    .dataframe tbody tr th:only-of-type {\n",
       "        vertical-align: middle;\n",
       "    }\n",
       "\n",
       "    .dataframe tbody tr th {\n",
       "        vertical-align: top;\n",
       "    }\n",
       "\n",
       "    .dataframe thead th {\n",
       "        text-align: right;\n",
       "    }\n",
       "</style>\n",
       "<table border=\"1\" class=\"dataframe\">\n",
       "  <thead>\n",
       "    <tr style=\"text-align: right;\">\n",
       "      <th></th>\n",
       "      <th>id</th>\n",
       "      <th>Category</th>\n",
       "      <th>geometry</th>\n",
       "    </tr>\n",
       "  </thead>\n",
       "  <tbody>\n",
       "    <tr>\n",
       "      <th>0</th>\n",
       "      <td>1280585100</td>\n",
       "      <td>Entretenimiento</td>\n",
       "      <td>POINT (673882.866 5921852.428)</td>\n",
       "    </tr>\n",
       "    <tr>\n",
       "      <th>1</th>\n",
       "      <td>1280906720</td>\n",
       "      <td>Comida para servir</td>\n",
       "      <td>POINT (673587.739 5921888.825)</td>\n",
       "    </tr>\n",
       "    <tr>\n",
       "      <th>2</th>\n",
       "      <td>1280963868</td>\n",
       "      <td>Entretenimiento</td>\n",
       "      <td>POINT (673615.644 5920946.613)</td>\n",
       "    </tr>\n",
       "    <tr>\n",
       "      <th>3</th>\n",
       "      <td>1507046243</td>\n",
       "      <td>Servicios</td>\n",
       "      <td>POINT (673665.025 5922374.360)</td>\n",
       "    </tr>\n",
       "    <tr>\n",
       "      <th>4</th>\n",
       "      <td>1507046253</td>\n",
       "      <td>Servicios</td>\n",
       "      <td>POINT (673610.110 5922345.688)</td>\n",
       "    </tr>\n",
       "    <tr>\n",
       "      <th>...</th>\n",
       "      <td>...</td>\n",
       "      <td>...</td>\n",
       "      <td>...</td>\n",
       "    </tr>\n",
       "    <tr>\n",
       "      <th>4254</th>\n",
       "      <td>2023104254</td>\n",
       "      <td>Comercio</td>\n",
       "      <td>POINT (673737.232 5920608.186)</td>\n",
       "    </tr>\n",
       "    <tr>\n",
       "      <th>4275</th>\n",
       "      <td>2023104275</td>\n",
       "      <td>Comercio</td>\n",
       "      <td>POINT (672794.080 5923516.786)</td>\n",
       "    </tr>\n",
       "    <tr>\n",
       "      <th>4494</th>\n",
       "      <td>2023104494</td>\n",
       "      <td>Comercio</td>\n",
       "      <td>POINT (672786.592 5923496.482)</td>\n",
       "    </tr>\n",
       "    <tr>\n",
       "      <th>4521</th>\n",
       "      <td>2023104521</td>\n",
       "      <td>Comercio</td>\n",
       "      <td>POINT (672595.199 5923399.289)</td>\n",
       "    </tr>\n",
       "    <tr>\n",
       "      <th>4569</th>\n",
       "      <td>2023104569</td>\n",
       "      <td>Comercio</td>\n",
       "      <td>POINT (672383.814 5923147.316)</td>\n",
       "    </tr>\n",
       "  </tbody>\n",
       "</table>\n",
       "<p>4102 rows × 3 columns</p>\n",
       "</div>"
      ],
      "text/plain": [
       "              id            Category                        geometry\n",
       "0     1280585100     Entretenimiento  POINT (673882.866 5921852.428)\n",
       "1     1280906720  Comida para servir  POINT (673587.739 5921888.825)\n",
       "2     1280963868     Entretenimiento  POINT (673615.644 5920946.613)\n",
       "3     1507046243           Servicios  POINT (673665.025 5922374.360)\n",
       "4     1507046253           Servicios  POINT (673610.110 5922345.688)\n",
       "...          ...                 ...                             ...\n",
       "4254  2023104254            Comercio  POINT (673737.232 5920608.186)\n",
       "4275  2023104275            Comercio  POINT (672794.080 5923516.786)\n",
       "4494  2023104494            Comercio  POINT (672786.592 5923496.482)\n",
       "4521  2023104521            Comercio  POINT (672595.199 5923399.289)\n",
       "4569  2023104569            Comercio  POINT (672383.814 5923147.316)\n",
       "\n",
       "[4102 rows x 3 columns]"
      ]
     },
     "execution_count": 19,
     "metadata": {},
     "output_type": "execute_result"
    }
   ],
   "source": [
    "amn_export.loc[amn_export['scenario']=='actual', export_cols]"
   ]
  },
  {
   "cell_type": "code",
   "execution_count": 20,
   "metadata": {},
   "outputs": [],
   "source": [
    "# exportar amenities fixeadas\n",
    "gdf = gpd.read_file('/app/data/amenities_Actual')"
   ]
  },
  {
   "cell_type": "code",
   "execution_count": 21,
   "metadata": {},
   "outputs": [],
   "source": [
    "gdf.loc[gdf['id'].isna(), 'id'] = ('2024' + gdf[gdf['id'].isna()].index.astype(str)).astype(int)\n",
    "gdf['id'] = gdf['id'].astype(str)"
   ]
  },
  {
   "cell_type": "code",
   "execution_count": 22,
   "metadata": {},
   "outputs": [],
   "source": [
    "amns = {}\n",
    "amns['actual'] = pd.concat([gdf, amn_export.loc[amn_export['scenario']=='actual', export_cols]]).drop_duplicates(subset=['Category', 'geometry'])"
   ]
  },
  {
   "cell_type": "code",
   "execution_count": 6,
   "metadata": {},
   "outputs": [],
   "source": [
    "# gpd.read_parquet('/app/assets/amenities/future.parquet').to_file('/app/data/output/amenities_por_corregir')"
   ]
  },
  {
   "cell_type": "code",
   "execution_count": 24,
   "metadata": {},
   "outputs": [],
   "source": [
    "futuro_corregido_helen = gpd.read_file('/app/data/output/amenities_por_corregir_helen')"
   ]
  },
  {
   "cell_type": "code",
   "execution_count": 25,
   "metadata": {},
   "outputs": [],
   "source": [
    "futuro_corregido_helen.loc[futuro_corregido_helen['id'].isna(), 'id'] = '202310'+futuro_corregido_helen[futuro_corregido_helen['id'].isna()].index.astype(str)"
   ]
  },
  {
   "cell_type": "code",
   "execution_count": 27,
   "metadata": {},
   "outputs": [],
   "source": [
    "amns['future'] = pd.concat([futuro_corregido_helen, amn_export[export_cols]]).drop_duplicates(subset=['Category', 'geometry'])"
   ]
  },
  {
   "cell_type": "code",
   "execution_count": 28,
   "metadata": {},
   "outputs": [],
   "source": [
    "[amenities.to_parquet(f'/app/assets/amenities/{k}.parquet') for k, amenities in amns.items()];"
   ]
  }
 ],
 "metadata": {
  "kernelspec": {
   "display_name": "Python 3 (ipykernel)",
   "language": "python",
   "name": "python3"
  },
  "language_info": {
   "codemirror_mode": {
    "name": "ipython",
    "version": 3
   },
   "file_extension": ".py",
   "mimetype": "text/x-python",
   "name": "python",
   "nbconvert_exporter": "python",
   "pygments_lexer": "ipython3",
   "version": "3.9.18"
  }
 },
 "nbformat": 4,
 "nbformat_minor": 2
}
