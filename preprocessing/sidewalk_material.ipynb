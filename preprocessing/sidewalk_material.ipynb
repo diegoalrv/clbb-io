{
 "cells": [
  {
   "cell_type": "code",
   "execution_count": 1,
   "metadata": {},
   "outputs": [],
   "source": [
    "import geopandas as gpd\n",
    "import pandas as pd"
   ]
  },
  {
   "cell_type": "code",
   "execution_count": 2,
   "metadata": {},
   "outputs": [],
   "source": [
    "for scenario in ['actual', 'future']:\n",
    "    gdf = gpd.read_file(f'/app/data/materialidad calles/{scenario}')\n",
    "    gdf['Tipo'] = gdf['Tipo'].replace({'Peatonal': 'Pavimento'})\n",
    "    gdf.to_parquet(f'/app/assets/sidewalk_material/{scenario}.parquet')"
   ]
  },
  {
   "cell_type": "code",
   "execution_count": 46,
   "metadata": {},
   "outputs": [],
   "source": [
    "agg = gdf.groupby(['Tipo'])['length'].agg('sum').reset_index()\n",
    "total_length = agg['length'].sum()\n",
    "agg['Length_percentage'] = agg['length']/total_length"
   ]
  },
  {
   "cell_type": "code",
   "execution_count": 59,
   "metadata": {},
   "outputs": [],
   "source": [
    "scoring = {\n",
    "    'Adoquines': 0.5,\n",
    "    'Pavimento': 1,\n",
    "    'Tierra': -3,\n",
    "}\n",
    "agg['score'] = agg['Tipo'].map(scoring)"
   ]
  },
  {
   "cell_type": "code",
   "execution_count": 60,
   "metadata": {},
   "outputs": [],
   "source": [
    "agg['length_score'] = agg['Length_percentage']*agg['score']"
   ]
  },
  {
   "cell_type": "code",
   "execution_count": 61,
   "metadata": {},
   "outputs": [
    {
     "data": {
      "text/plain": [
       "0.7437152530837745"
      ]
     },
     "execution_count": 61,
     "metadata": {},
     "output_type": "execute_result"
    }
   ],
   "source": [
    "agg['length_score'].sum()"
   ]
  }
 ],
 "metadata": {
  "kernelspec": {
   "display_name": "Python 3 (ipykernel)",
   "language": "python",
   "name": "python3"
  },
  "language_info": {
   "codemirror_mode": {
    "name": "ipython",
    "version": 3
   },
   "file_extension": ".py",
   "mimetype": "text/x-python",
   "name": "python",
   "nbconvert_exporter": "python",
   "pygments_lexer": "ipython3",
   "version": "3.9.18"
  }
 },
 "nbformat": 4,
 "nbformat_minor": 2
}
