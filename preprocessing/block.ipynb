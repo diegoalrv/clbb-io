{
 "cells": [
  {
   "cell_type": "code",
   "execution_count": 37,
   "metadata": {},
   "outputs": [],
   "source": [
    "import geopandas as gpd\n",
    "import pandas as pd\n",
    "import warnings\n",
    "# Apagar todos los warnings\n",
    "warnings.filterwarnings(\"ignore\")\n",
    "\n",
    "load_block_cols = ['MANZENT_I', 'Number_res', 'Number_hou', 'ID_PLACA', 'geometry']"
   ]
  },
  {
   "cell_type": "code",
   "execution_count": 42,
   "metadata": {},
   "outputs": [],
   "source": [
    "# Actuales\n",
    "gdf = gpd.read_file('/app/data/manzanas_actuales_futuro/actual')[load_block_cols]\n",
    "traslate = {\n",
    "    'MANZENT_I': 'block_id',\n",
    "    'Number_res': 'q_residents',\n",
    "    'Number_hou': 'q_houses',\n",
    "}\n",
    "gdf.rename(columns=traslate, inplace=True)\n",
    "gdf['ID_PLACA'].fillna(0,inplace=True)\n",
    "gdf.to_parquet('/app/assets/blocks/actual.parquet')"
   ]
  },
  {
   "cell_type": "code",
   "execution_count": 43,
   "metadata": {},
   "outputs": [],
   "source": [
    "gdf = gpd.read_file('/app/data/manzanas_actuales_futuro/future')[load_block_cols]\n",
    "traslate = {\n",
    "    'MANZENT_I': 'block_id',\n",
    "    'Number_res': 'q_residents',\n",
    "    'Number_hou': 'q_houses',\n",
    "}\n",
    "gdf.rename(columns=traslate, inplace=True)\n",
    "gdf['ID_PLACA'].fillna(0,inplace=True)\n",
    "\n",
    "def fix_ids(gdf):\n",
    "    mask = gdf['block_id'].isna()\n",
    "    not_id = gdf.loc[mask, :]\n",
    "    yes_id = gdf.loc[~mask, :]\n",
    "    not_id.loc[:, 'block_id'] = ['2024']*len(not_id) + not_id.index.astype(str)\n",
    "    gdf = pd.concat([yes_id, not_id])\n",
    "    return gdf\n",
    "\n",
    "gdf = fix_ids(gdf)\n",
    "gdf.to_parquet('/app/assets/blocks/future.parquet')"
   ]
  },
  {
   "cell_type": "code",
   "execution_count": 45,
   "metadata": {},
   "outputs": [
    {
     "data": {
      "text/plain": [
       "Index(['block_id', 'q_residents', 'q_houses', 'ID_PLACA', 'geometry'], dtype='object')"
      ]
     },
     "execution_count": 45,
     "metadata": {},
     "output_type": "execute_result"
    }
   ],
   "source": [
    "gdf.columns"
   ]
  }
 ],
 "metadata": {
  "kernelspec": {
   "display_name": "Python 3 (ipykernel)",
   "language": "python",
   "name": "python3"
  },
  "language_info": {
   "codemirror_mode": {
    "name": "ipython",
    "version": 3
   },
   "file_extension": ".py",
   "mimetype": "text/x-python",
   "name": "python",
   "nbconvert_exporter": "python",
   "pygments_lexer": "ipython3",
   "version": "3.9.18"
  }
 },
 "nbformat": 4,
 "nbformat_minor": 2
}
