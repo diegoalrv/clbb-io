{
 "cells": [
  {
   "cell_type": "code",
   "execution_count": 2,
   "metadata": {},
   "outputs": [],
   "source": [
    "import geopandas as gpd"
   ]
  },
  {
   "cell_type": "code",
   "execution_count": 3,
   "metadata": {},
   "outputs": [],
   "source": [
    "gdf = gpd.read_file('/app/data/ciclovia/utopic')"
   ]
  },
  {
   "cell_type": "code",
   "execution_count": 4,
   "metadata": {},
   "outputs": [],
   "source": [
    "gdf.loc[gdf['ID']==0, 'ID'] = '2024' + gdf[gdf['ID']==0].index.astype(str)\n",
    "gdf['ID'] = gdf['ID'].astype(int)"
   ]
  },
  {
   "cell_type": "code",
   "execution_count": 6,
   "metadata": {},
   "outputs": [],
   "source": [
    "scenarios = {\n",
    "    'Existentes': 'actual',\n",
    "    'Futuras': 'future',\n",
    "    'Utopicas': 'utopic',\n",
    "}\n",
    "mask = [False]*len(gdf)\n",
    "for k, v in scenarios.items():\n",
    "    mask = (mask)|(gdf['Estado']==k)\n",
    "    gdf.loc[mask, ['ID', 'geometry']].to_parquet(f'/app/assets/bikeway/{v}.parquet')"
   ]
  }
 ],
 "metadata": {
  "kernelspec": {
   "display_name": "Python 3 (ipykernel)",
   "language": "python",
   "name": "python3"
  }
 },
 "nbformat": 4,
 "nbformat_minor": 2
}
