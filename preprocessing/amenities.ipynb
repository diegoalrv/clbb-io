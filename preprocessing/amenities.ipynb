{
 "cells": [
  {
   "cell_type": "code",
   "execution_count": 45,
   "metadata": {},
   "outputs": [],
   "source": [
    "import geopandas as gpd"
   ]
  },
  {
   "cell_type": "code",
   "execution_count": 46,
   "metadata": {},
   "outputs": [
    {
     "data": {
      "text/html": [
       "<div>\n",
       "<style scoped>\n",
       "    .dataframe tbody tr th:only-of-type {\n",
       "        vertical-align: middle;\n",
       "    }\n",
       "\n",
       "    .dataframe tbody tr th {\n",
       "        vertical-align: top;\n",
       "    }\n",
       "\n",
       "    .dataframe thead th {\n",
       "        text-align: right;\n",
       "    }\n",
       "</style>\n",
       "<table border=\"1\" class=\"dataframe\">\n",
       "  <thead>\n",
       "    <tr style=\"text-align: right;\">\n",
       "      <th></th>\n",
       "      <th>id</th>\n",
       "      <th>Category</th>\n",
       "      <th>scenario</th>\n",
       "      <th>geometry</th>\n",
       "    </tr>\n",
       "  </thead>\n",
       "  <tbody>\n",
       "    <tr>\n",
       "      <th>0</th>\n",
       "      <td>1280585100</td>\n",
       "      <td>Entretenimiento</td>\n",
       "      <td>actual</td>\n",
       "      <td>POINT Z (673882.866 5921852.428 0.000)</td>\n",
       "    </tr>\n",
       "    <tr>\n",
       "      <th>1</th>\n",
       "      <td>1280906720</td>\n",
       "      <td>Comida para servir</td>\n",
       "      <td>actual</td>\n",
       "      <td>POINT Z (673587.739 5921888.825 0.000)</td>\n",
       "    </tr>\n",
       "    <tr>\n",
       "      <th>2</th>\n",
       "      <td>1280963868</td>\n",
       "      <td>Entretenimiento</td>\n",
       "      <td>actual</td>\n",
       "      <td>POINT Z (673615.644 5920946.613 0.000)</td>\n",
       "    </tr>\n",
       "    <tr>\n",
       "      <th>3</th>\n",
       "      <td>1507046243</td>\n",
       "      <td>Servicios</td>\n",
       "      <td>actual</td>\n",
       "      <td>POINT Z (673665.025 5922374.360 0.000)</td>\n",
       "    </tr>\n",
       "    <tr>\n",
       "      <th>4</th>\n",
       "      <td>1507046253</td>\n",
       "      <td>Servicios</td>\n",
       "      <td>actual</td>\n",
       "      <td>POINT Z (673610.110 5922345.688 0.000)</td>\n",
       "    </tr>\n",
       "    <tr>\n",
       "      <th>...</th>\n",
       "      <td>...</td>\n",
       "      <td>...</td>\n",
       "      <td>...</td>\n",
       "      <td>...</td>\n",
       "    </tr>\n",
       "    <tr>\n",
       "      <th>882</th>\n",
       "      <td>2024882</td>\n",
       "      <td>Cultura</td>\n",
       "      <td>actual</td>\n",
       "      <td>POINT Z (673801.359 5922528.531 0.000)</td>\n",
       "    </tr>\n",
       "    <tr>\n",
       "      <th>883</th>\n",
       "      <td>2024883</td>\n",
       "      <td>Cultura</td>\n",
       "      <td>actual</td>\n",
       "      <td>POINT Z (675685.196 5923795.888 0.000)</td>\n",
       "    </tr>\n",
       "    <tr>\n",
       "      <th>884</th>\n",
       "      <td>2024884</td>\n",
       "      <td>Cultura</td>\n",
       "      <td>actual</td>\n",
       "      <td>POINT Z (673878.220 5921788.358 0.000)</td>\n",
       "    </tr>\n",
       "    <tr>\n",
       "      <th>885</th>\n",
       "      <td>2024885</td>\n",
       "      <td>Cultura</td>\n",
       "      <td>actual</td>\n",
       "      <td>POINT Z (674859.165 5922484.875 0.000)</td>\n",
       "    </tr>\n",
       "    <tr>\n",
       "      <th>886</th>\n",
       "      <td>2024886</td>\n",
       "      <td>Cultura</td>\n",
       "      <td>actual</td>\n",
       "      <td>POINT Z (674589.554 5922826.982 0.000)</td>\n",
       "    </tr>\n",
       "  </tbody>\n",
       "</table>\n",
       "<p>887 rows × 4 columns</p>\n",
       "</div>"
      ],
      "text/plain": [
       "             id            Category scenario  \\\n",
       "0    1280585100     Entretenimiento   actual   \n",
       "1    1280906720  Comida para servir   actual   \n",
       "2    1280963868     Entretenimiento   actual   \n",
       "3    1507046243           Servicios   actual   \n",
       "4    1507046253           Servicios   actual   \n",
       "..          ...                 ...      ...   \n",
       "882     2024882             Cultura   actual   \n",
       "883     2024883             Cultura   actual   \n",
       "884     2024884             Cultura   actual   \n",
       "885     2024885             Cultura   actual   \n",
       "886     2024886             Cultura   actual   \n",
       "\n",
       "                                   geometry  \n",
       "0    POINT Z (673882.866 5921852.428 0.000)  \n",
       "1    POINT Z (673587.739 5921888.825 0.000)  \n",
       "2    POINT Z (673615.644 5920946.613 0.000)  \n",
       "3    POINT Z (673665.025 5922374.360 0.000)  \n",
       "4    POINT Z (673610.110 5922345.688 0.000)  \n",
       "..                                      ...  \n",
       "882  POINT Z (673801.359 5922528.531 0.000)  \n",
       "883  POINT Z (675685.196 5923795.888 0.000)  \n",
       "884  POINT Z (673878.220 5921788.358 0.000)  \n",
       "885  POINT Z (674859.165 5922484.875 0.000)  \n",
       "886  POINT Z (674589.554 5922826.982 0.000)  \n",
       "\n",
       "[887 rows x 4 columns]"
      ]
     },
     "execution_count": 46,
     "metadata": {},
     "output_type": "execute_result"
    }
   ],
   "source": [
    "amenities_file = '/app/data/amenities'\n",
    "\n",
    "amn = gpd.read_file(amenities_file)\n",
    "amn['name'].fillna('', inplace=True)\n",
    "\n",
    "idna = amn['id'].isna()\n",
    "amn.loc[idna, 'id'] = ('2024' + amn[idna].index.astype(str)).astype(int)\n",
    "\n",
    "futr = amn['name'].str.contains('futur', case=False)\n",
    "amn.loc[~futr, 'scenario'] = 'actual'\n",
    "amn.loc[ futr, 'scenario'] = 'future'\n",
    "\n",
    "amn_cols = ['id', 'Category', 'scenario', 'geometry']\n",
    "amn = amn[amn_cols]\n",
    "amn\n",
    "# amn[amn['Category']=='Cultura']"
   ]
  },
  {
   "cell_type": "code",
   "execution_count": 47,
   "metadata": {},
   "outputs": [],
   "source": [
    "amn = gpd.GeoDataFrame(data=amn.drop(columns=['geometry']), geometry=amn['geometry'])"
   ]
  },
  {
   "cell_type": "code",
   "execution_count": 48,
   "metadata": {},
   "outputs": [],
   "source": [
    "amn['id'] = amn['id'].astype(str)"
   ]
  },
  {
   "cell_type": "code",
   "execution_count": 29,
   "metadata": {},
   "outputs": [],
   "source": [
    "amn.loc[amn['scenario']=='actual', ['id', 'Category', 'geometry']].to_parquet('/app/assets/amenities/actual.parquet')\n",
    "amn.loc[:, ['id', 'Category', 'geometry']].to_parquet('/app/assets/amenities/future.parquet')"
   ]
  },
  {
   "cell_type": "code",
   "execution_count": 57,
   "metadata": {},
   "outputs": [],
   "source": [
    "amn_costanera = gpd.read_file('/app/data/amenities_costanera_v2')"
   ]
  },
  {
   "cell_type": "code",
   "execution_count": 58,
   "metadata": {},
   "outputs": [],
   "source": [
    "amn_costanera['scenario'] = 'actual'"
   ]
  },
  {
   "cell_type": "code",
   "execution_count": 59,
   "metadata": {},
   "outputs": [
    {
     "data": {
      "text/html": [
       "<div>\n",
       "<style scoped>\n",
       "    .dataframe tbody tr th:only-of-type {\n",
       "        vertical-align: middle;\n",
       "    }\n",
       "\n",
       "    .dataframe tbody tr th {\n",
       "        vertical-align: top;\n",
       "    }\n",
       "\n",
       "    .dataframe thead th {\n",
       "        text-align: right;\n",
       "    }\n",
       "</style>\n",
       "<table border=\"1\" class=\"dataframe\">\n",
       "  <thead>\n",
       "    <tr style=\"text-align: right;\">\n",
       "      <th></th>\n",
       "      <th>id</th>\n",
       "      <th>Category</th>\n",
       "      <th>scenario</th>\n",
       "      <th>geometry</th>\n",
       "    </tr>\n",
       "  </thead>\n",
       "  <tbody>\n",
       "    <tr>\n",
       "      <th>0</th>\n",
       "      <td>1280585100</td>\n",
       "      <td>Entretenimiento</td>\n",
       "      <td>actual</td>\n",
       "      <td>POINT Z (673882.866 5921852.428 0.000)</td>\n",
       "    </tr>\n",
       "    <tr>\n",
       "      <th>1</th>\n",
       "      <td>1280906720</td>\n",
       "      <td>Comida para servir</td>\n",
       "      <td>actual</td>\n",
       "      <td>POINT Z (673587.739 5921888.825 0.000)</td>\n",
       "    </tr>\n",
       "    <tr>\n",
       "      <th>2</th>\n",
       "      <td>1280963868</td>\n",
       "      <td>Entretenimiento</td>\n",
       "      <td>actual</td>\n",
       "      <td>POINT Z (673615.644 5920946.613 0.000)</td>\n",
       "    </tr>\n",
       "    <tr>\n",
       "      <th>3</th>\n",
       "      <td>1507046243</td>\n",
       "      <td>Servicios</td>\n",
       "      <td>actual</td>\n",
       "      <td>POINT Z (673665.025 5922374.360 0.000)</td>\n",
       "    </tr>\n",
       "    <tr>\n",
       "      <th>4</th>\n",
       "      <td>1507046253</td>\n",
       "      <td>Servicios</td>\n",
       "      <td>actual</td>\n",
       "      <td>POINT Z (673610.110 5922345.688 0.000)</td>\n",
       "    </tr>\n",
       "  </tbody>\n",
       "</table>\n",
       "</div>"
      ],
      "text/plain": [
       "           id            Category scenario  \\\n",
       "0  1280585100     Entretenimiento   actual   \n",
       "1  1280906720  Comida para servir   actual   \n",
       "2  1280963868     Entretenimiento   actual   \n",
       "3  1507046243           Servicios   actual   \n",
       "4  1507046253           Servicios   actual   \n",
       "\n",
       "                                 geometry  \n",
       "0  POINT Z (673882.866 5921852.428 0.000)  \n",
       "1  POINT Z (673587.739 5921888.825 0.000)  \n",
       "2  POINT Z (673615.644 5920946.613 0.000)  \n",
       "3  POINT Z (673665.025 5922374.360 0.000)  \n",
       "4  POINT Z (673610.110 5922345.688 0.000)  "
      ]
     },
     "execution_count": 59,
     "metadata": {},
     "output_type": "execute_result"
    }
   ],
   "source": [
    "amn.head()"
   ]
  },
  {
   "cell_type": "code",
   "execution_count": 60,
   "metadata": {},
   "outputs": [
    {
     "data": {
      "text/plain": [
       "(4573, 4)"
      ]
     },
     "execution_count": 60,
     "metadata": {},
     "output_type": "execute_result"
    }
   ],
   "source": [
    "amn_costanera = amn_costanera[['id', 'Category', 'scenario', 'geometry']]\n",
    "amn_costanera.shape"
   ]
  },
  {
   "cell_type": "code",
   "execution_count": 63,
   "metadata": {},
   "outputs": [],
   "source": [
    "amn_costanera.drop_duplicates(subset='geometry', inplace=True)"
   ]
  },
  {
   "cell_type": "code",
   "execution_count": 66,
   "metadata": {},
   "outputs": [],
   "source": [
    "amn_costanera = amn_costanera.to_crs(amn.crs)"
   ]
  },
  {
   "cell_type": "code",
   "execution_count": 68,
   "metadata": {},
   "outputs": [],
   "source": [
    "from shapely.geometry import Point\n",
    "\n",
    "# Suponiendo que 'gdf' es tu GeoDataFrame\n",
    "# Itera sobre las geometrías y crea nuevos puntos 2D\n",
    "amn['geometry'] = amn['geometry'].apply(lambda geom: Point(geom.x, geom.y))"
   ]
  },
  {
   "cell_type": "code",
   "execution_count": 83,
   "metadata": {},
   "outputs": [],
   "source": [
    "import pandas as pd\n",
    "amn_export = pd.concat([amn, amn_costanera])\n",
    "amn_export.drop_duplicates(subset=['geometry'], inplace=True)\n",
    "amn_export.drop_duplicates(subset=['id'], inplace=True)"
   ]
  },
  {
   "cell_type": "code",
   "execution_count": 96,
   "metadata": {},
   "outputs": [],
   "source": [
    "amn_export = gpd.GeoDataFrame(\n",
    "    data=amn_export.drop(columns=['geometry']),\n",
    "    geometry=amn_export['geometry'],\n",
    ")"
   ]
  },
  {
   "cell_type": "code",
   "execution_count": 98,
   "metadata": {},
   "outputs": [],
   "source": [
    "export_cols = ['id', 'Category', 'geometry']\n",
    "amn_export.loc[amn_export['scenario']=='actual', export_cols].to_parquet('/app/assets/amenities/actual.parquet')\n",
    "amn_export[export_cols].to_parquet('/app/assets/amenities/future.parquet')"
   ]
  },
  {
   "cell_type": "code",
   "execution_count": null,
   "metadata": {},
   "outputs": [],
   "source": []
  }
 ],
 "metadata": {
  "kernelspec": {
   "display_name": "Python 3 (ipykernel)",
   "language": "python",
   "name": "python3"
  },
  "language_info": {
   "codemirror_mode": {
    "name": "ipython",
    "version": 3
   },
   "file_extension": ".py",
   "mimetype": "text/x-python",
   "name": "python",
   "nbconvert_exporter": "python",
   "pygments_lexer": "ipython3",
   "version": "3.9.18"
  }
 },
 "nbformat": 4,
 "nbformat_minor": 2
}
