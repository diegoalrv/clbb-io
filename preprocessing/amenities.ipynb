{
 "cells": [
  {
   "cell_type": "code",
   "execution_count": null,
   "metadata": {},
   "outputs": [],
   "source": [
    "import geopandas as gpd"
   ]
  },
  {
   "cell_type": "code",
   "execution_count": null,
   "metadata": {},
   "outputs": [],
   "source": [
    "amenities_file = '/app/data/amenities'\n",
    "\n",
    "amn = gpd.read_file(amenities_file)\n",
    "amn['name'].fillna('', inplace=True)\n",
    "\n",
    "idna = amn['id'].isna()\n",
    "amn.loc[idna, 'id'] = ('2024' + amn[idna].index.astype(str)).astype(int)\n",
    "\n",
    "futr = amn['name'].str.contains('futur', case=False)\n",
    "amn.loc[ futr, 'scenario'] = 'actual'\n",
    "amn.loc[~futr, 'scenario'] = 'future'\n",
    "\n",
    "amn_cols = ['id', 'Category', 'scenario', 'geometry']\n",
    "amn = amn[amn_cols]"
   ]
  },
  {
   "cell_type": "code",
   "execution_count": null,
   "metadata": {},
   "outputs": [],
   "source": [
    "amn = gpd.GeoDataFrame(data=amn.drop(columns=['geometry']), geometry=amn['geometry'])"
   ]
  },
  {
   "cell_type": "code",
   "execution_count": null,
   "metadata": {},
   "outputs": [],
   "source": [
    "amn['id'] = amn['id'].astype(str)"
   ]
  },
  {
   "cell_type": "code",
   "execution_count": null,
   "metadata": {},
   "outputs": [],
   "source": [
    "amn.loc[amn['scenario']=='actual', ['id', 'Category', 'geometry']].to_parquet('/app/assets/amenities/actual.parquet')\n",
    "amn.loc[:, ['id', 'Category', 'geometry']].to_parquet('/app/assets/amenities/future.parquet')"
   ]
  },
  {
   "cell_type": "code",
   "execution_count": null,
   "metadata": {},
   "outputs": [],
   "source": [
    "amn.to_parquet('/app/assets/amenities/amenities.parquet')"
   ]
  }
 ],
 "metadata": {
  "language_info": {
   "name": "python"
  }
 },
 "nbformat": 4,
 "nbformat_minor": 2
}
