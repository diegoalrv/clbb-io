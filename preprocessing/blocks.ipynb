{
 "cells": [
  {
   "cell_type": "code",
   "execution_count": 1,
   "metadata": {},
   "outputs": [],
   "source": [
    "import geopandas as gpd\n",
    "import pandas as pd\n",
    "import warnings\n",
    "# Apagar todos los warnings\n",
    "warnings.filterwarnings(\"ignore\")\n",
    "\n",
    "load_block_cols = ['MANZENT_I', 'Number_res', 'Number_hou', 'ID_PLACA', 'geometry']"
   ]
  },
  {
   "cell_type": "code",
   "execution_count": 38,
   "metadata": {},
   "outputs": [],
   "source": [
    "# Actuales\n",
    "gdf = gpd.read_file('/app/data/manzanas_hab/Manzanas base')\n",
    "# [load_block_cols]\n",
    "gdf['pers'] = gdf[['Number_res', 'TOTAL_PERS']].max(axis=1)\n",
    "traslate = {\n",
    "    'MANZENT_I': 'block_id',\n",
    "    'pers': 'q_residents',\n",
    "}\n",
    "gdf.rename(columns=traslate, inplace=True)\n",
    "gdf['ID_PLACA'].fillna(0,inplace=True)\n",
    "save_cols = ['block_id', 'q_residents', 'geometry']\n",
    "gdf = gdf[save_cols]\n",
    "def fix_ids(gdf):\n",
    "    mask = gdf['block_id'].isna()\n",
    "    not_id = gdf.loc[mask, :]\n",
    "    yes_id = gdf.loc[~mask, :]\n",
    "    not_id.loc[:, 'block_id'] = ['2024']*len(not_id) + not_id.index.astype(str)\n",
    "    gdf = pd.concat([yes_id, not_id])\n",
    "    return gdf\n",
    "def fix_duplicate_ids(gdf):\n",
    "    duplicate_mask = gdf['block_id'].duplicated(keep=False)\n",
    "    gdf.loc[duplicate_mask, 'block_id'] = gdf.loc[duplicate_mask, 'block_id'].astype(str) + gdf[duplicate_mask].index.astype(str)\n",
    "    return gdf\n",
    "gdf = fix_ids(gdf)\n",
    "gdf = fix_duplicate_ids(gdf)\n",
    "gdf = gpd.GeoDataFrame(data=gdf.drop(columns=['geometry']), geometry=gdf['geometry'])\n",
    "gdf.to_parquet('/app/assets/blocks/actual.parquet')"
   ]
  },
  {
   "cell_type": "code",
   "execution_count": 39,
   "metadata": {},
   "outputs": [],
   "source": [
    "actual = gdf.copy()"
   ]
  },
  {
   "cell_type": "code",
   "execution_count": 4,
   "metadata": {},
   "outputs": [],
   "source": [
    "gdf = gpd.read_file('/app/data/manzanas_hab/Manzanas futuro')\n",
    "# [load_block_cols]\n",
    "traslate = {\n",
    "    'MANZENT_I': 'block_id',\n",
    "    'total_p_34': 'q_residents',\n",
    "}\n",
    "gdf.rename(columns=traslate, inplace=True)\n",
    "gdf['ID_PLACA'].fillna(0,inplace=True)\n",
    "\n",
    "def fix_ids(gdf):\n",
    "    mask = gdf['block_id'].isna()\n",
    "    not_id = gdf.loc[mask, :]\n",
    "    yes_id = gdf.loc[~mask, :]\n",
    "    not_id.loc[:, 'block_id'] = ['2024']*len(not_id) + not_id.index.astype(str)\n",
    "    gdf = pd.concat([yes_id, not_id])\n",
    "    return gdf\n",
    "\n",
    "gdf = fix_ids(gdf)\n",
    "gdf = gdf[save_cols]\n",
    "gdf.to_parquet('/app/assets/blocks/future.parquet')"
   ]
  },
  {
   "cell_type": "code",
   "execution_count": 5,
   "metadata": {},
   "outputs": [],
   "source": [
    "future = gdf.copy()"
   ]
  },
  {
   "cell_type": "code",
   "execution_count": 6,
   "metadata": {},
   "outputs": [
    {
     "data": {
      "text/plain": [
       "162"
      ]
     },
     "execution_count": 6,
     "metadata": {},
     "output_type": "execute_result"
    }
   ],
   "source": [
    "future['block_id'].isin(actual['block_id']).sum()"
   ]
  },
  {
   "cell_type": "code",
   "execution_count": 22,
   "metadata": {},
   "outputs": [
    {
     "data": {
      "text/plain": [
       "200"
      ]
     },
     "execution_count": 22,
     "metadata": {},
     "output_type": "execute_result"
    }
   ],
   "source": [
    "# para exportarlo como unidad\n",
    "len(actual['block_id'].unique())"
   ]
  },
  {
   "cell_type": "code",
   "execution_count": 41,
   "metadata": {},
   "outputs": [
    {
     "data": {
      "text/html": [
       "<div>\n",
       "<style scoped>\n",
       "    .dataframe tbody tr th:only-of-type {\n",
       "        vertical-align: middle;\n",
       "    }\n",
       "\n",
       "    .dataframe tbody tr th {\n",
       "        vertical-align: top;\n",
       "    }\n",
       "\n",
       "    .dataframe thead th {\n",
       "        text-align: right;\n",
       "    }\n",
       "</style>\n",
       "<table border=\"1\" class=\"dataframe\">\n",
       "  <thead>\n",
       "    <tr style=\"text-align: right;\">\n",
       "      <th></th>\n",
       "      <th>block_id</th>\n",
       "      <th>q_residents</th>\n",
       "      <th>geometry</th>\n",
       "    </tr>\n",
       "  </thead>\n",
       "  <tbody>\n",
       "  </tbody>\n",
       "</table>\n",
       "</div>"
      ],
      "text/plain": [
       "Empty GeoDataFrame\n",
       "Columns: [block_id, q_residents, geometry]\n",
       "Index: []"
      ]
     },
     "execution_count": 41,
     "metadata": {},
     "output_type": "execute_result"
    }
   ],
   "source": [
    "duplicate_mask = actual['block_id'].duplicated(keep=False)\n",
    "actual[duplicate_mask]"
   ]
  },
  {
   "cell_type": "code",
   "execution_count": 48,
   "metadata": {},
   "outputs": [
    {
     "data": {
      "text/html": [
       "<div>\n",
       "<style scoped>\n",
       "    .dataframe tbody tr th:only-of-type {\n",
       "        vertical-align: middle;\n",
       "    }\n",
       "\n",
       "    .dataframe tbody tr th {\n",
       "        vertical-align: top;\n",
       "    }\n",
       "\n",
       "    .dataframe thead th {\n",
       "        text-align: right;\n",
       "    }\n",
       "</style>\n",
       "<table border=\"1\" class=\"dataframe\">\n",
       "  <thead>\n",
       "    <tr style=\"text-align: right;\">\n",
       "      <th></th>\n",
       "      <th>block_id</th>\n",
       "      <th>q_residents</th>\n",
       "      <th>geometry</th>\n",
       "    </tr>\n",
       "  </thead>\n",
       "  <tbody>\n",
       "    <tr>\n",
       "      <th>32</th>\n",
       "      <td>810105100202332</td>\n",
       "      <td>0.0</td>\n",
       "      <td>POLYGON Z ((672758.284 5922593.473 0.000, 6727...</td>\n",
       "    </tr>\n",
       "    <tr>\n",
       "      <th>149</th>\n",
       "      <td>8101051002023149</td>\n",
       "      <td>0.0</td>\n",
       "      <td>POLYGON Z ((672810.680 5922502.510 0.000, 6728...</td>\n",
       "    </tr>\n",
       "  </tbody>\n",
       "</table>\n",
       "</div>"
      ],
      "text/plain": [
       "             block_id  q_residents  \\\n",
       "32    810105100202332          0.0   \n",
       "149  8101051002023149          0.0   \n",
       "\n",
       "                                              geometry  \n",
       "32   POLYGON Z ((672758.284 5922593.473 0.000, 6727...  \n",
       "149  POLYGON Z ((672810.680 5922502.510 0.000, 6728...  "
      ]
     },
     "execution_count": 48,
     "metadata": {},
     "output_type": "execute_result"
    }
   ],
   "source": [
    "mask = (actual['block_id'].str.len() > 13)\n",
    "actual[mask]"
   ]
  },
  {
   "cell_type": "code",
   "execution_count": 52,
   "metadata": {},
   "outputs": [],
   "source": [
    "actual.drop(columns=['q_residents']).to_parquet('/app/assets/groupby/block/actual.parquet')\n",
    "future.drop(columns=['q_residents']).to_parquet('/app/assets/groupby/block/future.parquet')"
   ]
  }
 ],
 "metadata": {
  "kernelspec": {
   "display_name": "Python 3 (ipykernel)",
   "language": "python",
   "name": "python3"
  },
  "language_info": {
   "codemirror_mode": {
    "name": "ipython",
    "version": 3
   },
   "file_extension": ".py",
   "mimetype": "text/x-python",
   "name": "python",
   "nbconvert_exporter": "python",
   "pygments_lexer": "ipython3",
   "version": "3.9.18"
  }
 },
 "nbformat": 4,
 "nbformat_minor": 2
}
