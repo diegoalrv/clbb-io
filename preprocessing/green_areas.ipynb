{
 "cells": [
  {
   "cell_type": "code",
   "execution_count": 13,
   "metadata": {},
   "outputs": [],
   "source": [
    "import geopandas as gpd\n",
    "import warnings\n",
    "warnings.filterwarnings(\"ignore\")"
   ]
  },
  {
   "cell_type": "code",
   "execution_count": 14,
   "metadata": {},
   "outputs": [],
   "source": [
    "# Define una función para reemplazar los valores de 'ID_AV' según las condiciones.\n",
    "def reemplazar_ID_AV(row):\n",
    "    if row['TIPO_EP'] == 'PARQUE':\n",
    "        return 'PK' + str(row['ID_AV'])\n",
    "    elif row['TIPO_EP'] == 'PLAZA':\n",
    "        return 'SQ' + str(row['ID_AV'])\n",
    "    else:\n",
    "        return row['ID_AV']\n",
    "\n",
    "# scenario = 'ac'\n",
    "for scenario in ['actual', 'future', 'utopic']:\n",
    "    gdf = gpd.read_file(f'/app/data/AV_actuales_futuras_utopicas/{scenario}')\n",
    "    av_cols = ['TIPO_EP', 'ID_AV', 'ID_PLACA', 'geometry']\n",
    "    gdf = gdf[av_cols]\n",
    "    gdf['ID_PLACA'].fillna(0, inplace=True)\n",
    "    gdf['ID_AV'] = gdf.apply(reemplazar_ID_AV, axis=1)\n",
    "    gdf.to_parquet(f'/app/assets/green_areas/{scenario}.parquet')"
   ]
  },
  {
   "cell_type": "code",
   "execution_count": 15,
   "metadata": {},
   "outputs": [],
   "source": [
    "gdf = gpd.read_parquet(f'/app/assets/green_areas/actual.parquet')"
   ]
  }
 ],
 "metadata": {
  "kernelspec": {
   "display_name": "Python 3 (ipykernel)",
   "language": "python",
   "name": "python3"
  },
  "language_info": {
   "codemirror_mode": {
    "name": "ipython",
    "version": 3
   },
   "file_extension": ".py",
   "mimetype": "text/x-python",
   "name": "python",
   "nbconvert_exporter": "python",
   "pygments_lexer": "ipython3",
   "version": "3.9.18"
  }
 },
 "nbformat": 4,
 "nbformat_minor": 2
}
