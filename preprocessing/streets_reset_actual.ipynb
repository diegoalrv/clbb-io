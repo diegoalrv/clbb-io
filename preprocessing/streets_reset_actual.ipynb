{
 "cells": [
  {
   "cell_type": "code",
   "execution_count": 1,
   "metadata": {},
   "outputs": [],
   "source": [
    "import osmnx as ox\n",
    "sel_graph = 'walk'\n",
    "place_name = \"Concepción, Chile\"\n",
    "\n",
    "graph = ox.graph_from_place(\n",
    "    place_name,\n",
    "    network_type=sel_graph,\n",
    "    simplify=False,\n",
    ")"
   ]
  },
  {
   "cell_type": "code",
   "execution_count": 19,
   "metadata": {},
   "outputs": [],
   "source": [
    "nodes, edges = ox.graph_to_gdfs(graph)\n",
    "nodes.reset_index(inplace=True)\n",
    "edges.reset_index(inplace=True)"
   ]
  },
  {
   "cell_type": "code",
   "execution_count": 20,
   "metadata": {},
   "outputs": [],
   "source": [
    "import geopandas as gpd\n",
    "n = gpd.read_parquet('/app/assets/streets/future/nodes.parquet')\n",
    "e = gpd.read_parquet('/app/assets/streets/future/edges.parquet')"
   ]
  },
  {
   "cell_type": "code",
   "execution_count": 13,
   "metadata": {},
   "outputs": [
    {
     "data": {
      "text/html": [
       "<div>\n",
       "<style scoped>\n",
       "    .dataframe tbody tr th:only-of-type {\n",
       "        vertical-align: middle;\n",
       "    }\n",
       "\n",
       "    .dataframe tbody tr th {\n",
       "        vertical-align: top;\n",
       "    }\n",
       "\n",
       "    .dataframe thead th {\n",
       "        text-align: right;\n",
       "    }\n",
       "</style>\n",
       "<table border=\"1\" class=\"dataframe\">\n",
       "  <thead>\n",
       "    <tr style=\"text-align: right;\">\n",
       "      <th></th>\n",
       "      <th>osmid</th>\n",
       "      <th>x</th>\n",
       "      <th>y</th>\n",
       "      <th>geometry</th>\n",
       "    </tr>\n",
       "  </thead>\n",
       "  <tbody>\n",
       "    <tr>\n",
       "      <th>0</th>\n",
       "      <td>267252253.0</td>\n",
       "      <td>674769.1563</td>\n",
       "      <td>5.922560e+06</td>\n",
       "      <td>POINT (674769.156 5922560.301)</td>\n",
       "    </tr>\n",
       "    <tr>\n",
       "      <th>1</th>\n",
       "      <td>267252256.0</td>\n",
       "      <td>674767.1305</td>\n",
       "      <td>5.922556e+06</td>\n",
       "      <td>POINT (674767.130 5922555.936)</td>\n",
       "    </tr>\n",
       "    <tr>\n",
       "      <th>2</th>\n",
       "      <td>267252355.0</td>\n",
       "      <td>675032.4014</td>\n",
       "      <td>5.922608e+06</td>\n",
       "      <td>POINT (675032.401 5922608.020)</td>\n",
       "    </tr>\n",
       "    <tr>\n",
       "      <th>3</th>\n",
       "      <td>267548089.0</td>\n",
       "      <td>676180.8739</td>\n",
       "      <td>5.926340e+06</td>\n",
       "      <td>POINT (676180.874 5926340.019)</td>\n",
       "    </tr>\n",
       "    <tr>\n",
       "      <th>4</th>\n",
       "      <td>267548092.0</td>\n",
       "      <td>676137.8753</td>\n",
       "      <td>5.925974e+06</td>\n",
       "      <td>POINT (676137.875 5925973.933)</td>\n",
       "    </tr>\n",
       "  </tbody>\n",
       "</table>\n",
       "</div>"
      ],
      "text/plain": [
       "         osmid            x             y                        geometry\n",
       "0  267252253.0  674769.1563  5.922560e+06  POINT (674769.156 5922560.301)\n",
       "1  267252256.0  674767.1305  5.922556e+06  POINT (674767.130 5922555.936)\n",
       "2  267252355.0  675032.4014  5.922608e+06  POINT (675032.401 5922608.020)\n",
       "3  267548089.0  676180.8739  5.926340e+06  POINT (676180.874 5926340.019)\n",
       "4  267548092.0  676137.8753  5.925974e+06  POINT (676137.875 5925973.933)"
      ]
     },
     "execution_count": 13,
     "metadata": {},
     "output_type": "execute_result"
    }
   ],
   "source": [
    "n.head()"
   ]
  },
  {
   "cell_type": "code",
   "execution_count": 14,
   "metadata": {},
   "outputs": [],
   "source": [
    "nodes.reset_index().to_parquet('/app/assets/streets/actual/nodes.parquet')"
   ]
  },
  {
   "cell_type": "code",
   "execution_count": 21,
   "metadata": {},
   "outputs": [
    {
     "data": {
      "text/html": [
       "<div>\n",
       "<style scoped>\n",
       "    .dataframe tbody tr th:only-of-type {\n",
       "        vertical-align: middle;\n",
       "    }\n",
       "\n",
       "    .dataframe tbody tr th {\n",
       "        vertical-align: top;\n",
       "    }\n",
       "\n",
       "    .dataframe thead th {\n",
       "        text-align: right;\n",
       "    }\n",
       "</style>\n",
       "<table border=\"1\" class=\"dataframe\">\n",
       "  <thead>\n",
       "    <tr style=\"text-align: right;\">\n",
       "      <th></th>\n",
       "      <th>u</th>\n",
       "      <th>v</th>\n",
       "      <th>key</th>\n",
       "      <th>from</th>\n",
       "      <th>to</th>\n",
       "      <th>osmid</th>\n",
       "      <th>length</th>\n",
       "      <th>geometry</th>\n",
       "    </tr>\n",
       "  </thead>\n",
       "  <tbody>\n",
       "    <tr>\n",
       "      <th>0</th>\n",
       "      <td>267252253</td>\n",
       "      <td>267252256</td>\n",
       "      <td>0</td>\n",
       "      <td>267252253</td>\n",
       "      <td>267252256</td>\n",
       "      <td>368010828</td>\n",
       "      <td>4.812181</td>\n",
       "      <td>LINESTRING (674769.156 5922560.301, 674767.130...</td>\n",
       "    </tr>\n",
       "    <tr>\n",
       "      <th>1</th>\n",
       "      <td>267252253</td>\n",
       "      <td>3718767746</td>\n",
       "      <td>0</td>\n",
       "      <td>267252253</td>\n",
       "      <td>3718767746</td>\n",
       "      <td>368010828</td>\n",
       "      <td>3.901331</td>\n",
       "      <td>LINESTRING (674769.156 5922560.301, 674771.258...</td>\n",
       "    </tr>\n",
       "    <tr>\n",
       "      <th>2</th>\n",
       "      <td>267252256</td>\n",
       "      <td>8355196537</td>\n",
       "      <td>0</td>\n",
       "      <td>267252256</td>\n",
       "      <td>8355196537</td>\n",
       "      <td>367537909</td>\n",
       "      <td>5.850963</td>\n",
       "      <td>LINESTRING (674767.130 5922555.936, 674761.516...</td>\n",
       "    </tr>\n",
       "    <tr>\n",
       "      <th>3</th>\n",
       "      <td>267252256</td>\n",
       "      <td>3718673159</td>\n",
       "      <td>0</td>\n",
       "      <td>267252256</td>\n",
       "      <td>3718673159</td>\n",
       "      <td>368010828</td>\n",
       "      <td>6.686680</td>\n",
       "      <td>LINESTRING (674767.130 5922555.936, 674766.174...</td>\n",
       "    </tr>\n",
       "    <tr>\n",
       "      <th>4</th>\n",
       "      <td>267252256</td>\n",
       "      <td>7248696117</td>\n",
       "      <td>0</td>\n",
       "      <td>267252256</td>\n",
       "      <td>7248696117</td>\n",
       "      <td>776869883</td>\n",
       "      <td>11.688149</td>\n",
       "      <td>LINESTRING (674767.130 5922555.936, 674778.274...</td>\n",
       "    </tr>\n",
       "  </tbody>\n",
       "</table>\n",
       "</div>"
      ],
      "text/plain": [
       "           u           v  key       from          to      osmid     length  \\\n",
       "0  267252253   267252256    0  267252253   267252256  368010828   4.812181   \n",
       "1  267252253  3718767746    0  267252253  3718767746  368010828   3.901331   \n",
       "2  267252256  8355196537    0  267252256  8355196537  367537909   5.850963   \n",
       "3  267252256  3718673159    0  267252256  3718673159  368010828   6.686680   \n",
       "4  267252256  7248696117    0  267252256  7248696117  776869883  11.688149   \n",
       "\n",
       "                                            geometry  \n",
       "0  LINESTRING (674769.156 5922560.301, 674767.130...  \n",
       "1  LINESTRING (674769.156 5922560.301, 674771.258...  \n",
       "2  LINESTRING (674767.130 5922555.936, 674761.516...  \n",
       "3  LINESTRING (674767.130 5922555.936, 674766.174...  \n",
       "4  LINESTRING (674767.130 5922555.936, 674778.274...  "
      ]
     },
     "execution_count": 21,
     "metadata": {},
     "output_type": "execute_result"
    }
   ],
   "source": [
    "e.head()"
   ]
  },
  {
   "cell_type": "code",
   "execution_count": 23,
   "metadata": {},
   "outputs": [],
   "source": [
    "edges['from'] = edges['u']\n",
    "edges['to'] = edges['v']\n",
    "edges = edges[e.columns]"
   ]
  },
  {
   "cell_type": "code",
   "execution_count": 25,
   "metadata": {},
   "outputs": [],
   "source": [
    "edges.to_parquet('/app/assets/streets/actual/edges.parquet')"
   ]
  },
  {
   "cell_type": "code",
   "execution_count": 27,
   "metadata": {},
   "outputs": [
    {
     "name": "stderr",
     "output_type": "stream",
     "text": [
      "/tmp/ipykernel_89/2504193958.py:1: UserWarning: Column names longer than 10 characters will be truncated when saved to ESRI Shapefile.\n",
      "  nodes.to_file('/app/data/export_as_shape/streets/actual/nodes')\n"
     ]
    }
   ],
   "source": [
    "nodes.to_file('/app/data/export_as_shape/streets/actual/nodes')\n",
    "edges.to_file('/app/data/export_as_shape/streets/actual/edges')"
   ]
  }
 ],
 "metadata": {
  "kernelspec": {
   "display_name": "Python 3 (ipykernel)",
   "language": "python",
   "name": "python3"
  },
  "language_info": {
   "codemirror_mode": {
    "name": "ipython",
    "version": 3
   },
   "file_extension": ".py",
   "mimetype": "text/x-python",
   "name": "python",
   "nbconvert_exporter": "python",
   "pygments_lexer": "ipython3",
   "version": "3.9.18"
  }
 },
 "nbformat": 4,
 "nbformat_minor": 2
}
