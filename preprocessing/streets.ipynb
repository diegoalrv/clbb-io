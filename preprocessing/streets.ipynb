{
 "cells": [
  {
   "cell_type": "code",
   "execution_count": 1,
   "metadata": {},
   "outputs": [],
   "source": [
    "import geopandas as gpd\n",
    "import pandas as pd\n",
    "import warnings\n",
    "from shapely.geometry import Point\n",
    "\n",
    "# Apaga todas las advertencias (warnings)\n",
    "warnings.filterwarnings(\"ignore\")"
   ]
  },
  {
   "cell_type": "code",
   "execution_count": 2,
   "metadata": {},
   "outputs": [],
   "source": [
    "nodes = gpd.read_file('/app/data/red vial futura/Red vial caminata/nodes_conce')"
   ]
  },
  {
   "cell_type": "code",
   "execution_count": 3,
   "metadata": {},
   "outputs": [],
   "source": [
    "edges = gpd.read_file('/app/data/red vial futura/Red vial caminata/edges_conce')"
   ]
  },
  {
   "cell_type": "code",
   "execution_count": 4,
   "metadata": {},
   "outputs": [],
   "source": [
    "nodes['temp_id'] = nodes.index\n",
    "nodes['str_id'] = nodes['temp_id'].astype(str)\n",
    "nodes.loc[nodes['osmid']==0, 'osmid'] = '992023' + nodes['str_id']\n",
    "nodes.drop(columns=['temp_id', 'str_id'], inplace=True)\n",
    "\n",
    "nodes.x = nodes.geometry.x\n",
    "nodes.y = nodes.geometry.y\n",
    "net_nodes = nodes.copy()\n",
    "net_nodes.drop(columns=['x', 'y'], inplace=True)"
   ]
  },
  {
   "cell_type": "code",
   "execution_count": 5,
   "metadata": {},
   "outputs": [],
   "source": [
    "# Seleccionamos solos los nuevos vertices (osmid que empieza con 2023)\n",
    "edges_mask = edges['osmid'].astype(str).str.startswith(\"2023\")\n",
    "edges_cols = ['osmid', 'length', 'geometry']\n",
    "new_edges = edges.loc[edges_mask, edges_cols]"
   ]
  },
  {
   "cell_type": "code",
   "execution_count": 6,
   "metadata": {},
   "outputs": [],
   "source": [
    "# Añade una nueva columna llamada \"begin\" que contiene el primer punto de cada línea\n",
    "new_edges['begin'] = new_edges['geometry'].apply(lambda geom: Point(geom.coords[0]))\n",
    "\n",
    "# Añade una nueva columna llamada \"end\" que contiene el último punto de cada línea\n",
    "new_edges['end'] = new_edges['geometry'].apply(lambda geom: Point(geom.coords[-1]))\n",
    "\n",
    "# Función para encontrar el punto más cercano en el GeoDataFrame \"nodes\"\n",
    "def find_nearest_node(point):\n",
    "    nearest = nodes['geometry'].apply(lambda x: point.distance(x)).idxmin()\n",
    "    return nodes.loc[nearest, 'osmid']\n",
    "\n",
    "# Aplicamos la función para encontrar el \"source\" y \"destination\" para cada línea en \"new_edges\"\n",
    "new_edges['u'] = new_edges['begin'].apply(find_nearest_node)\n",
    "new_edges['v'] = new_edges['end'].apply(find_nearest_node)"
   ]
  },
  {
   "cell_type": "code",
   "execution_count": 7,
   "metadata": {},
   "outputs": [],
   "source": [
    "edges_cols = ['u', 'v', 'osmid', 'length', 'geometry']\n",
    "old_edges = edges.loc[~edges_mask, edges_cols]\n",
    "new_edges = new_edges[edges_cols]\n",
    "net_edges = pd.concat([old_edges, new_edges])"
   ]
  },
  {
   "cell_type": "code",
   "execution_count": 8,
   "metadata": {},
   "outputs": [],
   "source": [
    "def format_net_nodes(nodes_df):\n",
    "    nodes = pd.DataFrame(\n",
    "        {\n",
    "            'osmid': nodes_df['osmid'].astype(int),\n",
    "            'lat' : nodes_df.geometry.y.astype(float),\n",
    "            'lon' : nodes_df.geometry.x.astype(float),\n",
    "            'y' : nodes_df.geometry.y.astype(float),\n",
    "            'x' : nodes_df.geometry.x.astype(float),\n",
    "        }\n",
    "    )\n",
    "    nodes['id'] = nodes['osmid'].values\n",
    "\n",
    "    nodes = gpd.GeoDataFrame(data=nodes, geometry=nodes_df.geometry)\n",
    "    nodes.set_index('osmid', inplace=True)\n",
    "    return nodes\n",
    "\n",
    "nodes = format_net_nodes(net_nodes)"
   ]
  },
  {
   "cell_type": "code",
   "execution_count": 9,
   "metadata": {},
   "outputs": [],
   "source": [
    "def format_net_edges(edges_df):\n",
    "    edges = pd.DataFrame(\n",
    "        {\n",
    "            'u': edges_df['u'].astype(int),\n",
    "            'v': edges_df['v'].astype(int),\n",
    "            'from': edges_df['u'].astype(int),\n",
    "            'to': edges_df['v'].astype(int),\n",
    "            'osmid': edges_df['osmid'].astype(int),\n",
    "            'length': edges_df['length'].astype(float)\n",
    "        }\n",
    "    )\n",
    "    edges['key'] = 0\n",
    "    edges['key'] = edges['key'].astype(int)\n",
    "    edges = gpd.GeoDataFrame(data=edges, geometry=edges_df.geometry)\n",
    "    edges.set_index(['u', 'v', 'key'], inplace=True)\n",
    "    return edges\n",
    "\n",
    "edges = format_net_edges(net_edges)"
   ]
  },
  {
   "cell_type": "code",
   "execution_count": 10,
   "metadata": {},
   "outputs": [],
   "source": [
    "mask = (~edges['to'].isin(nodes['id']))|(~edges['from'].isin(nodes['id']))\n",
    "edges_ok = edges[~mask]\n",
    "edges_to_fix = edges[mask].reset_index(drop=True)"
   ]
  },
  {
   "cell_type": "code",
   "execution_count": 11,
   "metadata": {},
   "outputs": [],
   "source": [
    "# Añade una nueva columna llamada \"begin\" que contiene el primer punto de cada línea\n",
    "edges_to_fix['begin'] = edges_to_fix['geometry'].apply(lambda geom: Point(geom.coords[0]))\n",
    "\n",
    "# Añade una nueva columna llamada \"end\" que contiene el último punto de cada línea\n",
    "edges_to_fix['end'] = edges_to_fix['geometry'].apply(lambda geom: Point(geom.coords[-1]))\n",
    "\n",
    "# Función para encontrar el punto más cercano en el GeoDataFrame \"nodes\"\n",
    "def find_nearest_node(point):\n",
    "    nearest = nodes['geometry'].apply(lambda x: point.distance(x)).idxmin()\n",
    "    return nodes.loc[nearest, 'id']\n",
    "\n",
    "# Aplicamos la función para encontrar el \"source\" y \"destination\" para cada línea en \"new_edges\"\n",
    "edges_to_fix['u'] = edges_to_fix['begin'].apply(find_nearest_node)\n",
    "edges_to_fix['v'] = edges_to_fix['end'].apply(find_nearest_node)"
   ]
  },
  {
   "cell_type": "code",
   "execution_count": 12,
   "metadata": {},
   "outputs": [],
   "source": [
    "edges_fixed = format_net_edges(edges_to_fix)"
   ]
  },
  {
   "cell_type": "code",
   "execution_count": 13,
   "metadata": {},
   "outputs": [],
   "source": [
    "out_edges = pd.concat([edges_ok, edges_fixed])"
   ]
  },
  {
   "cell_type": "code",
   "execution_count": 14,
   "metadata": {},
   "outputs": [],
   "source": [
    "out_nodes = nodes.copy()"
   ]
  },
  {
   "cell_type": "code",
   "execution_count": 16,
   "metadata": {},
   "outputs": [],
   "source": [
    "out_nodes.to_parquet('/app/data/output/future_nodes.parquet')\n",
    "out_edges.to_parquet('/app/data/output/future_edges.parquet')"
   ]
  },
  {
   "cell_type": "code",
   "execution_count": 27,
   "metadata": {},
   "outputs": [
    {
     "name": "stdout",
     "output_type": "stream",
     "text": [
      "Generating contraction hierarchies with 16 threads.\n",
      "Setting CH node vector of size 36873\n",
      "Setting CH edge vector of size 81638\n",
      "Range graph removed 82016 edges of 163276\n",
      ". 10% . 20% . 30% . 40% . 50% . 60% . 70% . 80% . 90% . 100%\n"
     ]
    }
   ],
   "source": [
    "import pandana as pdna\n",
    "\n",
    "nodes_df = out_nodes\n",
    "edges_df = out_edges\n",
    "\n",
    "net = pdna.Network(\n",
    "    nodes_df['lon'],\n",
    "    nodes_df['lat'],\n",
    "    edges_df['from'],\n",
    "    edges_df['to'],\n",
    "    edges_df[['length']]\n",
    ")\n",
    "# Si llegaste hasta aqui sin errores, misión cumplida"
   ]
  }
 ],
 "metadata": {
  "kernelspec": {
   "display_name": "Python 3 (ipykernel)",
   "language": "python",
   "name": "python3"
  },
  "language_info": {
   "codemirror_mode": {
    "name": "ipython",
    "version": 3
   },
   "file_extension": ".py",
   "mimetype": "text/x-python",
   "name": "python",
   "nbconvert_exporter": "python",
   "pygments_lexer": "ipython3",
   "version": "3.9.18"
  }
 },
 "nbformat": 4,
 "nbformat_minor": 2
}
